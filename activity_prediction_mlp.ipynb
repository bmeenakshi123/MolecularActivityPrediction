{
 "cells": [
  {
   "cell_type": "code",
   "execution_count": 1,
   "metadata": {},
   "outputs": [
    {
     "name": "stderr",
     "output_type": "stream",
     "text": [
      "Using TensorFlow backend.\n"
     ]
    },
    {
     "name": "stdout",
     "output_type": "stream",
     "text": [
      "WARNING:tensorflow:From /home/ubuntu/anaconda3/envs/tensorflow_p36/lib/python3.6/site-packages/tensorflow_core/__init__.py:1467: The name tf.estimator.inputs is deprecated. Please use tf.compat.v1.estimator.inputs instead.\n",
      "\n"
     ]
    }
   ],
   "source": [
    "from keras import optimizers\n",
    "from keras.callbacks import ModelCheckpoint\n",
    "from keras import backend as K\n",
    "from keras import optimizers\n",
    "from keras.layers import Dense\n",
    "from keras.layers import Dense, Dropout\n",
    "from keras.models import Sequential\n",
    "from keras.wrappers.scikit_learn import KerasClassifier\n",
    "from pandas import ExcelFile\n",
    "from pandas import ExcelWriter\n",
    "from PIL import Image\n",
    "from scipy import ndimage\n",
    "from scipy.stats import randint as sp_randint\n",
    "from sklearn.base import BaseEstimator\n",
    "from sklearn.base import TransformerMixin\n",
    "from sklearn.ensemble import ExtraTreesClassifier\n",
    "from sklearn.ensemble import RandomForestClassifier\n",
    "from sklearn.feature_selection import SelectFromModel\n",
    "from sklearn import datasets\n",
    "from sklearn import metrics\n",
    "from sklearn import pipeline\n",
    "from sklearn.metrics import roc_auc_score, roc_curve\n",
    "from sklearn.model_selection import cross_val_score\n",
    "from sklearn.model_selection import GridSearchCV\n",
    "from sklearn.model_selection import PredefinedSplit\n",
    "from sklearn.model_selection import RandomizedSearchCV\n",
    "from sklearn.model_selection import ShuffleSplit\n",
    "from sklearn.model_selection import StratifiedKFold\n",
    "from sklearn.model_selection import train_test_split\n",
    "from sklearn.pipeline import Pipeline\n",
    "from sklearn.preprocessing import FunctionTransformer\n",
    "from sklearn.preprocessing import Imputer\n",
    "from sklearn.preprocessing import LabelEncoder\n",
    "from sklearn.preprocessing import StandardScaler\n",
    "from sklearn.utils import resample\n",
    "from tensorflow.python.framework import ops\n",
    "import h5py\n",
    "import keras\n",
    "import matplotlib.pyplot as plt\n",
    "import numpy as np\n",
    "import openpyxl\n",
    "import pandas as pd\n",
    "import scipy\n",
    "import tensorflow as tf\n",
    "import xlsxwriter\n",
    "\n",
    "import numpy as np\n",
    "from keras import layers\n",
    "from keras.layers import Input, Dense, Activation, ZeroPadding2D, BatchNormalization, Flatten, Conv2D\n",
    "from keras.layers import AveragePooling2D, MaxPooling2D, Dropout, GlobalMaxPooling2D, GlobalAveragePooling2D\n",
    "from keras.models import Model\n",
    "from keras.preprocessing import image\n",
    "from keras.utils import layer_utils\n",
    "from keras.utils.data_utils import get_file\n",
    "from keras.applications.imagenet_utils import preprocess_input\n",
    "#import pydot\n",
    "from IPython.display import SVG\n",
    "from keras.utils.vis_utils import model_to_dot\n",
    "from keras.utils import plot_model\n",
    "\n",
    "\n",
    "import keras.backend as K\n",
    "%load_ext autoreload\n",
    "%matplotlib inline"
   ]
  },
  {
   "cell_type": "code",
   "execution_count": 2,
   "metadata": {},
   "outputs": [
    {
     "name": "stdout",
     "output_type": "stream",
     "text": [
      "RDKit: 2019.09.3\n"
     ]
    },
    {
     "name": "stderr",
     "output_type": "stream",
     "text": [
      "RDKit WARNING: [15:48:58] Enabling RDKit 2019.09.3 jupyter extensions\n"
     ]
    }
   ],
   "source": [
    "from __future__ import print_function\n",
    "import rdkit\n",
    "from rdkit import Chem\n",
    "from rdkit.Chem import AllChem\n",
    "import pandas as pd\n",
    "import numpy as np\n",
    " \n",
    "from matplotlib import pyplot as plt\n",
    "%matplotlib inline\n",
    "print(\"RDKit: %s\"%rdkit.__version__)"
   ]
  },
  {
   "cell_type": "code",
   "execution_count": 3,
   "metadata": {},
   "outputs": [
    {
     "name": "stdout",
     "output_type": "stream",
     "text": [
      "Keras: 2.2.4\n"
     ]
    }
   ],
   "source": [
    "import keras\n",
    "from sklearn.utils import shuffle\n",
    "from keras.models import Sequential, Model\n",
    "from keras.layers import Conv2D, MaxPooling2D, Input, GlobalMaxPooling2D\n",
    "from keras.layers.core import Dense, Dropout, Activation, Flatten\n",
    "from keras.optimizers import Adam\n",
    "from keras.preprocessing.image import ImageDataGenerator\n",
    "from keras.callbacks import ReduceLROnPlateau\n",
    "print(\"Keras: %s\"%keras.__version__)"
   ]
  },
  {
   "cell_type": "code",
   "execution_count": 4,
   "metadata": {},
   "outputs": [],
   "source": [
    "data = pd.read_excel(r'IGC50.xlsx')"
   ]
  },
  {
   "cell_type": "code",
   "execution_count": 5,
   "metadata": {},
   "outputs": [],
   "source": [
    "data[\"mol\"] = data[\"smiles\"].apply(Chem.MolFromSmiles)"
   ]
  },
  {
   "cell_type": "code",
   "execution_count": 6,
   "metadata": {},
   "outputs": [],
   "source": [
    "def chemcepterize_mol(mol, embed=20.0, res=0.5):\n",
    "    dims = int(embed*2/res)\n",
    "    #print(dims)\n",
    "   \n",
    "    #print(mol)\n",
    "    #print(\",,,,,,,,,,,,,,,,,,,,,,\")\n",
    "    cmol = Chem.Mol(mol.ToBinary())\n",
    "    #print(cmol)\n",
    "    #print(\",,,,,,,,,,,,,,,,,,,,,,\")\n",
    "    cmol.ComputeGasteigerCharges()\n",
    "    AllChem.Compute2DCoords(cmol)\n",
    "    coords = cmol.GetConformer(0).GetPositions()\n",
    "    #print(coords)\n",
    "    #print(\",,,,,,,,,,,,,,,,,,,,,,\")\n",
    "    vect = np.zeros((dims,dims,4))\n",
    "    #Bonds first\n",
    "    for i,bond in enumerate(mol.GetBonds()):\n",
    "        bondorder = bond.GetBondTypeAsDouble()\n",
    "        bidx = bond.GetBeginAtomIdx()\n",
    "        eidx = bond.GetEndAtomIdx()\n",
    "        bcoords = coords[bidx]\n",
    "        ecoords = coords[eidx]\n",
    "        frac = np.linspace(0,1,int(1/res*2)) #\n",
    "        for f in frac:\n",
    "            c = (f*bcoords + (1-f)*ecoords)\n",
    "            idx = int(round((c[0] + embed)/res))\n",
    "            idy = int(round((c[1]+ embed)/res))\n",
    "            #Save in the vector first channel\n",
    "            vect[ idx , idy ,0] = bondorder\n",
    "    #Atom Layers\n",
    "    for i,atom in enumerate(cmol.GetAtoms()):\n",
    "            idx = int(round((coords[i][0] + embed)/res))\n",
    "            idy = int(round((coords[i][1]+ embed)/res))\n",
    "            #Atomic number\n",
    "            vect[ idx , idy, 1] = atom.GetAtomicNum()\n",
    "            #Gasteiger Charges\n",
    "            charge = atom.GetProp(\"_GasteigerCharge\")\n",
    "            vect[ idx , idy, 3] = charge\n",
    "            #Hybridization\n",
    "            hyptype = atom.GetHybridization().real\n",
    "            vect[ idx , idy, 2] = hyptype\n",
    "            \n",
    "    return vect"
   ]
  },
  {
   "cell_type": "code",
   "execution_count": 7,
   "metadata": {},
   "outputs": [
    {
     "name": "stderr",
     "output_type": "stream",
     "text": [
      "Clipping input data to the valid range for imshow with RGB data ([0..1] for floats or [0..255] for integers).\n"
     ]
    },
    {
     "name": "stdout",
     "output_type": "stream",
     "text": [
      "(100, 100, 4)\n"
     ]
    },
    {
     "data": {
      "text/plain": [
       "<matplotlib.image.AxesImage at 0x7f48b4095630>"
      ]
     },
     "execution_count": 7,
     "metadata": {},
     "output_type": "execute_result"
    },
    {
     "data": {
      "image/png": "[encoded data removed]",
      "text/plain": [
       "<Figure size 432x288 with 1 Axes>"
      ]
     },
     "metadata": {},
     "output_type": "display_data"
    }
   ],
   "source": [
    "mol = data[\"mol\"][104]\n",
    "v = chemcepterize_mol(mol, embed=10, res=0.2)\n",
    "\n",
    "print(v.shape)\n",
    "plt.imshow(v[:,:,:3])    \n"
   ]
  },
  {
   "cell_type": "code",
   "execution_count": 8,
   "metadata": {},
   "outputs": [],
   "source": [
    "def vectorize(mol):\n",
    "    return chemcepterize_mol(mol, embed=12)\n",
    "data[\"molimage\"] = data[\"mol\"].apply(vectorize)"
   ]
  },
  {
   "cell_type": "code",
   "execution_count": 9,
   "metadata": {},
   "outputs": [
    {
     "name": "stdout",
     "output_type": "stream",
     "text": [
      "(1434, 48, 48, 4)\n",
      "(358, 48, 48, 4)\n"
     ]
    }
   ],
   "source": [
    "X_train = np.array(list(data[\"molimage\"][data[\"split\"]==1]))\n",
    "X_test = np.array(list(data[\"molimage\"][data[\"split\"]==0]))\n",
    "print(X_train.shape)\n",
    "print(X_test.shape)"
   ]
  },
  {
   "cell_type": "code",
   "execution_count": 10,
   "metadata": {},
   "outputs": [],
   "source": [
    "assay = \"Activity\"\n",
    "y_train = data[assay][data[\"split\"]==1].values.reshape(-1,1)\n",
    "y_test = data[assay][data[\"split\"]==0].values.reshape(-1,1)"
   ]
  },
  {
   "cell_type": "code",
   "execution_count": 11,
   "metadata": {},
   "outputs": [
    {
     "name": "stdout",
     "output_type": "stream",
     "text": [
      "(1434, 1)\n"
     ]
    }
   ],
   "source": [
    "print(np.shape(y_train))"
   ]
  },
  {
   "cell_type": "code",
   "execution_count": null,
   "metadata": {},
   "outputs": [],
   "source": []
  },
  {
   "cell_type": "code",
   "execution_count": 12,
   "metadata": {},
   "outputs": [
    {
     "name": "stdout",
     "output_type": "stream",
     "text": [
      "(48, 48, 4)\n"
     ]
    }
   ],
   "source": [
    "input_shape = X_train.shape[1:]\n",
    "print(input_shape)\n",
    "from keras.layers import Dense, Dropout"
   ]
  },
  {
   "cell_type": "code",
   "execution_count": 13,
   "metadata": {},
   "outputs": [
    {
     "name": "stdout",
     "output_type": "stream",
     "text": [
      "WARNING:tensorflow:From /home/ubuntu/anaconda3/envs/tensorflow_p36/lib/python3.6/site-packages/keras/backend/tensorflow_backend.py:74: The name tf.get_default_graph is deprecated. Please use tf.compat.v1.get_default_graph instead.\n",
      "\n",
      "WARNING:tensorflow:From /home/ubuntu/anaconda3/envs/tensorflow_p36/lib/python3.6/site-packages/keras/backend/tensorflow_backend.py:517: The name tf.placeholder is deprecated. Please use tf.compat.v1.placeholder instead.\n",
      "\n",
      "WARNING:tensorflow:From /home/ubuntu/anaconda3/envs/tensorflow_p36/lib/python3.6/site-packages/keras/backend/tensorflow_backend.py:4138: The name tf.random_uniform is deprecated. Please use tf.random.uniform instead.\n",
      "\n",
      "WARNING:tensorflow:From /home/ubuntu/anaconda3/envs/tensorflow_p36/lib/python3.6/site-packages/keras/backend/tensorflow_backend.py:133: The name tf.placeholder_with_default is deprecated. Please use tf.compat.v1.placeholder_with_default instead.\n",
      "\n",
      "WARNING:tensorflow:From /home/ubuntu/anaconda3/envs/tensorflow_p36/lib/python3.6/site-packages/keras/backend/tensorflow_backend.py:3445: calling dropout (from tensorflow.python.ops.nn_ops) with keep_prob is deprecated and will be removed in a future version.\n",
      "Instructions for updating:\n",
      "Please use `rate` instead of `keep_prob`. Rate should be set to `rate = 1 - keep_prob`.\n",
      "_________________________________________________________________\n",
      "Layer (type)                 Output Shape              Param #   \n",
      "=================================================================\n",
      "input_1 (InputLayer)         (None, 48, 48, 4)         0         \n",
      "_________________________________________________________________\n",
      "dense_1 (Dense)              (None, 48, 48, 512)       2560      \n",
      "_________________________________________________________________\n",
      "dense_2 (Dense)              (None, 48, 48, 256)       131328    \n",
      "_________________________________________________________________\n",
      "dense_3 (Dense)              (None, 48, 48, 128)       32896     \n",
      "_________________________________________________________________\n",
      "dropout_1 (Dropout)          (None, 48, 48, 128)       0         \n",
      "_________________________________________________________________\n",
      "dense_4 (Dense)              (None, 48, 48, 64)        8256      \n",
      "_________________________________________________________________\n",
      "flatten_1 (Flatten)          (None, 147456)            0         \n",
      "_________________________________________________________________\n",
      "dense_5 (Dense)              (None, 100)               14745700  \n",
      "_________________________________________________________________\n",
      "dense_6 (Dense)              (None, 1)                 101       \n",
      "=================================================================\n",
      "Total params: 14,920,841\n",
      "Trainable params: 14,920,841\n",
      "Non-trainable params: 0\n",
      "_________________________________________________________________\n",
      "None\n"
     ]
    }
   ],
   "source": [
    "input_img = Input(shape=input_shape)\n",
    " \n",
    "x = Dense(512, activation='relu', input_shape=input_shape)(input_img)\n",
    "#x = Dropout(rate=0.2)(x)\n",
    "x = Dense(256, activation='relu')(x)\n",
    "#x = Dropout(rate=0.2)(x)\n",
    "x = Dense(128, activation='relu')(x)\n",
    "x = Dropout(rate=0.2)(x)\n",
    "x = Dense(64, activation='relu')(x)\n",
    "x = Flatten()(x)\n",
    "x = Dense(100, activation='relu')(x)\n",
    "output = Dense(1, activation='linear')(x)\n",
    " \n",
    "model = Model(inputs=input_img, outputs=output)\n",
    " \n",
    "print(model.summary())"
   ]
  },
  {
   "cell_type": "code",
   "execution_count": 14,
   "metadata": {},
   "outputs": [],
   "source": [
    "from keras.preprocessing.image import ImageDataGenerator\n",
    "generator = ImageDataGenerator(rotation_range=180,\n",
    "                               width_shift_range=0.1,height_shift_range=0.1,\n",
    "                               fill_mode=\"constant\",cval = 0,\n",
    "                               horizontal_flip=True, vertical_flip=True,data_format='channels_last',\n",
    "                            \n",
    "                               )\n"
   ]
  },
  {
   "cell_type": "code",
   "execution_count": 15,
   "metadata": {},
   "outputs": [],
   "source": [
    "def coeff_determination(y_true, y_pred):\n",
    "    from keras import backend as K\n",
    "    SS_res =  K.sum(K.square( y_true-y_pred ))\n",
    "    SS_tot = K.sum(K.square( y_true - K.mean(y_true) ) )\n",
    "    return ( 1 - SS_res/(SS_tot + K.epsilon()) )"
   ]
  },
  {
   "cell_type": "code",
   "execution_count": 16,
   "metadata": {},
   "outputs": [],
   "source": [
    "\n",
    "def get_lr_metric(optimizer):\n",
    "    def lr(y_true, y_pred):\n",
    "        return optimizer.lr\n",
    "    return lr\n"
   ]
  },
  {
   "cell_type": "code",
   "execution_count": 17,
   "metadata": {},
   "outputs": [],
   "source": [
    "def rmse(y_true, y_pred):\n",
    "        return K.sqrt(K.mean(K.square(y_pred - y_true)))"
   ]
  },
  {
   "cell_type": "code",
   "execution_count": 18,
   "metadata": {},
   "outputs": [
    {
     "name": "stdout",
     "output_type": "stream",
     "text": [
      "WARNING:tensorflow:From /home/ubuntu/anaconda3/envs/tensorflow_p36/lib/python3.6/site-packages/keras/optimizers.py:790: The name tf.train.Optimizer is deprecated. Please use tf.compat.v1.train.Optimizer instead.\n",
      "\n"
     ]
    }
   ],
   "source": [
    "optimizer = Adam(lr=0.00025)\n",
    "lr_metric = get_lr_metric(optimizer)\n",
    "model.compile(loss=\"mse\", optimizer=optimizer, metrics=[coeff_determination, lr_metric, rmse])"
   ]
  },
  {
   "cell_type": "code",
   "execution_count": 19,
   "metadata": {},
   "outputs": [],
   "source": [
    "from tensorflow.keras.callbacks import Callback\n",
    "class NBatchLogger(Callback):\n",
    "    \"\"\"\n",
    "    A Logger that log average performance per `display` steps.\n",
    "    \"\"\"\n",
    "    def __init__(self, display):\n",
    "        self.step = 0\n",
    "        self.display = display\n",
    "        self.metric_cache = {}\n",
    "        \n",
    "    #def on_train_begin(self, logs=None):\n",
    "    #    self.epochs = self.params['epochs']    \n",
    "\n",
    "    def on_epoch_end(self, epoch, logs={}):\n",
    "        #print('epoch', epoch)\n",
    "        #print('epoch summary', epoch.summary())\n",
    "        if int(epoch) % 10 == 0:  # or save after some epoch, each k-th epoch etc.\n",
    "            #self.model.save(\"model_{}.hd5\".format(epoch))\n",
    "        #self.step += 1\n",
    "            for k in self.params['metrics']:\n",
    "                if k in logs:\n",
    "                    self.metric_cache[k] = self.metric_cache.get(k, 0) + logs[k]\n",
    "        \n",
    "            metrics_log = ''\n",
    "            for (k, v) in self.metric_cache.items():\n",
    "                val = v / self.display\n",
    "                if abs(val) > 1e-3:\n",
    "                    metrics_log += ' - %s: %.4f' % (k, val)\n",
    "                else:\n",
    "                    metrics_log += ' - %s: %.4e' % (k, val)\n",
    "            print('step: {}/{} ... {}'.format(self.step,\n",
    "                                          self.params['steps'],\n",
    "                                          metrics_log))\n",
    "            self.metric_cache.clear()"
   ]
  },
  {
   "cell_type": "code",
   "execution_count": 20,
   "metadata": {},
   "outputs": [
    {
     "name": "stdout",
     "output_type": "stream",
     "text": [
      "WARNING:tensorflow:From /home/ubuntu/anaconda3/envs/tensorflow_p36/lib/python3.6/site-packages/keras/backend/tensorflow_backend.py:986: The name tf.assign_add is deprecated. Please use tf.compat.v1.assign_add instead.\n",
      "\n",
      "WARNING:tensorflow:From /home/ubuntu/anaconda3/envs/tensorflow_p36/lib/python3.6/site-packages/keras/backend/tensorflow_backend.py:973: The name tf.assign is deprecated. Please use tf.compat.v1.assign instead.\n",
      "\n",
      "WARNING:tensorflow:From /home/ubuntu/anaconda3/envs/tensorflow_p36/lib/python3.6/site-packages/keras/backend/tensorflow_backend.py:2741: The name tf.Session is deprecated. Please use tf.compat.v1.Session instead.\n",
      "\n",
      "Epoch 1/150\n",
      "WARNING:tensorflow:From /home/ubuntu/anaconda3/envs/tensorflow_p36/lib/python3.6/site-packages/keras/backend/tensorflow_backend.py:174: The name tf.get_default_session is deprecated. Please use tf.compat.v1.get_default_session instead.\n",
      "\n",
      "WARNING:tensorflow:From /home/ubuntu/anaconda3/envs/tensorflow_p36/lib/python3.6/site-packages/keras/backend/tensorflow_backend.py:181: The name tf.ConfigProto is deprecated. Please use tf.compat.v1.ConfigProto instead.\n",
      "\n",
      "WARNING:tensorflow:From /home/ubuntu/anaconda3/envs/tensorflow_p36/lib/python3.6/site-packages/keras/backend/tensorflow_backend.py:190: The name tf.global_variables is deprecated. Please use tf.compat.v1.global_variables instead.\n",
      "\n",
      "WARNING:tensorflow:From /home/ubuntu/anaconda3/envs/tensorflow_p36/lib/python3.6/site-packages/keras/backend/tensorflow_backend.py:199: The name tf.is_variable_initialized is deprecated. Please use tf.compat.v1.is_variable_initialized instead.\n",
      "\n",
      "WARNING:tensorflow:From /home/ubuntu/anaconda3/envs/tensorflow_p36/lib/python3.6/site-packages/keras/backend/tensorflow_backend.py:206: The name tf.variables_initializer is deprecated. Please use tf.compat.v1.variables_initializer instead.\n",
      "\n",
      "560/560 [==============================] - 209s 374ms/step - loss: 0.7370 - coeff_determination: 0.3491 - lr: 2.5000e-04 - rmse: 0.8287 - val_loss: 0.5502 - val_coeff_determination: 0.4328 - val_lr: 2.5000e-04 - val_rmse: 0.7381\n",
      "step: 0/560 ...  - loss: 0.0737 - coeff_determination: 0.0349 - lr: 2.5000e-05 - rmse: 0.0829 - val_loss: 0.0550 - val_coeff_determination: 0.0433 - val_lr: 2.5000e-05 - val_rmse: 0.0738\n",
      "Epoch 2/150\n",
      "560/560 [==============================] - 208s 371ms/step - loss: 0.6084 - coeff_determination: 0.4589 - lr: 2.5000e-04 - rmse: 0.7778 - val_loss: 0.5423 - val_coeff_determination: 0.4468 - val_lr: 2.5000e-04 - val_rmse: 0.7292\n",
      "Epoch 3/150\n",
      "560/560 [==============================] - 208s 371ms/step - loss: 0.5577 - coeff_determination: 0.5030 - lr: 2.5000e-04 - rmse: 0.7445 - val_loss: 0.4678 - val_coeff_determination: 0.5224 - val_lr: 2.5000e-04 - val_rmse: 0.6776\n",
      "Epoch 4/150\n",
      "560/560 [==============================] - 208s 371ms/step - loss: 0.5034 - coeff_determination: 0.5512 - lr: 2.5000e-04 - rmse: 0.7070 - val_loss: 0.4554 - val_coeff_determination: 0.5330 - val_lr: 2.5000e-04 - val_rmse: 0.6700\n",
      "Epoch 5/150\n",
      "560/560 [==============================] - 207s 370ms/step - loss: 0.4730 - coeff_determination: 0.5783 - lr: 2.5000e-04 - rmse: 0.6851 - val_loss: 0.4424 - val_coeff_determination: 0.5502 - val_lr: 2.5000e-04 - val_rmse: 0.6573\n",
      "Epoch 6/150\n",
      "560/560 [==============================] - 208s 371ms/step - loss: 0.4488 - coeff_determination: 0.5999 - lr: 2.5000e-04 - rmse: 0.6672 - val_loss: 0.4590 - val_coeff_determination: 0.5321 - val_lr: 2.5000e-04 - val_rmse: 0.6705\n",
      "Epoch 7/150\n",
      "560/560 [==============================] - 208s 371ms/step - loss: 0.4328 - coeff_determination: 0.6148 - lr: 2.5000e-04 - rmse: 0.6553 - val_loss: 0.4645 - val_coeff_determination: 0.5281 - val_lr: 2.5000e-04 - val_rmse: 0.6734\n",
      "Epoch 8/150\n",
      "560/560 [==============================] - 208s 371ms/step - loss: 0.4109 - coeff_determination: 0.6344 - lr: 2.5000e-04 - rmse: 0.6384 - val_loss: 0.3738 - val_coeff_determination: 0.6186 - val_lr: 2.5000e-04 - val_rmse: 0.6055\n",
      "Epoch 9/150\n",
      "560/560 [==============================] - 207s 370ms/step - loss: 0.4049 - coeff_determination: 0.6388 - lr: 2.5000e-04 - rmse: 0.6335 - val_loss: 0.3766 - val_coeff_determination: 0.6144 - val_lr: 2.5000e-04 - val_rmse: 0.6086\n",
      "Epoch 10/150\n",
      "560/560 [==============================] - 207s 370ms/step - loss: 0.3956 - coeff_determination: 0.6468 - lr: 2.5000e-04 - rmse: 0.6263 - val_loss: 0.4066 - val_coeff_determination: 0.5807 - val_lr: 2.5000e-04 - val_rmse: 0.6342\n",
      "Epoch 11/150\n",
      "560/560 [==============================] - 207s 370ms/step - loss: 0.3845 - coeff_determination: 0.6575 - lr: 2.5000e-04 - rmse: 0.6176 - val_loss: 0.4114 - val_coeff_determination: 0.5783 - val_lr: 2.5000e-04 - val_rmse: 0.6365\n",
      "step: 0/560 ...  - loss: 0.0384 - coeff_determination: 0.0658 - lr: 2.5000e-05 - rmse: 0.0618 - val_loss: 0.0411 - val_coeff_determination: 0.0578 - val_lr: 2.5000e-05 - val_rmse: 0.0636\n",
      "Epoch 12/150\n",
      "560/560 [==============================] - 207s 370ms/step - loss: 0.3782 - coeff_determination: 0.6640 - lr: 2.5000e-04 - rmse: 0.6125 - val_loss: 0.3928 - val_coeff_determination: 0.5953 - val_lr: 2.5000e-04 - val_rmse: 0.6235\n",
      "Epoch 13/150\n",
      "560/560 [==============================] - 207s 370ms/step - loss: 0.3737 - coeff_determination: 0.6669 - lr: 2.5000e-04 - rmse: 0.6088 - val_loss: 0.3640 - val_coeff_determination: 0.6232 - val_lr: 2.5000e-04 - val_rmse: 0.6009\n",
      "Epoch 14/150\n",
      "560/560 [==============================] - 207s 370ms/step - loss: 0.3618 - coeff_determination: 0.6765 - lr: 2.5000e-04 - rmse: 0.5992 - val_loss: 0.3385 - val_coeff_determination: 0.6507 - val_lr: 2.5000e-04 - val_rmse: 0.5791\n",
      "Epoch 15/150\n",
      "560/560 [==============================] - 207s 370ms/step - loss: 0.3551 - coeff_determination: 0.6834 - lr: 2.5000e-04 - rmse: 0.5938 - val_loss: 0.3675 - val_coeff_determination: 0.6218 - val_lr: 2.5000e-04 - val_rmse: 0.6027\n",
      "Epoch 16/150\n",
      "560/560 [==============================] - 207s 369ms/step - loss: 0.3471 - coeff_determination: 0.6899 - lr: 2.5000e-04 - rmse: 0.5871 - val_loss: 0.3453 - val_coeff_determination: 0.6450 - val_lr: 2.5000e-04 - val_rmse: 0.5841\n",
      "Epoch 17/150\n",
      "560/560 [==============================] - 207s 370ms/step - loss: 0.3422 - coeff_determination: 0.6947 - lr: 2.5000e-04 - rmse: 0.5828 - val_loss: 0.3961 - val_coeff_determination: 0.5905 - val_lr: 2.5000e-04 - val_rmse: 0.6269\n",
      "Epoch 18/150\n",
      "560/560 [==============================] - 207s 370ms/step - loss: 0.3367 - coeff_determination: 0.6992 - lr: 2.5000e-04 - rmse: 0.5780 - val_loss: 0.3507 - val_coeff_determination: 0.6390 - val_lr: 2.5000e-04 - val_rmse: 0.5886\n",
      "Epoch 19/150\n",
      "560/560 [==============================] - 207s 369ms/step - loss: 0.3298 - coeff_determination: 0.7057 - lr: 2.5000e-04 - rmse: 0.5720 - val_loss: 0.3734 - val_coeff_determination: 0.6108 - val_lr: 2.5000e-04 - val_rmse: 0.6100\n",
      "Epoch 20/150\n",
      "560/560 [==============================] - 207s 369ms/step - loss: 0.3164 - coeff_determination: 0.7177 - lr: 1.2500e-04 - rmse: 0.5602 - val_loss: 0.3897 - val_coeff_determination: 0.5966 - val_lr: 1.2500e-04 - val_rmse: 0.6219\n",
      "Epoch 21/150\n",
      "560/560 [==============================] - 207s 369ms/step - loss: 0.3120 - coeff_determination: 0.7219 - lr: 1.2500e-04 - rmse: 0.5565 - val_loss: 0.3750 - val_coeff_determination: 0.6113 - val_lr: 1.2500e-04 - val_rmse: 0.6102\n",
      "step: 0/560 ...  - loss: 0.0312 - coeff_determination: 0.0722 - lr: 1.2500e-05 - rmse: 0.0557 - val_loss: 0.0375 - val_coeff_determination: 0.0611 - val_lr: 1.2500e-05 - val_rmse: 0.0610\n",
      "Epoch 22/150\n",
      "560/560 [==============================] - 207s 370ms/step - loss: 0.3097 - coeff_determination: 0.7234 - lr: 1.2500e-04 - rmse: 0.5544 - val_loss: 0.3684 - val_coeff_determination: 0.6196 - val_lr: 1.2500e-04 - val_rmse: 0.6043\n",
      "Epoch 23/150\n",
      "560/560 [==============================] - 207s 369ms/step - loss: 0.3073 - coeff_determination: 0.7250 - lr: 1.2500e-04 - rmse: 0.5524 - val_loss: 0.3987 - val_coeff_determination: 0.5846 - val_lr: 1.2500e-04 - val_rmse: 0.6304\n",
      "Epoch 24/150\n",
      "560/560 [==============================] - 207s 370ms/step - loss: 0.3059 - coeff_determination: 0.7273 - lr: 1.2500e-04 - rmse: 0.5512 - val_loss: 0.3382 - val_coeff_determination: 0.6505 - val_lr: 1.2500e-04 - val_rmse: 0.5792\n",
      "Epoch 25/150\n"
     ]
    },
    {
     "name": "stdout",
     "output_type": "stream",
     "text": [
      "560/560 [==============================] - 207s 370ms/step - loss: 0.3012 - coeff_determination: 0.7306 - lr: 1.2500e-04 - rmse: 0.5469 - val_loss: 0.3376 - val_coeff_determination: 0.6513 - val_lr: 1.2500e-04 - val_rmse: 0.5786\n",
      "Epoch 26/150\n",
      "560/560 [==============================] - 207s 370ms/step - loss: 0.2990 - coeff_determination: 0.7331 - lr: 1.2500e-04 - rmse: 0.5450 - val_loss: 0.4046 - val_coeff_determination: 0.5798 - val_lr: 1.2500e-04 - val_rmse: 0.6345\n",
      "Epoch 27/150\n",
      "560/560 [==============================] - 207s 370ms/step - loss: 0.2961 - coeff_determination: 0.7352 - lr: 1.2500e-04 - rmse: 0.5423 - val_loss: 0.3839 - val_coeff_determination: 0.6019 - val_lr: 1.2500e-04 - val_rmse: 0.6178\n",
      "Epoch 28/150\n",
      "560/560 [==============================] - 207s 370ms/step - loss: 0.2953 - coeff_determination: 0.7365 - lr: 1.2500e-04 - rmse: 0.5414 - val_loss: 0.3505 - val_coeff_determination: 0.6375 - val_lr: 1.2500e-04 - val_rmse: 0.5898\n",
      "Epoch 29/150\n",
      "560/560 [==============================] - 207s 370ms/step - loss: 0.2932 - coeff_determination: 0.7387 - lr: 1.2500e-04 - rmse: 0.5395 - val_loss: 0.3593 - val_coeff_determination: 0.6281 - val_lr: 1.2500e-04 - val_rmse: 0.5973\n",
      "Epoch 30/150\n",
      "560/560 [==============================] - 207s 369ms/step - loss: 0.2906 - coeff_determination: 0.7406 - lr: 1.2500e-04 - rmse: 0.5370 - val_loss: 0.3171 - val_coeff_determination: 0.6724 - val_lr: 1.2500e-04 - val_rmse: 0.5608\n",
      "Epoch 31/150\n",
      "560/560 [==============================] - 207s 370ms/step - loss: 0.2887 - coeff_determination: 0.7411 - lr: 1.2500e-04 - rmse: 0.5353 - val_loss: 0.3471 - val_coeff_determination: 0.6405 - val_lr: 1.2500e-04 - val_rmse: 0.5872\n",
      "step: 0/560 ...  - loss: 0.0289 - coeff_determination: 0.0741 - lr: 1.2500e-05 - rmse: 0.0535 - val_loss: 0.0347 - val_coeff_determination: 0.0641 - val_lr: 1.2500e-05 - val_rmse: 0.0587\n",
      "Epoch 32/150\n",
      "560/560 [==============================] - 207s 370ms/step - loss: 0.2879 - coeff_determination: 0.7433 - lr: 1.2500e-04 - rmse: 0.5348 - val_loss: 0.3326 - val_coeff_determination: 0.6555 - val_lr: 1.2500e-04 - val_rmse: 0.5747\n",
      "Epoch 33/150\n",
      "560/560 [==============================] - 207s 370ms/step - loss: 0.2853 - coeff_determination: 0.7453 - lr: 1.2500e-04 - rmse: 0.5322 - val_loss: 0.2980 - val_coeff_determination: 0.6923 - val_lr: 1.2500e-04 - val_rmse: 0.5435\n",
      "Epoch 34/150\n",
      "560/560 [==============================] - 207s 370ms/step - loss: 0.2823 - coeff_determination: 0.7475 - lr: 1.2500e-04 - rmse: 0.5295 - val_loss: 0.3836 - val_coeff_determination: 0.6017 - val_lr: 1.2500e-04 - val_rmse: 0.6178\n",
      "Epoch 35/150\n",
      "560/560 [==============================] - 207s 370ms/step - loss: 0.2829 - coeff_determination: 0.7473 - lr: 1.2500e-04 - rmse: 0.5301 - val_loss: 0.3478 - val_coeff_determination: 0.6412 - val_lr: 1.2500e-04 - val_rmse: 0.5870\n",
      "Epoch 36/150\n",
      "560/560 [==============================] - 207s 370ms/step - loss: 0.2801 - coeff_determination: 0.7504 - lr: 1.2500e-04 - rmse: 0.5273 - val_loss: 0.3654 - val_coeff_determination: 0.6203 - val_lr: 1.2500e-04 - val_rmse: 0.6030\n",
      "Epoch 37/150\n",
      "560/560 [==============================] - 207s 370ms/step - loss: 0.2777 - coeff_determination: 0.7514 - lr: 1.2500e-04 - rmse: 0.5251 - val_loss: 0.3453 - val_coeff_determination: 0.6418 - val_lr: 1.2500e-04 - val_rmse: 0.5859\n",
      "Epoch 38/150\n",
      "560/560 [==============================] - 207s 370ms/step - loss: 0.2776 - coeff_determination: 0.7520 - lr: 1.2500e-04 - rmse: 0.5251 - val_loss: 0.3454 - val_coeff_determination: 0.6435 - val_lr: 1.2500e-04 - val_rmse: 0.5851\n",
      "Epoch 39/150\n",
      "560/560 [==============================] - 207s 370ms/step - loss: 0.2697 - coeff_determination: 0.7595 - lr: 6.2500e-05 - rmse: 0.5175 - val_loss: 0.3260 - val_coeff_determination: 0.6633 - val_lr: 6.2500e-05 - val_rmse: 0.5685\n",
      "Epoch 40/150\n",
      "560/560 [==============================] - 207s 370ms/step - loss: 0.2692 - coeff_determination: 0.7592 - lr: 6.2500e-05 - rmse: 0.5169 - val_loss: 0.3263 - val_coeff_determination: 0.6625 - val_lr: 6.2500e-05 - val_rmse: 0.5691\n",
      "Epoch 41/150\n",
      "560/560 [==============================] - 207s 370ms/step - loss: 0.2677 - coeff_determination: 0.7611 - lr: 6.2500e-05 - rmse: 0.5156 - val_loss: 0.3276 - val_coeff_determination: 0.6617 - val_lr: 6.2500e-05 - val_rmse: 0.5699\n",
      "step: 0/560 ...  - loss: 0.0268 - coeff_determination: 0.0761 - lr: 6.2500e-06 - rmse: 0.0515 - val_loss: 0.0328 - val_coeff_determination: 0.0662 - val_lr: 6.2500e-06 - val_rmse: 0.0570\n",
      "Epoch 42/150\n",
      "560/560 [==============================] - 207s 370ms/step - loss: 0.2648 - coeff_determination: 0.7634 - lr: 6.2500e-05 - rmse: 0.5127 - val_loss: 0.3435 - val_coeff_determination: 0.6468 - val_lr: 6.2500e-05 - val_rmse: 0.5825\n",
      "Epoch 43/150\n",
      "560/560 [==============================] - 207s 369ms/step - loss: 0.2660 - coeff_determination: 0.7621 - lr: 6.2500e-05 - rmse: 0.5139 - val_loss: 0.3238 - val_coeff_determination: 0.6660 - val_lr: 6.2500e-05 - val_rmse: 0.5663\n",
      "Epoch 44/150\n",
      "560/560 [==============================] - 207s 370ms/step - loss: 0.2635 - coeff_determination: 0.7653 - lr: 3.1250e-05 - rmse: 0.5114 - val_loss: 0.3221 - val_coeff_determination: 0.6673 - val_lr: 3.1250e-05 - val_rmse: 0.5651\n",
      "Epoch 45/150\n",
      "560/560 [==============================] - 207s 369ms/step - loss: 0.2616 - coeff_determination: 0.7660 - lr: 3.1250e-05 - rmse: 0.5096 - val_loss: 0.3393 - val_coeff_determination: 0.6493 - val_lr: 3.1250e-05 - val_rmse: 0.5802\n",
      "Epoch 46/150\n",
      "560/560 [==============================] - 207s 369ms/step - loss: 0.2613 - coeff_determination: 0.7673 - lr: 3.1250e-05 - rmse: 0.5093 - val_loss: 0.3181 - val_coeff_determination: 0.6712 - val_lr: 3.1250e-05 - val_rmse: 0.5618\n",
      "Epoch 47/150\n",
      "560/560 [==============================] - 207s 370ms/step - loss: 0.2595 - coeff_determination: 0.7680 - lr: 3.1250e-05 - rmse: 0.5076 - val_loss: 0.3086 - val_coeff_determination: 0.6818 - val_lr: 3.1250e-05 - val_rmse: 0.5527\n",
      "Epoch 48/150\n",
      "560/560 [==============================] - 207s 370ms/step - loss: 0.2609 - coeff_determination: 0.7667 - lr: 3.1250e-05 - rmse: 0.5090 - val_loss: 0.3145 - val_coeff_determination: 0.6754 - val_lr: 3.1250e-05 - val_rmse: 0.5583\n",
      "Epoch 49/150\n",
      "560/560 [==============================] - 207s 370ms/step - loss: 0.2590 - coeff_determination: 0.7686 - lr: 1.5625e-05 - rmse: 0.5073 - val_loss: 0.3156 - val_coeff_determination: 0.6746 - val_lr: 1.5625e-05 - val_rmse: 0.5590\n",
      "Epoch 50/150\n",
      "560/560 [==============================] - 207s 370ms/step - loss: 0.2569 - coeff_determination: 0.7695 - lr: 1.5625e-05 - rmse: 0.5052 - val_loss: 0.3235 - val_coeff_determination: 0.6661 - val_lr: 1.5625e-05 - val_rmse: 0.5662\n",
      "Epoch 51/150\n",
      "560/560 [==============================] - 207s 369ms/step - loss: 0.2571 - coeff_determination: 0.7705 - lr: 1.5625e-05 - rmse: 0.5053 - val_loss: 0.3259 - val_coeff_determination: 0.6642 - val_lr: 1.5625e-05 - val_rmse: 0.5679\n",
      "step: 0/560 ...  - loss: 0.0257 - coeff_determination: 0.0770 - lr: 1.5625e-06 - rmse: 0.0505 - val_loss: 0.0326 - val_coeff_determination: 0.0664 - val_lr: 1.5625e-06 - val_rmse: 0.0568\n",
      "Epoch 52/150\n",
      "560/560 [==============================] - 207s 370ms/step - loss: 0.2586 - coeff_determination: 0.7689 - lr: 1.5625e-05 - rmse: 0.5065 - val_loss: 0.3290 - val_coeff_determination: 0.6603 - val_lr: 1.5625e-05 - val_rmse: 0.5711\n",
      "Epoch 53/150\n",
      "560/560 [==============================] - 207s 370ms/step - loss: 0.2559 - coeff_determination: 0.7704 - lr: 1.5625e-05 - rmse: 0.5041 - val_loss: 0.3253 - val_coeff_determination: 0.6640 - val_lr: 1.5625e-05 - val_rmse: 0.5679\n",
      "Epoch 54/150\n",
      "560/560 [==============================] - 207s 370ms/step - loss: 0.2549 - coeff_determination: 0.7722 - lr: 7.8125e-06 - rmse: 0.5031 - val_loss: 0.3218 - val_coeff_determination: 0.6678 - val_lr: 7.8125e-06 - val_rmse: 0.5647\n",
      "Epoch 55/150\n",
      "560/560 [==============================] - 207s 370ms/step - loss: 0.2568 - coeff_determination: 0.7714 - lr: 7.8125e-06 - rmse: 0.5048 - val_loss: 0.3161 - val_coeff_determination: 0.6737 - val_lr: 7.8125e-06 - val_rmse: 0.5597\n",
      "Epoch 56/150\n",
      "560/560 [==============================] - 207s 370ms/step - loss: 0.2558 - coeff_determination: 0.7717 - lr: 7.8125e-06 - rmse: 0.5039 - val_loss: 0.3077 - val_coeff_determination: 0.6826 - val_lr: 7.8125e-06 - val_rmse: 0.5520\n"
     ]
    },
    {
     "name": "stdout",
     "output_type": "stream",
     "text": [
      "Epoch 57/150\n",
      "560/560 [==============================] - 207s 370ms/step - loss: 0.2551 - coeff_determination: 0.7723 - lr: 7.8125e-06 - rmse: 0.5033 - val_loss: 0.3178 - val_coeff_determination: 0.6718 - val_lr: 7.8125e-06 - val_rmse: 0.5613\n",
      "Epoch 58/150\n",
      "560/560 [==============================] - 207s 370ms/step - loss: 0.2539 - coeff_determination: 0.7723 - lr: 7.8125e-06 - rmse: 0.5021 - val_loss: 0.3152 - val_coeff_determination: 0.6745 - val_lr: 7.8125e-06 - val_rmse: 0.5590\n",
      "Epoch 59/150\n",
      "560/560 [==============================] - 207s 370ms/step - loss: 0.2554 - coeff_determination: 0.7711 - lr: 3.9063e-06 - rmse: 0.5038 - val_loss: 0.3114 - val_coeff_determination: 0.6787 - val_lr: 3.9063e-06 - val_rmse: 0.5555\n",
      "Epoch 60/150\n",
      "560/560 [==============================] - 207s 370ms/step - loss: 0.2546 - coeff_determination: 0.7724 - lr: 3.9063e-06 - rmse: 0.5028 - val_loss: 0.3099 - val_coeff_determination: 0.6804 - val_lr: 3.9063e-06 - val_rmse: 0.5540\n",
      "Epoch 61/150\n",
      "560/560 [==============================] - 207s 370ms/step - loss: 0.2539 - coeff_determination: 0.7739 - lr: 3.9063e-06 - rmse: 0.5023 - val_loss: 0.3104 - val_coeff_determination: 0.6795 - val_lr: 3.9063e-06 - val_rmse: 0.5547\n",
      "step: 0/560 ...  - loss: 0.0254 - coeff_determination: 0.0774 - lr: 3.9063e-07 - rmse: 0.0502 - val_loss: 0.0310 - val_coeff_determination: 0.0680 - val_lr: 3.9063e-07 - val_rmse: 0.0555\n",
      "Epoch 62/150\n",
      "560/560 [==============================] - 207s 370ms/step - loss: 0.2548 - coeff_determination: 0.7722 - lr: 3.9063e-06 - rmse: 0.5028 - val_loss: 0.3106 - val_coeff_determination: 0.6792 - val_lr: 3.9063e-06 - val_rmse: 0.5549\n",
      "Epoch 63/150\n",
      "560/560 [==============================] - 207s 370ms/step - loss: 0.2545 - coeff_determination: 0.7728 - lr: 3.9063e-06 - rmse: 0.5027 - val_loss: 0.3097 - val_coeff_determination: 0.6798 - val_lr: 3.9063e-06 - val_rmse: 0.5543\n",
      "Epoch 64/150\n",
      "560/560 [==============================] - 207s 370ms/step - loss: 0.2544 - coeff_determination: 0.7721 - lr: 1.9531e-06 - rmse: 0.5024 - val_loss: 0.3083 - val_coeff_determination: 0.6814 - val_lr: 1.9531e-06 - val_rmse: 0.5530\n",
      "Epoch 65/150\n",
      "560/560 [==============================] - 207s 370ms/step - loss: 0.2530 - coeff_determination: 0.7739 - lr: 1.9531e-06 - rmse: 0.5013 - val_loss: 0.3113 - val_coeff_determination: 0.6783 - val_lr: 1.9531e-06 - val_rmse: 0.5557\n",
      "Epoch 66/150\n",
      "560/560 [==============================] - 207s 370ms/step - loss: 0.2540 - coeff_determination: 0.7733 - lr: 1.9531e-06 - rmse: 0.5020 - val_loss: 0.3168 - val_coeff_determination: 0.6725 - val_lr: 1.9531e-06 - val_rmse: 0.5606\n",
      "Epoch 67/150\n",
      "560/560 [==============================] - 207s 370ms/step - loss: 0.2530 - coeff_determination: 0.7747 - lr: 1.9531e-06 - rmse: 0.5011 - val_loss: 0.3134 - val_coeff_determination: 0.6761 - val_lr: 1.9531e-06 - val_rmse: 0.5575\n",
      "Epoch 68/150\n",
      "560/560 [==============================] - 207s 370ms/step - loss: 0.2557 - coeff_determination: 0.7712 - lr: 1.9531e-06 - rmse: 0.5038 - val_loss: 0.3142 - val_coeff_determination: 0.6753 - val_lr: 1.9531e-06 - val_rmse: 0.5582\n",
      "Epoch 69/150\n",
      "560/560 [==============================] - 207s 370ms/step - loss: 0.2528 - coeff_determination: 0.7733 - lr: 9.7656e-07 - rmse: 0.5012 - val_loss: 0.3113 - val_coeff_determination: 0.6785 - val_lr: 9.7656e-07 - val_rmse: 0.5555\n",
      "Epoch 70/150\n",
      "560/560 [==============================] - 207s 370ms/step - loss: 0.2524 - coeff_determination: 0.7736 - lr: 9.7656e-07 - rmse: 0.5006 - val_loss: 0.3148 - val_coeff_determination: 0.6747 - val_lr: 9.7656e-07 - val_rmse: 0.5587\n",
      "Epoch 71/150\n",
      "560/560 [==============================] - 207s 370ms/step - loss: 0.2540 - coeff_determination: 0.7744 - lr: 9.7656e-07 - rmse: 0.5022 - val_loss: 0.3121 - val_coeff_determination: 0.6775 - val_lr: 9.7656e-07 - val_rmse: 0.5564\n",
      "step: 0/560 ...  - loss: 0.0254 - coeff_determination: 0.0774 - lr: 9.7656e-08 - rmse: 0.0502 - val_loss: 0.0312 - val_coeff_determination: 0.0677 - val_lr: 9.7656e-08 - val_rmse: 0.0556\n",
      "Epoch 72/150\n",
      "560/560 [==============================] - 207s 370ms/step - loss: 0.2535 - coeff_determination: 0.7728 - lr: 9.7656e-07 - rmse: 0.5016 - val_loss: 0.3121 - val_coeff_determination: 0.6774 - val_lr: 9.7656e-07 - val_rmse: 0.5564\n",
      "Epoch 73/150\n",
      "560/560 [==============================] - 207s 370ms/step - loss: 0.2536 - coeff_determination: 0.7725 - lr: 9.7656e-07 - rmse: 0.5018 - val_loss: 0.3093 - val_coeff_determination: 0.6804 - val_lr: 9.7656e-07 - val_rmse: 0.5538\n",
      "Epoch 74/150\n",
      "560/560 [==============================] - 207s 370ms/step - loss: 0.2545 - coeff_determination: 0.7727 - lr: 4.8828e-07 - rmse: 0.5027 - val_loss: 0.3149 - val_coeff_determination: 0.6746 - val_lr: 4.8828e-07 - val_rmse: 0.5588\n",
      "Epoch 75/150\n",
      "560/560 [==============================] - 207s 370ms/step - loss: 0.2547 - coeff_determination: 0.7728 - lr: 4.8828e-07 - rmse: 0.5027 - val_loss: 0.3123 - val_coeff_determination: 0.6772 - val_lr: 4.8828e-07 - val_rmse: 0.5566\n",
      "Epoch 76/150\n",
      "560/560 [==============================] - 207s 370ms/step - loss: 0.2525 - coeff_determination: 0.7746 - lr: 4.8828e-07 - rmse: 0.5006 - val_loss: 0.3107 - val_coeff_determination: 0.6790 - val_lr: 4.8828e-07 - val_rmse: 0.5551\n",
      "Epoch 77/150\n",
      "560/560 [==============================] - 207s 370ms/step - loss: 0.2523 - coeff_determination: 0.7747 - lr: 4.8828e-07 - rmse: 0.5005 - val_loss: 0.3122 - val_coeff_determination: 0.6773 - val_lr: 4.8828e-07 - val_rmse: 0.5565\n",
      "Epoch 78/150\n",
      "560/560 [==============================] - 207s 370ms/step - loss: 0.2538 - coeff_determination: 0.7728 - lr: 4.8828e-07 - rmse: 0.5020 - val_loss: 0.3112 - val_coeff_determination: 0.6783 - val_lr: 4.8828e-07 - val_rmse: 0.5556\n",
      "Epoch 79/150\n",
      "560/560 [==============================] - 207s 370ms/step - loss: 0.2527 - coeff_determination: 0.7742 - lr: 2.4414e-07 - rmse: 0.5009 - val_loss: 0.3124 - val_coeff_determination: 0.6772 - val_lr: 2.4414e-07 - val_rmse: 0.5566\n",
      "Epoch 80/150\n",
      "560/560 [==============================] - 207s 370ms/step - loss: 0.2529 - coeff_determination: 0.7738 - lr: 2.4414e-07 - rmse: 0.5012 - val_loss: 0.3119 - val_coeff_determination: 0.6777 - val_lr: 2.4414e-07 - val_rmse: 0.5562\n",
      "Epoch 81/150\n",
      "560/560 [==============================] - 207s 370ms/step - loss: 0.2540 - coeff_determination: 0.7737 - lr: 2.4414e-07 - rmse: 0.5023 - val_loss: 0.3112 - val_coeff_determination: 0.6784 - val_lr: 2.4414e-07 - val_rmse: 0.5556\n",
      "step: 0/560 ...  - loss: 0.0254 - coeff_determination: 0.0774 - lr: 2.4414e-08 - rmse: 0.0502 - val_loss: 0.0311 - val_coeff_determination: 0.0678 - val_lr: 2.4414e-08 - val_rmse: 0.0556\n",
      "Epoch 82/150\n",
      "560/560 [==============================] - 207s 370ms/step - loss: 0.2541 - coeff_determination: 0.7730 - lr: 2.4414e-07 - rmse: 0.5024 - val_loss: 0.3130 - val_coeff_determination: 0.6765 - val_lr: 2.4414e-07 - val_rmse: 0.5572\n",
      "Epoch 83/150\n",
      "560/560 [==============================] - 208s 371ms/step - loss: 0.2531 - coeff_determination: 0.7741 - lr: 2.4414e-07 - rmse: 0.5013 - val_loss: 0.3123 - val_coeff_determination: 0.6772 - val_lr: 2.4414e-07 - val_rmse: 0.5566\n",
      "Epoch 84/150\n",
      "560/560 [==============================] - 207s 370ms/step - loss: 0.2527 - coeff_determination: 0.7749 - lr: 1.2207e-07 - rmse: 0.5007 - val_loss: 0.3126 - val_coeff_determination: 0.6769 - val_lr: 1.2207e-07 - val_rmse: 0.5568\n",
      "Epoch 85/150\n",
      "560/560 [==============================] - 207s 370ms/step - loss: 0.2536 - coeff_determination: 0.7733 - lr: 1.2207e-07 - rmse: 0.5017 - val_loss: 0.3122 - val_coeff_determination: 0.6773 - val_lr: 1.2207e-07 - val_rmse: 0.5565\n",
      "Epoch 86/150\n",
      "560/560 [==============================] - 207s 370ms/step - loss: 0.2530 - coeff_determination: 0.7744 - lr: 1.2207e-07 - rmse: 0.5012 - val_loss: 0.3128 - val_coeff_determination: 0.6766 - val_lr: 1.2207e-07 - val_rmse: 0.5571\n",
      "Epoch 87/150\n",
      "560/560 [==============================] - 207s 370ms/step - loss: 0.2541 - coeff_determination: 0.7728 - lr: 1.2207e-07 - rmse: 0.5023 - val_loss: 0.3117 - val_coeff_determination: 0.6778 - val_lr: 1.2207e-07 - val_rmse: 0.5561\n",
      "Epoch 88/150\n"
     ]
    },
    {
     "name": "stdout",
     "output_type": "stream",
     "text": [
      "560/560 [==============================] - 207s 370ms/step - loss: 0.2528 - coeff_determination: 0.7726 - lr: 1.2207e-07 - rmse: 0.5009 - val_loss: 0.3130 - val_coeff_determination: 0.6764 - val_lr: 1.2207e-07 - val_rmse: 0.5573\n",
      "Epoch 89/150\n",
      "560/560 [==============================] - 207s 370ms/step - loss: 0.2523 - coeff_determination: 0.7744 - lr: 6.1035e-08 - rmse: 0.5007 - val_loss: 0.3126 - val_coeff_determination: 0.6769 - val_lr: 6.1035e-08 - val_rmse: 0.5568\n",
      "Epoch 90/150\n",
      "560/560 [==============================] - 207s 370ms/step - loss: 0.2556 - coeff_determination: 0.7719 - lr: 6.1035e-08 - rmse: 0.5036 - val_loss: 0.3127 - val_coeff_determination: 0.6768 - val_lr: 6.1035e-08 - val_rmse: 0.5569\n",
      "Epoch 91/150\n",
      "560/560 [==============================] - 207s 370ms/step - loss: 0.2541 - coeff_determination: 0.7725 - lr: 6.1035e-08 - rmse: 0.5023 - val_loss: 0.3125 - val_coeff_determination: 0.6770 - val_lr: 6.1035e-08 - val_rmse: 0.5568\n",
      "step: 0/560 ...  - loss: 0.0254 - coeff_determination: 0.0773 - lr: 6.1035e-09 - rmse: 0.0502 - val_loss: 0.0313 - val_coeff_determination: 0.0677 - val_lr: 6.1035e-09 - val_rmse: 0.0557\n",
      "Epoch 92/150\n",
      "560/560 [==============================] - 207s 370ms/step - loss: 0.2531 - coeff_determination: 0.7738 - lr: 6.1035e-08 - rmse: 0.5014 - val_loss: 0.3125 - val_coeff_determination: 0.6770 - val_lr: 6.1035e-08 - val_rmse: 0.5567\n",
      "Epoch 93/150\n",
      "560/560 [==============================] - 208s 371ms/step - loss: 0.2525 - coeff_determination: 0.7742 - lr: 6.1035e-08 - rmse: 0.5006 - val_loss: 0.3121 - val_coeff_determination: 0.6774 - val_lr: 6.1035e-08 - val_rmse: 0.5565\n",
      "Epoch 94/150\n",
      "560/560 [==============================] - 207s 370ms/step - loss: 0.2531 - coeff_determination: 0.7745 - lr: 3.0518e-08 - rmse: 0.5014 - val_loss: 0.3122 - val_coeff_determination: 0.6773 - val_lr: 3.0518e-08 - val_rmse: 0.5565\n",
      "Epoch 95/150\n",
      "560/560 [==============================] - 207s 370ms/step - loss: 0.2526 - coeff_determination: 0.7739 - lr: 3.0518e-08 - rmse: 0.5006 - val_loss: 0.3126 - val_coeff_determination: 0.6769 - val_lr: 3.0518e-08 - val_rmse: 0.5568\n",
      "Epoch 96/150\n",
      "560/560 [==============================] - 207s 370ms/step - loss: 0.2546 - coeff_determination: 0.7723 - lr: 3.0518e-08 - rmse: 0.5028 - val_loss: 0.3125 - val_coeff_determination: 0.6770 - val_lr: 3.0518e-08 - val_rmse: 0.5568\n",
      "Epoch 97/150\n",
      "560/560 [==============================] - 207s 370ms/step - loss: 0.2532 - coeff_determination: 0.7740 - lr: 3.0518e-08 - rmse: 0.5014 - val_loss: 0.3124 - val_coeff_determination: 0.6771 - val_lr: 3.0518e-08 - val_rmse: 0.5567\n",
      "Epoch 98/150\n",
      "560/560 [==============================] - 207s 370ms/step - loss: 0.2548 - coeff_determination: 0.7735 - lr: 3.0518e-08 - rmse: 0.5032 - val_loss: 0.3125 - val_coeff_determination: 0.6770 - val_lr: 3.0518e-08 - val_rmse: 0.5567\n",
      "Epoch 99/150\n",
      "560/560 [==============================] - 207s 370ms/step - loss: 0.2516 - coeff_determination: 0.7748 - lr: 1.5259e-08 - rmse: 0.4999 - val_loss: 0.3125 - val_coeff_determination: 0.6770 - val_lr: 1.5259e-08 - val_rmse: 0.5568\n",
      "Epoch 100/150\n",
      "560/560 [==============================] - 207s 370ms/step - loss: 0.2529 - coeff_determination: 0.7732 - lr: 1.5259e-08 - rmse: 0.5009 - val_loss: 0.3125 - val_coeff_determination: 0.6770 - val_lr: 1.5259e-08 - val_rmse: 0.5568\n",
      "Epoch 101/150\n",
      "560/560 [==============================] - 207s 370ms/step - loss: 0.2546 - coeff_determination: 0.7738 - lr: 1.5259e-08 - rmse: 0.5028 - val_loss: 0.3125 - val_coeff_determination: 0.6770 - val_lr: 1.5259e-08 - val_rmse: 0.5568\n",
      "step: 0/560 ...  - loss: 0.0255 - coeff_determination: 0.0774 - lr: 1.5259e-09 - rmse: 0.0503 - val_loss: 0.0313 - val_coeff_determination: 0.0677 - val_lr: 1.5259e-09 - val_rmse: 0.0557\n",
      "Epoch 102/150\n",
      "560/560 [==============================] - 207s 370ms/step - loss: 0.2540 - coeff_determination: 0.7722 - lr: 1.5259e-08 - rmse: 0.5022 - val_loss: 0.3125 - val_coeff_determination: 0.6770 - val_lr: 1.5259e-08 - val_rmse: 0.5567\n",
      "Epoch 103/150\n",
      "560/560 [==============================] - 207s 370ms/step - loss: 0.2503 - coeff_determination: 0.7757 - lr: 1.5259e-08 - rmse: 0.4985 - val_loss: 0.3125 - val_coeff_determination: 0.6770 - val_lr: 1.5259e-08 - val_rmse: 0.5568\n",
      "Epoch 104/150\n",
      "560/560 [==============================] - 207s 370ms/step - loss: 0.2546 - coeff_determination: 0.7734 - lr: 7.6294e-09 - rmse: 0.5029 - val_loss: 0.3125 - val_coeff_determination: 0.6770 - val_lr: 7.6294e-09 - val_rmse: 0.5568\n",
      "Epoch 105/150\n",
      "560/560 [==============================] - 207s 370ms/step - loss: 0.2530 - coeff_determination: 0.7746 - lr: 7.6294e-09 - rmse: 0.5012 - val_loss: 0.3124 - val_coeff_determination: 0.6770 - val_lr: 7.6294e-09 - val_rmse: 0.5567\n",
      "Epoch 106/150\n",
      "560/560 [==============================] - 208s 371ms/step - loss: 0.2552 - coeff_determination: 0.7717 - lr: 7.6294e-09 - rmse: 0.5033 - val_loss: 0.3125 - val_coeff_determination: 0.6770 - val_lr: 7.6294e-09 - val_rmse: 0.5567\n",
      "Epoch 107/150\n",
      "560/560 [==============================] - 207s 370ms/step - loss: 0.2522 - coeff_determination: 0.7744 - lr: 7.6294e-09 - rmse: 0.5003 - val_loss: 0.3124 - val_coeff_determination: 0.6771 - val_lr: 7.6294e-09 - val_rmse: 0.5567\n",
      "Epoch 108/150\n",
      "560/560 [==============================] - 207s 370ms/step - loss: 0.2551 - coeff_determination: 0.7729 - lr: 7.6294e-09 - rmse: 0.5034 - val_loss: 0.3124 - val_coeff_determination: 0.6771 - val_lr: 7.6294e-09 - val_rmse: 0.5567\n",
      "Epoch 109/150\n",
      "560/560 [==============================] - 207s 370ms/step - loss: 0.2522 - coeff_determination: 0.7741 - lr: 3.8147e-09 - rmse: 0.5005 - val_loss: 0.3124 - val_coeff_determination: 0.6771 - val_lr: 3.8147e-09 - val_rmse: 0.5567\n",
      "Epoch 110/150\n",
      "560/560 [==============================] - 208s 371ms/step - loss: 0.2535 - coeff_determination: 0.7740 - lr: 3.8147e-09 - rmse: 0.5016 - val_loss: 0.3124 - val_coeff_determination: 0.6771 - val_lr: 3.8147e-09 - val_rmse: 0.5567\n",
      "Epoch 111/150\n",
      "560/560 [==============================] - 207s 370ms/step - loss: 0.2546 - coeff_determination: 0.7730 - lr: 3.8147e-09 - rmse: 0.5028 - val_loss: 0.3124 - val_coeff_determination: 0.6771 - val_lr: 3.8147e-09 - val_rmse: 0.5567\n",
      "step: 0/560 ...  - loss: 0.0254 - coeff_determination: 0.0773 - lr: 3.8147e-10 - rmse: 0.0503 - val_loss: 0.0312 - val_coeff_determination: 0.0677 - val_lr: 3.8147e-10 - val_rmse: 0.0557\n",
      "Epoch 112/150\n",
      "560/560 [==============================] - 207s 370ms/step - loss: 0.2530 - coeff_determination: 0.7738 - lr: 3.8147e-09 - rmse: 0.5012 - val_loss: 0.3124 - val_coeff_determination: 0.6771 - val_lr: 3.8147e-09 - val_rmse: 0.5567\n",
      "Epoch 113/150\n",
      "560/560 [==============================] - 207s 371ms/step - loss: 0.2541 - coeff_determination: 0.7732 - lr: 3.8147e-09 - rmse: 0.5020 - val_loss: 0.3124 - val_coeff_determination: 0.6771 - val_lr: 3.8147e-09 - val_rmse: 0.5567\n",
      "Epoch 114/150\n",
      "560/560 [==============================] - 207s 370ms/step - loss: 0.2537 - coeff_determination: 0.7740 - lr: 1.9073e-09 - rmse: 0.5021 - val_loss: 0.3124 - val_coeff_determination: 0.6771 - val_lr: 1.9073e-09 - val_rmse: 0.5567\n",
      "Epoch 115/150\n",
      "560/560 [==============================] - 207s 370ms/step - loss: 0.2528 - coeff_determination: 0.7735 - lr: 1.9073e-09 - rmse: 0.5011 - val_loss: 0.3124 - val_coeff_determination: 0.6771 - val_lr: 1.9073e-09 - val_rmse: 0.5567\n",
      "Epoch 116/150\n",
      "560/560 [==============================] - 208s 371ms/step - loss: 0.2527 - coeff_determination: 0.7743 - lr: 1.9073e-09 - rmse: 0.5008 - val_loss: 0.3124 - val_coeff_determination: 0.6771 - val_lr: 1.9073e-09 - val_rmse: 0.5567\n",
      "Epoch 117/150\n",
      "560/560 [==============================] - 207s 370ms/step - loss: 0.2527 - coeff_determination: 0.7744 - lr: 1.9073e-09 - rmse: 0.5010 - val_loss: 0.3124 - val_coeff_determination: 0.6771 - val_lr: 1.9073e-09 - val_rmse: 0.5567\n",
      "Epoch 118/150\n",
      "560/560 [==============================] - 208s 371ms/step - loss: 0.2551 - coeff_determination: 0.7715 - lr: 1.9073e-09 - rmse: 0.5034 - val_loss: 0.3124 - val_coeff_determination: 0.6771 - val_lr: 1.9073e-09 - val_rmse: 0.5567\n",
      "Epoch 119/150\n"
     ]
    },
    {
     "name": "stdout",
     "output_type": "stream",
     "text": [
      "560/560 [==============================] - 208s 371ms/step - loss: 0.2513 - coeff_determination: 0.7760 - lr: 9.5367e-10 - rmse: 0.4993 - val_loss: 0.3124 - val_coeff_determination: 0.6771 - val_lr: 9.5367e-10 - val_rmse: 0.5567\n",
      "Epoch 120/150\n",
      "560/560 [==============================] - 207s 370ms/step - loss: 0.2557 - coeff_determination: 0.7713 - lr: 9.5367e-10 - rmse: 0.5038 - val_loss: 0.3124 - val_coeff_determination: 0.6771 - val_lr: 9.5367e-10 - val_rmse: 0.5567\n",
      "Epoch 121/150\n",
      "560/560 [==============================] - 208s 371ms/step - loss: 0.2522 - coeff_determination: 0.7748 - lr: 9.5367e-10 - rmse: 0.5004 - val_loss: 0.3124 - val_coeff_determination: 0.6771 - val_lr: 9.5367e-10 - val_rmse: 0.5567\n",
      "step: 0/560 ...  - loss: 0.0252 - coeff_determination: 0.0775 - lr: 9.5367e-11 - rmse: 0.0500 - val_loss: 0.0312 - val_coeff_determination: 0.0677 - val_lr: 9.5367e-11 - val_rmse: 0.0557\n",
      "Epoch 122/150\n",
      "560/560 [==============================] - 207s 370ms/step - loss: 0.2532 - coeff_determination: 0.7744 - lr: 9.5367e-10 - rmse: 0.5013 - val_loss: 0.3124 - val_coeff_determination: 0.6771 - val_lr: 9.5367e-10 - val_rmse: 0.5567\n",
      "Epoch 123/150\n",
      "560/560 [==============================] - 207s 370ms/step - loss: 0.2544 - coeff_determination: 0.7729 - lr: 9.5367e-10 - rmse: 0.5026 - val_loss: 0.3124 - val_coeff_determination: 0.6771 - val_lr: 9.5367e-10 - val_rmse: 0.5567\n",
      "Epoch 124/150\n",
      "560/560 [==============================] - 207s 370ms/step - loss: 0.2511 - coeff_determination: 0.7752 - lr: 4.7684e-10 - rmse: 0.4994 - val_loss: 0.3124 - val_coeff_determination: 0.6771 - val_lr: 4.7684e-10 - val_rmse: 0.5567\n",
      "Epoch 125/150\n",
      "560/560 [==============================] - 208s 371ms/step - loss: 0.2540 - coeff_determination: 0.7729 - lr: 4.7684e-10 - rmse: 0.5024 - val_loss: 0.3124 - val_coeff_determination: 0.6771 - val_lr: 4.7684e-10 - val_rmse: 0.5567\n",
      "Epoch 126/150\n",
      "560/560 [==============================] - 208s 371ms/step - loss: 0.2548 - coeff_determination: 0.7735 - lr: 4.7684e-10 - rmse: 0.5030 - val_loss: 0.3124 - val_coeff_determination: 0.6771 - val_lr: 4.7684e-10 - val_rmse: 0.5567\n",
      "Epoch 127/150\n",
      "560/560 [==============================] - 207s 370ms/step - loss: 0.2518 - coeff_determination: 0.7741 - lr: 4.7684e-10 - rmse: 0.5001 - val_loss: 0.3124 - val_coeff_determination: 0.6771 - val_lr: 4.7684e-10 - val_rmse: 0.5567\n",
      "Epoch 128/150\n",
      "560/560 [==============================] - 207s 370ms/step - loss: 0.2530 - coeff_determination: 0.7737 - lr: 4.7684e-10 - rmse: 0.5013 - val_loss: 0.3124 - val_coeff_determination: 0.6771 - val_lr: 4.7684e-10 - val_rmse: 0.5567\n",
      "Epoch 129/150\n",
      "560/560 [==============================] - 207s 370ms/step - loss: 0.2542 - coeff_determination: 0.7739 - lr: 2.3842e-10 - rmse: 0.5022 - val_loss: 0.3124 - val_coeff_determination: 0.6771 - val_lr: 2.3842e-10 - val_rmse: 0.5567\n",
      "Epoch 130/150\n",
      "560/560 [==============================] - 207s 370ms/step - loss: 0.2540 - coeff_determination: 0.7727 - lr: 2.3842e-10 - rmse: 0.5021 - val_loss: 0.3124 - val_coeff_determination: 0.6771 - val_lr: 2.3842e-10 - val_rmse: 0.5567\n",
      "Epoch 131/150\n",
      "560/560 [==============================] - 207s 370ms/step - loss: 0.2529 - coeff_determination: 0.7745 - lr: 2.3842e-10 - rmse: 0.5011 - val_loss: 0.3124 - val_coeff_determination: 0.6771 - val_lr: 2.3842e-10 - val_rmse: 0.5567\n",
      "step: 0/560 ...  - loss: 0.0253 - coeff_determination: 0.0775 - lr: 2.3842e-11 - rmse: 0.0501 - val_loss: 0.0312 - val_coeff_determination: 0.0677 - val_lr: 2.3842e-11 - val_rmse: 0.0557\n",
      "Epoch 132/150\n",
      "560/560 [==============================] - 207s 370ms/step - loss: 0.2538 - coeff_determination: 0.7727 - lr: 2.3842e-10 - rmse: 0.5020 - val_loss: 0.3124 - val_coeff_determination: 0.6771 - val_lr: 2.3842e-10 - val_rmse: 0.5567\n",
      "Epoch 133/150\n",
      "560/560 [==============================] - 208s 371ms/step - loss: 0.2540 - coeff_determination: 0.7728 - lr: 2.3842e-10 - rmse: 0.5023 - val_loss: 0.3124 - val_coeff_determination: 0.6771 - val_lr: 2.3842e-10 - val_rmse: 0.5567\n",
      "Epoch 134/150\n",
      "560/560 [==============================] - 207s 370ms/step - loss: 0.2533 - coeff_determination: 0.7728 - lr: 1.1921e-10 - rmse: 0.5016 - val_loss: 0.3124 - val_coeff_determination: 0.6771 - val_lr: 1.1921e-10 - val_rmse: 0.5567\n",
      "Epoch 135/150\n",
      "560/560 [==============================] - 207s 370ms/step - loss: 0.2547 - coeff_determination: 0.7720 - lr: 1.1921e-10 - rmse: 0.5029 - val_loss: 0.3124 - val_coeff_determination: 0.6771 - val_lr: 1.1921e-10 - val_rmse: 0.5567\n",
      "Epoch 136/150\n",
      "560/560 [==============================] - 208s 371ms/step - loss: 0.2525 - coeff_determination: 0.7745 - lr: 1.1921e-10 - rmse: 0.5006 - val_loss: 0.3124 - val_coeff_determination: 0.6771 - val_lr: 1.1921e-10 - val_rmse: 0.5567\n",
      "Epoch 137/150\n",
      "560/560 [==============================] - 207s 370ms/step - loss: 0.2537 - coeff_determination: 0.7739 - lr: 1.1921e-10 - rmse: 0.5019 - val_loss: 0.3124 - val_coeff_determination: 0.6771 - val_lr: 1.1921e-10 - val_rmse: 0.5567\n",
      "Epoch 138/150\n",
      "560/560 [==============================] - 207s 370ms/step - loss: 0.2534 - coeff_determination: 0.7745 - lr: 1.1921e-10 - rmse: 0.5017 - val_loss: 0.3124 - val_coeff_determination: 0.6771 - val_lr: 1.1921e-10 - val_rmse: 0.5567\n",
      "Epoch 139/150\n",
      "560/560 [==============================] - 207s 370ms/step - loss: 0.2529 - coeff_determination: 0.7742 - lr: 5.9605e-11 - rmse: 0.5013 - val_loss: 0.3124 - val_coeff_determination: 0.6771 - val_lr: 5.9605e-11 - val_rmse: 0.5567\n",
      "Epoch 140/150\n",
      "560/560 [==============================] - 207s 370ms/step - loss: 0.2558 - coeff_determination: 0.7712 - lr: 5.9605e-11 - rmse: 0.5040 - val_loss: 0.3124 - val_coeff_determination: 0.6771 - val_lr: 5.9605e-11 - val_rmse: 0.5567\n",
      "Epoch 141/150\n",
      "560/560 [==============================] - 207s 370ms/step - loss: 0.2534 - coeff_determination: 0.7737 - lr: 5.9605e-11 - rmse: 0.5015 - val_loss: 0.3124 - val_coeff_determination: 0.6771 - val_lr: 5.9605e-11 - val_rmse: 0.5567\n",
      "step: 0/560 ...  - loss: 0.0253 - coeff_determination: 0.0774 - lr: 5.9605e-12 - rmse: 0.0501 - val_loss: 0.0312 - val_coeff_determination: 0.0677 - val_lr: 5.9605e-12 - val_rmse: 0.0557\n",
      "Epoch 142/150\n",
      "560/560 [==============================] - 207s 370ms/step - loss: 0.2543 - coeff_determination: 0.7726 - lr: 5.9605e-11 - rmse: 0.5026 - val_loss: 0.3124 - val_coeff_determination: 0.6771 - val_lr: 5.9605e-11 - val_rmse: 0.5567\n",
      "Epoch 143/150\n",
      "560/560 [==============================] - 207s 370ms/step - loss: 0.2527 - coeff_determination: 0.7739 - lr: 5.9605e-11 - rmse: 0.5008 - val_loss: 0.3124 - val_coeff_determination: 0.6771 - val_lr: 5.9605e-11 - val_rmse: 0.5567\n",
      "Epoch 144/150\n",
      "560/560 [==============================] - 207s 370ms/step - loss: 0.2528 - coeff_determination: 0.7740 - lr: 2.9802e-11 - rmse: 0.5010 - val_loss: 0.3124 - val_coeff_determination: 0.6771 - val_lr: 2.9802e-11 - val_rmse: 0.5567\n",
      "Epoch 145/150\n",
      "560/560 [==============================] - 207s 370ms/step - loss: 0.2518 - coeff_determination: 0.7747 - lr: 2.9802e-11 - rmse: 0.5002 - val_loss: 0.3124 - val_coeff_determination: 0.6771 - val_lr: 2.9802e-11 - val_rmse: 0.5567\n",
      "Epoch 146/150\n",
      "560/560 [==============================] - 207s 370ms/step - loss: 0.2537 - coeff_determination: 0.7741 - lr: 2.9802e-11 - rmse: 0.5018 - val_loss: 0.3124 - val_coeff_determination: 0.6771 - val_lr: 2.9802e-11 - val_rmse: 0.5567\n",
      "Epoch 147/150\n",
      "560/560 [==============================] - 207s 370ms/step - loss: 0.2523 - coeff_determination: 0.7740 - lr: 2.9802e-11 - rmse: 0.5005 - val_loss: 0.3124 - val_coeff_determination: 0.6771 - val_lr: 2.9802e-11 - val_rmse: 0.5567\n",
      "Epoch 148/150\n",
      "560/560 [==============================] - 207s 370ms/step - loss: 0.2520 - coeff_determination: 0.7741 - lr: 2.9802e-11 - rmse: 0.5001 - val_loss: 0.3124 - val_coeff_determination: 0.6771 - val_lr: 2.9802e-11 - val_rmse: 0.5567\n",
      "Epoch 149/150\n",
      "560/560 [==============================] - 207s 370ms/step - loss: 0.2512 - coeff_determination: 0.7766 - lr: 1.4901e-11 - rmse: 0.4993 - val_loss: 0.3124 - val_coeff_determination: 0.6771 - val_lr: 1.4901e-11 - val_rmse: 0.5567\n",
      "Epoch 150/150\n"
     ]
    },
    {
     "name": "stdout",
     "output_type": "stream",
     "text": [
      "560/560 [==============================] - 207s 370ms/step - loss: 0.2554 - coeff_determination: 0.7716 - lr: 1.4901e-11 - rmse: 0.5033 - val_loss: 0.3124 - val_coeff_determination: 0.6771 - val_lr: 1.4901e-11 - val_rmse: 0.5567\n"
     ]
    }
   ],
   "source": [
    "#Concatenate for longer epochs\n",
    "Xt = np.concatenate([X_train]*50, axis=0)\n",
    "yt = np.concatenate([y_train]*50, axis=0)\n",
    " \n",
    "batch_size=128\n",
    "\n",
    "g = generator.flow(Xt, yt, batch_size=batch_size, shuffle=True)\n",
    "steps_per_epoch = 10000/batch_size\n",
    "\n",
    "\n",
    "\n",
    "callbacks_list = [\n",
    "    ReduceLROnPlateau(monitor='val_loss', factor=0.5, patience=5, min_lr=1e-15, verbose=0, mode='auto',cooldown=0),\n",
    "    ModelCheckpoint(filepath=\"weights.best.hdf5\", monitor='val_loss', save_best_only=True, verbose=0, mode='auto'),\n",
    "    NBatchLogger(display=10)\n",
    "]\n",
    "\n",
    "\n",
    "\n",
    "history =model.fit_generator(g,\n",
    "                              steps_per_epoch=len(Xt)//batch_size,\n",
    "                              epochs=150,\n",
    "                              validation_data=(X_test,y_test),\n",
    "                              callbacks=callbacks_list)"
   ]
  },
  {
   "cell_type": "code",
   "execution_count": 21,
   "metadata": {},
   "outputs": [
    {
     "name": "stderr",
     "output_type": "stream",
     "text": [
      "/home/ubuntu/anaconda3/envs/tensorflow_p36/lib/python3.6/site-packages/matplotlib/figure.py:98: MatplotlibDeprecationWarning: \n",
      "Adding an axes using the same arguments as a previous axes currently reuses the earlier instance.  In a future version, a new instance will always be created and returned.  Meanwhile, this warning can be suppressed, and the future behavior ensured, by passing a unique label to each axes instance.\n",
      "  \"Adding an axes using the same arguments as a previous axes \"\n",
      "No handles with labels found to put in legend.\n",
      "No handles with labels found to put in legend.\n"
     ]
    },
    {
     "data": {
      "image/png": "[encoded data removed]",
      "text/plain": [
       "<Figure size 720x576 with 4 Axes>"
      ]
     },
     "metadata": {},
     "output_type": "display_data"
    }
   ],
   "source": [
    "hist = history.history\n",
    "\n",
    "plt.figure(figsize=(10, 8))\n",
    "\n",
    "for label in ['val_coeff_determination','coeff_determination']:\n",
    "    plt.subplot(221)\n",
    "    plt.plot(hist[label], label = label)\n",
    "    plt.legend()\n",
    "    plt.xlabel(\"Epochs\")\n",
    "    plt.ylabel(\"coeff_determination\")\n",
    "    \n",
    "for label in ['val_loss','loss']:\n",
    "    plt.subplot(222)\n",
    "    plt.plot(hist[label], label = label)\n",
    "    plt.legend()\n",
    "    plt.xlabel(\"Epochs\")\n",
    "    plt.ylabel(\"loss\")\n",
    "\n",
    "\n",
    "\n",
    "plt.subplot(223)\n",
    "plt.plot( hist['lr'],hist['val_coeff_determination']  )\n",
    "plt.legend()\n",
    "plt.xlabel(\"lr\")\n",
    "plt.ylabel(\"val_coeff_determination\")\n",
    "\n",
    "\n",
    "plt.subplot(224)\n",
    "plt.plot( hist['lr'],hist['val_loss']  )\n",
    "plt.legend()\n",
    "plt.xlabel(\"lr\")\n",
    "plt.ylabel(\"val_loss\")\n",
    "\n",
    "    \n",
    "plt.subplots_adjust(top=0.92, bottom=0.08, left=0.10, right=0.95, hspace=0.25,\n",
    "                    wspace=0.35)"
   ]
  },
  {
   "cell_type": "code",
   "execution_count": null,
   "metadata": {},
   "outputs": [],
   "source": []
  }
 ],
 "metadata": {
  "kernelspec": {
   "display_name": "Python 3",
   "language": "python",
   "name": "python3"
  },
  "language_info": {
   "codemirror_mode": {
    "name": "ipython",
    "version": 3
   },
   "file_extension": ".py",
   "mimetype": "text/x-python",
   "name": "python",
   "nbconvert_exporter": "python",
   "pygments_lexer": "ipython3",
   "version": "3.6.5"
  }
 },
 "nbformat": 4,
 "nbformat_minor": 2
}
