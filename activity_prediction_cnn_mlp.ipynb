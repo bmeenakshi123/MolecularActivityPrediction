{
 "cells": [
  {
   "cell_type": "code",
   "execution_count": 1,
   "metadata": {},
   "outputs": [
    {
     "name": "stderr",
     "output_type": "stream",
     "text": [
      "Using TensorFlow backend.\n"
     ]
    },
    {
     "name": "stdout",
     "output_type": "stream",
     "text": [
      "WARNING:tensorflow:From /home/ubuntu/anaconda3/envs/tensorflow_p36/lib/python3.6/site-packages/tensorflow_core/__init__.py:1467: The name tf.estimator.inputs is deprecated. Please use tf.compat.v1.estimator.inputs instead.\n",
      "\n"
     ]
    }
   ],
   "source": [
    "from keras import optimizers\n",
    "from keras.callbacks import ModelCheckpoint\n",
    "from keras import backend as K\n",
    "from keras import optimizers\n",
    "from keras.layers import Dense\n",
    "from keras.layers import Dense, Dropout\n",
    "from keras.models import Sequential\n",
    "from keras.wrappers.scikit_learn import KerasClassifier\n",
    "from pandas import ExcelFile\n",
    "from pandas import ExcelWriter\n",
    "from PIL import Image\n",
    "from scipy import ndimage\n",
    "from scipy.stats import randint as sp_randint\n",
    "from sklearn.base import BaseEstimator\n",
    "from sklearn.base import TransformerMixin\n",
    "from sklearn.ensemble import ExtraTreesClassifier\n",
    "from sklearn.ensemble import RandomForestClassifier\n",
    "from sklearn.feature_selection import SelectFromModel\n",
    "from sklearn import datasets\n",
    "from sklearn import metrics\n",
    "from sklearn import pipeline\n",
    "from sklearn.metrics import roc_auc_score, roc_curve\n",
    "from sklearn.model_selection import cross_val_score\n",
    "from sklearn.model_selection import GridSearchCV\n",
    "from sklearn.model_selection import PredefinedSplit\n",
    "from sklearn.model_selection import RandomizedSearchCV\n",
    "from sklearn.model_selection import ShuffleSplit\n",
    "from sklearn.model_selection import StratifiedKFold\n",
    "from sklearn.model_selection import train_test_split\n",
    "from sklearn.pipeline import Pipeline\n",
    "from sklearn.preprocessing import FunctionTransformer\n",
    "from sklearn.preprocessing import Imputer\n",
    "from sklearn.preprocessing import LabelEncoder\n",
    "from sklearn.preprocessing import StandardScaler\n",
    "from sklearn.utils import resample\n",
    "from tensorflow.python.framework import ops\n",
    "import h5py\n",
    "import keras\n",
    "import matplotlib.pyplot as plt\n",
    "import numpy as np\n",
    "import openpyxl\n",
    "import pandas as pd\n",
    "import scipy\n",
    "import tensorflow as tf\n",
    "import xlsxwriter\n",
    "\n",
    "import numpy as np\n",
    "from keras import layers\n",
    "from keras.layers import Input, Dense, Activation, ZeroPadding2D, BatchNormalization, Flatten, Conv2D\n",
    "from keras.layers import AveragePooling2D, MaxPooling2D, Dropout, GlobalMaxPooling2D, GlobalAveragePooling2D\n",
    "from keras.models import Model\n",
    "from keras.preprocessing import image\n",
    "from keras.utils import layer_utils\n",
    "from keras.utils.data_utils import get_file\n",
    "from keras.applications.imagenet_utils import preprocess_input\n",
    "#import pydot\n",
    "from IPython.display import SVG\n",
    "from keras.utils.vis_utils import model_to_dot\n",
    "from keras.utils import plot_model\n",
    "\n",
    "\n",
    "import keras.backend as K\n",
    "%load_ext autoreload\n",
    "%matplotlib inline"
   ]
  },
  {
   "cell_type": "code",
   "execution_count": 2,
   "metadata": {},
   "outputs": [
    {
     "name": "stdout",
     "output_type": "stream",
     "text": [
      "RDKit: 2019.09.3\n"
     ]
    },
    {
     "name": "stderr",
     "output_type": "stream",
     "text": [
      "RDKit WARNING: [07:05:03] Enabling RDKit 2019.09.3 jupyter extensions\n"
     ]
    }
   ],
   "source": [
    "from __future__ import print_function\n",
    "import rdkit\n",
    "from rdkit import Chem\n",
    "from rdkit.Chem import AllChem\n",
    "import pandas as pd\n",
    "import numpy as np\n",
    " \n",
    "from matplotlib import pyplot as plt\n",
    "%matplotlib inline\n",
    "print(\"RDKit: %s\"%rdkit.__version__)"
   ]
  },
  {
   "cell_type": "code",
   "execution_count": 3,
   "metadata": {},
   "outputs": [
    {
     "name": "stdout",
     "output_type": "stream",
     "text": [
      "Keras: 2.2.4\n"
     ]
    }
   ],
   "source": [
    "import keras\n",
    "from sklearn.utils import shuffle\n",
    "from keras.models import Sequential, Model\n",
    "from keras.layers import Conv2D, MaxPooling2D, Input, GlobalMaxPooling2D\n",
    "from keras.layers.core import Dense, Dropout, Activation, Flatten\n",
    "from keras.optimizers import Adam\n",
    "from keras.preprocessing.image import ImageDataGenerator\n",
    "from keras.callbacks import ReduceLROnPlateau\n",
    "print(\"Keras: %s\"%keras.__version__)"
   ]
  },
  {
   "cell_type": "code",
   "execution_count": 4,
   "metadata": {},
   "outputs": [],
   "source": [
    "data = pd.read_excel(r'IGC50.xlsx')"
   ]
  },
  {
   "cell_type": "code",
   "execution_count": 5,
   "metadata": {},
   "outputs": [],
   "source": [
    "data[\"mol\"] = data[\"smiles\"].apply(Chem.MolFromSmiles)"
   ]
  },
  {
   "cell_type": "code",
   "execution_count": 6,
   "metadata": {},
   "outputs": [],
   "source": [
    "def chemcepterize_mol(mol, embed=20.0, res=0.5):\n",
    "    dims = int(embed*2/res)\n",
    "    #print(dims)\n",
    "   \n",
    "    #print(mol)\n",
    "    #print(\",,,,,,,,,,,,,,,,,,,,,,\")\n",
    "    cmol = Chem.Mol(mol.ToBinary())\n",
    "    #print(cmol)\n",
    "    #print(\",,,,,,,,,,,,,,,,,,,,,,\")\n",
    "    cmol.ComputeGasteigerCharges()\n",
    "    AllChem.Compute2DCoords(cmol)\n",
    "    coords = cmol.GetConformer(0).GetPositions()\n",
    "    #print(coords)\n",
    "    #print(\",,,,,,,,,,,,,,,,,,,,,,\")\n",
    "    vect = np.zeros((dims,dims,4))\n",
    "    #Bonds first\n",
    "    for i,bond in enumerate(mol.GetBonds()):\n",
    "        bondorder = bond.GetBondTypeAsDouble()\n",
    "        bidx = bond.GetBeginAtomIdx()\n",
    "        eidx = bond.GetEndAtomIdx()\n",
    "        bcoords = coords[bidx]\n",
    "        ecoords = coords[eidx]\n",
    "        frac = np.linspace(0,1,int(1/res*2)) #\n",
    "        for f in frac:\n",
    "            c = (f*bcoords + (1-f)*ecoords)\n",
    "            idx = int(round((c[0] + embed)/res))\n",
    "            idy = int(round((c[1]+ embed)/res))\n",
    "            #Save in the vector first channel\n",
    "            vect[ idx , idy ,0] = bondorder\n",
    "    #Atom Layers\n",
    "    for i,atom in enumerate(cmol.GetAtoms()):\n",
    "            idx = int(round((coords[i][0] + embed)/res))\n",
    "            idy = int(round((coords[i][1]+ embed)/res))\n",
    "            #Atomic number\n",
    "            vect[ idx , idy, 1] = atom.GetAtomicNum()\n",
    "            #Gasteiger Charges\n",
    "            charge = atom.GetProp(\"_GasteigerCharge\")\n",
    "            vect[ idx , idy, 3] = charge\n",
    "            #Hybridization\n",
    "            hyptype = atom.GetHybridization().real\n",
    "            vect[ idx , idy, 2] = hyptype\n",
    "            \n",
    "    return vect"
   ]
  },
  {
   "cell_type": "code",
   "execution_count": 7,
   "metadata": {},
   "outputs": [
    {
     "name": "stderr",
     "output_type": "stream",
     "text": [
      "Clipping input data to the valid range for imshow with RGB data ([0..1] for floats or [0..255] for integers).\n"
     ]
    },
    {
     "name": "stdout",
     "output_type": "stream",
     "text": [
      "(100, 100, 4)\n"
     ]
    },
    {
     "data": {
      "text/plain": [
       "<matplotlib.image.AxesImage at 0x7f0c1cc17898>"
      ]
     },
     "execution_count": 7,
     "metadata": {},
     "output_type": "execute_result"
    },
    {
     "data": {
      "image/png": "[encoded data removed]",
      "text/plain": [
       "<Figure size 432x288 with 1 Axes>"
      ]
     },
     "metadata": {},
     "output_type": "display_data"
    }
   ],
   "source": [
    "mol = data[\"mol\"][104]\n",
    "v = chemcepterize_mol(mol, embed=10, res=0.2)\n",
    "\n",
    "print(v.shape)\n",
    "plt.imshow(v[:,:,:3])    \n"
   ]
  },
  {
   "cell_type": "code",
   "execution_count": 8,
   "metadata": {},
   "outputs": [],
   "source": [
    "def vectorize(mol):\n",
    "    return chemcepterize_mol(mol, embed=12)\n",
    "data[\"molimage\"] = data[\"mol\"].apply(vectorize)"
   ]
  },
  {
   "cell_type": "code",
   "execution_count": 9,
   "metadata": {},
   "outputs": [
    {
     "name": "stdout",
     "output_type": "stream",
     "text": [
      "(1434, 48, 48, 4)\n",
      "(358, 48, 48, 4)\n"
     ]
    }
   ],
   "source": [
    "X_train = np.array(list(data[\"molimage\"][data[\"split\"]==1]))\n",
    "X_test = np.array(list(data[\"molimage\"][data[\"split\"]==0]))\n",
    "print(X_train.shape)\n",
    "print(X_test.shape)"
   ]
  },
  {
   "cell_type": "code",
   "execution_count": 10,
   "metadata": {},
   "outputs": [],
   "source": [
    "assay = \"Activity\"\n",
    "y_train = data[assay][data[\"split\"]==1].values.reshape(-1,1)\n",
    "y_test = data[assay][data[\"split\"]==0].values.reshape(-1,1)"
   ]
  },
  {
   "cell_type": "code",
   "execution_count": 11,
   "metadata": {},
   "outputs": [
    {
     "name": "stdout",
     "output_type": "stream",
     "text": [
      "(1434, 1)\n"
     ]
    }
   ],
   "source": [
    "print(np.shape(y_train))"
   ]
  },
  {
   "cell_type": "code",
   "execution_count": null,
   "metadata": {},
   "outputs": [],
   "source": []
  },
  {
   "cell_type": "code",
   "execution_count": 12,
   "metadata": {},
   "outputs": [
    {
     "name": "stdout",
     "output_type": "stream",
     "text": [
      "(48, 48, 4)\n"
     ]
    }
   ],
   "source": [
    "input_shape = X_train.shape[1:]\n",
    "print(input_shape)\n",
    "from keras.layers import Dense, Dropout"
   ]
  },
  {
   "cell_type": "code",
   "execution_count": 13,
   "metadata": {},
   "outputs": [
    {
     "name": "stdout",
     "output_type": "stream",
     "text": [
      "WARNING:tensorflow:From /home/ubuntu/anaconda3/envs/tensorflow_p36/lib/python3.6/site-packages/keras/backend/tensorflow_backend.py:74: The name tf.get_default_graph is deprecated. Please use tf.compat.v1.get_default_graph instead.\n",
      "\n",
      "WARNING:tensorflow:From /home/ubuntu/anaconda3/envs/tensorflow_p36/lib/python3.6/site-packages/keras/backend/tensorflow_backend.py:517: The name tf.placeholder is deprecated. Please use tf.compat.v1.placeholder instead.\n",
      "\n",
      "WARNING:tensorflow:From /home/ubuntu/anaconda3/envs/tensorflow_p36/lib/python3.6/site-packages/keras/backend/tensorflow_backend.py:4138: The name tf.random_uniform is deprecated. Please use tf.random.uniform instead.\n",
      "\n",
      "WARNING:tensorflow:From /home/ubuntu/anaconda3/envs/tensorflow_p36/lib/python3.6/site-packages/keras/backend/tensorflow_backend.py:3976: The name tf.nn.max_pool is deprecated. Please use tf.nn.max_pool2d instead.\n",
      "\n",
      "WARNING:tensorflow:From /home/ubuntu/anaconda3/envs/tensorflow_p36/lib/python3.6/site-packages/keras/backend/tensorflow_backend.py:133: The name tf.placeholder_with_default is deprecated. Please use tf.compat.v1.placeholder_with_default instead.\n",
      "\n",
      "WARNING:tensorflow:From /home/ubuntu/anaconda3/envs/tensorflow_p36/lib/python3.6/site-packages/keras/backend/tensorflow_backend.py:3445: calling dropout (from tensorflow.python.ops.nn_ops) with keep_prob is deprecated and will be removed in a future version.\n",
      "Instructions for updating:\n",
      "Please use `rate` instead of `keep_prob`. Rate should be set to `rate = 1 - keep_prob`.\n",
      "_________________________________________________________________\n",
      "Layer (type)                 Output Shape              Param #   \n",
      "=================================================================\n",
      "input_1 (InputLayer)         (None, 48, 48, 4)         0         \n",
      "_________________________________________________________________\n",
      "conv2d_1 (Conv2D)            (None, 48, 48, 32)        1184      \n",
      "_________________________________________________________________\n",
      "max_pooling2d_1 (MaxPooling2 (None, 24, 24, 32)        0         \n",
      "_________________________________________________________________\n",
      "conv2d_2 (Conv2D)            (None, 24, 24, 32)        9248      \n",
      "_________________________________________________________________\n",
      "max_pooling2d_2 (MaxPooling2 (None, 12, 12, 32)        0         \n",
      "_________________________________________________________________\n",
      "conv2d_3 (Conv2D)            (None, 12, 12, 32)        9248      \n",
      "_________________________________________________________________\n",
      "max_pooling2d_3 (MaxPooling2 (None, 6, 6, 32)          0         \n",
      "_________________________________________________________________\n",
      "conv2d_4 (Conv2D)            (None, 6, 6, 32)          9248      \n",
      "_________________________________________________________________\n",
      "max_pooling2d_4 (MaxPooling2 (None, 3, 3, 32)          0         \n",
      "_________________________________________________________________\n",
      "flatten_1 (Flatten)          (None, 288)               0         \n",
      "_________________________________________________________________\n",
      "dense_1 (Dense)              (None, 100)               28900     \n",
      "_________________________________________________________________\n",
      "dense_2 (Dense)              (None, 512)               51712     \n",
      "_________________________________________________________________\n",
      "dense_3 (Dense)              (None, 256)               131328    \n",
      "_________________________________________________________________\n",
      "dense_4 (Dense)              (None, 128)               32896     \n",
      "_________________________________________________________________\n",
      "dropout_1 (Dropout)          (None, 128)               0         \n",
      "_________________________________________________________________\n",
      "dense_5 (Dense)              (None, 64)                8256      \n",
      "_________________________________________________________________\n",
      "dense_6 (Dense)              (None, 100)               6500      \n",
      "_________________________________________________________________\n",
      "dense_7 (Dense)              (None, 1)                 101       \n",
      "=================================================================\n",
      "Total params: 288,621\n",
      "Trainable params: 288,621\n",
      "Non-trainable params: 0\n",
      "_________________________________________________________________\n",
      "None\n"
     ]
    }
   ],
   "source": [
    "input_img = Input(shape=input_shape)\n",
    " \n",
    "x = Conv2D(filters=32, kernel_size=3, padding='same', activation='relu')(input_img)\n",
    "x = MaxPooling2D(pool_size=2)(x)\n",
    "x = Conv2D(filters=32, kernel_size=3, padding='same', activation='relu')(x)\n",
    "x = MaxPooling2D(pool_size=2)(x)\n",
    "x = Conv2D(filters=32, kernel_size=3, padding='same', activation='relu')(x)\n",
    "x = MaxPooling2D(pool_size=2)(x)\n",
    "x = Conv2D(filters=32, kernel_size=3, padding='same', activation='relu')(x)\n",
    "x = MaxPooling2D(pool_size=2)(x)\n",
    "x = Flatten()(x)\n",
    "x = Dense(100, activation='relu')(x)\n",
    "x = Dense(512, activation='relu', input_shape=input_shape)(x)\n",
    "#x = Dropout(rate=0.2)(x)\n",
    "x = Dense(256, activation='relu')(x)\n",
    "#x = Dropout(rate=0.2)(x)\n",
    "x = Dense(128, activation='relu')(x)\n",
    "x = Dropout(rate=0.2)(x)\n",
    "x = Dense(64, activation='relu')(x)\n",
    "x = Dense(100, activation='relu')(x)\n",
    "output = Dense(1, activation='linear')(x)\n",
    " \n",
    "model = Model(inputs=input_img, outputs=output)\n",
    " \n",
    "print(model.summary())"
   ]
  },
  {
   "cell_type": "code",
   "execution_count": 14,
   "metadata": {},
   "outputs": [],
   "source": [
    "from keras.preprocessing.image import ImageDataGenerator\n",
    "generator = ImageDataGenerator(rotation_range=180,\n",
    "                               width_shift_range=0.1,height_shift_range=0.1,\n",
    "                               fill_mode=\"constant\",cval = 0,\n",
    "                               horizontal_flip=True, vertical_flip=True,data_format='channels_last',\n",
    "                            \n",
    "                               )\n"
   ]
  },
  {
   "cell_type": "code",
   "execution_count": 15,
   "metadata": {},
   "outputs": [],
   "source": [
    "def coeff_determination(y_true, y_pred):\n",
    "    from keras import backend as K\n",
    "    SS_res =  K.sum(K.square( y_true-y_pred ))\n",
    "    SS_tot = K.sum(K.square( y_true - K.mean(y_true) ) )\n",
    "    return ( 1 - SS_res/(SS_tot + K.epsilon()) )"
   ]
  },
  {
   "cell_type": "code",
   "execution_count": 16,
   "metadata": {},
   "outputs": [],
   "source": [
    "\n",
    "def get_lr_metric(optimizer):\n",
    "    def lr(y_true, y_pred):\n",
    "        return optimizer.lr\n",
    "    return lr\n"
   ]
  },
  {
   "cell_type": "code",
   "execution_count": 18,
   "metadata": {},
   "outputs": [],
   "source": [
    "def rmse(y_true, y_pred):\n",
    "        return K.sqrt(K.mean(K.square(y_pred - y_true)))"
   ]
  },
  {
   "cell_type": "code",
   "execution_count": 19,
   "metadata": {},
   "outputs": [],
   "source": [
    "optimizer = Adam(lr=0.00025)\n",
    "lr_metric = get_lr_metric(optimizer)\n",
    "model.compile(loss=\"mse\", optimizer=optimizer, metrics=[coeff_determination, lr_metric ,rmse])"
   ]
  },
  {
   "cell_type": "code",
   "execution_count": 20,
   "metadata": {},
   "outputs": [],
   "source": [
    "from tensorflow.keras.callbacks import Callback\n",
    "class NBatchLogger(Callback):\n",
    "    \"\"\"\n",
    "    A Logger that log average performance per `display` steps.\n",
    "    \"\"\"\n",
    "    def __init__(self, display):\n",
    "        self.step = 0\n",
    "        self.display = display\n",
    "        self.metric_cache = {}\n",
    "        \n",
    "    #def on_train_begin(self, logs=None):\n",
    "    #    self.epochs = self.params['epochs']    \n",
    "\n",
    "    def on_epoch_end(self, epoch, logs={}):\n",
    "        #print('epoch', epoch)\n",
    "        #print('epoch summary', epoch.summary())\n",
    "        if int(epoch) % 10 == 0:  # or save after some epoch, each k-th epoch etc.\n",
    "            #self.model.save(\"model_{}.hd5\".format(epoch))\n",
    "        #self.step += 1\n",
    "            for k in self.params['metrics']:\n",
    "                if k in logs:\n",
    "                    self.metric_cache[k] = self.metric_cache.get(k, 0) + logs[k]\n",
    "        \n",
    "            metrics_log = ''\n",
    "            for (k, v) in self.metric_cache.items():\n",
    "                val = v / self.display\n",
    "                if abs(val) > 1e-3:\n",
    "                    metrics_log += ' - %s: %.4f' % (k, val)\n",
    "                else:\n",
    "                    metrics_log += ' - %s: %.4e' % (k, val)\n",
    "            print('step: {}/{} ... {}'.format(self.step,\n",
    "                                          self.params['steps'],\n",
    "                                          metrics_log))\n",
    "            self.metric_cache.clear()"
   ]
  },
  {
   "cell_type": "code",
   "execution_count": 21,
   "metadata": {},
   "outputs": [
    {
     "name": "stdout",
     "output_type": "stream",
     "text": [
      "WARNING:tensorflow:From /home/ubuntu/anaconda3/envs/tensorflow_p36/lib/python3.6/site-packages/keras/backend/tensorflow_backend.py:986: The name tf.assign_add is deprecated. Please use tf.compat.v1.assign_add instead.\n",
      "\n",
      "WARNING:tensorflow:From /home/ubuntu/anaconda3/envs/tensorflow_p36/lib/python3.6/site-packages/keras/backend/tensorflow_backend.py:973: The name tf.assign is deprecated. Please use tf.compat.v1.assign instead.\n",
      "\n",
      "WARNING:tensorflow:From /home/ubuntu/anaconda3/envs/tensorflow_p36/lib/python3.6/site-packages/keras/backend/tensorflow_backend.py:2741: The name tf.Session is deprecated. Please use tf.compat.v1.Session instead.\n",
      "\n",
      "Epoch 1/150\n",
      "WARNING:tensorflow:From /home/ubuntu/anaconda3/envs/tensorflow_p36/lib/python3.6/site-packages/keras/backend/tensorflow_backend.py:174: The name tf.get_default_session is deprecated. Please use tf.compat.v1.get_default_session instead.\n",
      "\n",
      "WARNING:tensorflow:From /home/ubuntu/anaconda3/envs/tensorflow_p36/lib/python3.6/site-packages/keras/backend/tensorflow_backend.py:181: The name tf.ConfigProto is deprecated. Please use tf.compat.v1.ConfigProto instead.\n",
      "\n",
      "WARNING:tensorflow:From /home/ubuntu/anaconda3/envs/tensorflow_p36/lib/python3.6/site-packages/keras/backend/tensorflow_backend.py:190: The name tf.global_variables is deprecated. Please use tf.compat.v1.global_variables instead.\n",
      "\n",
      "WARNING:tensorflow:From /home/ubuntu/anaconda3/envs/tensorflow_p36/lib/python3.6/site-packages/keras/backend/tensorflow_backend.py:199: The name tf.is_variable_initialized is deprecated. Please use tf.compat.v1.is_variable_initialized instead.\n",
      "\n",
      "WARNING:tensorflow:From /home/ubuntu/anaconda3/envs/tensorflow_p36/lib/python3.6/site-packages/keras/backend/tensorflow_backend.py:206: The name tf.variables_initializer is deprecated. Please use tf.compat.v1.variables_initializer instead.\n",
      "\n",
      "560/560 [==============================] - 63s 112ms/step - loss: 1.0454 - coeff_determination: 0.0695 - lr: 2.5000e-04 - rmse: 0.9330 - val_loss: 0.5449 - val_coeff_determination: 0.4380 - val_lr: 2.5000e-04 - val_rmse: 0.7344\n",
      "Epoch 2/150\n",
      "560/560 [==============================] - 60s 108ms/step - loss: 0.6298 - coeff_determination: 0.4397 - lr: 2.5000e-04 - rmse: 0.7915 - val_loss: 0.6028 - val_coeff_determination: 0.3751 - val_lr: 2.5000e-04 - val_rmse: 0.7740\n",
      "Epoch 3/150\n",
      "560/560 [==============================] - 61s 109ms/step - loss: 0.6113 - coeff_determination: 0.4558 - lr: 2.5000e-04 - rmse: 0.7799 - val_loss: 0.7244 - val_coeff_determination: 0.2460 - val_lr: 2.5000e-04 - val_rmse: 0.8494\n",
      "Epoch 4/150\n",
      "560/560 [==============================] - 60s 108ms/step - loss: 0.5953 - coeff_determination: 0.4697 - lr: 2.5000e-04 - rmse: 0.7695 - val_loss: 0.8739 - val_coeff_determination: 0.0865 - val_lr: 2.5000e-04 - val_rmse: 0.9339\n",
      "Epoch 5/150\n",
      "560/560 [==============================] - 61s 108ms/step - loss: 0.5729 - coeff_determination: 0.4894 - lr: 2.5000e-04 - rmse: 0.7548 - val_loss: 0.8597 - val_coeff_determination: 0.0983 - val_lr: 2.5000e-04 - val_rmse: 0.9267\n",
      "Epoch 6/150\n",
      "560/560 [==============================] - 61s 108ms/step - loss: 0.5627 - coeff_determination: 0.4987 - lr: 2.5000e-04 - rmse: 0.7481 - val_loss: 0.9376 - val_coeff_determination: 0.0206 - val_lr: 2.5000e-04 - val_rmse: 0.9671\n",
      "Epoch 7/150\n",
      "560/560 [==============================] - 60s 107ms/step - loss: 0.5442 - coeff_determination: 0.5151 - lr: 2.5000e-04 - rmse: 0.7359 - val_loss: 0.9665 - val_coeff_determination: -0.0093 - val_lr: 2.5000e-04 - val_rmse: 0.9819\n",
      "Epoch 8/150\n",
      "560/560 [==============================] - 60s 107ms/step - loss: 0.5294 - coeff_determination: 0.5280 - lr: 2.5000e-04 - rmse: 0.7257 - val_loss: 0.9319 - val_coeff_determination: 0.0263 - val_lr: 2.5000e-04 - val_rmse: 0.9642\n",
      "Epoch 9/150\n",
      "560/560 [==============================] - 60s 108ms/step - loss: 0.5154 - coeff_determination: 0.5401 - lr: 2.5000e-04 - rmse: 0.7159 - val_loss: 0.9927 - val_coeff_determination: -0.0401 - val_lr: 2.5000e-04 - val_rmse: 0.9956\n",
      "Epoch 10/150\n",
      "560/560 [==============================] - 60s 107ms/step - loss: 0.4908 - coeff_determination: 0.5625 - lr: 2.5000e-04 - rmse: 0.6985 - val_loss: 1.0775 - val_coeff_determination: -0.1265 - val_lr: 2.5000e-04 - val_rmse: 1.0368\n",
      "Epoch 11/150\n",
      "560/560 [==============================] - 60s 107ms/step - loss: 0.4707 - coeff_determination: 0.5807 - lr: 2.5000e-04 - rmse: 0.6840 - val_loss: 0.6951 - val_coeff_determination: 0.2757 - val_lr: 2.5000e-04 - val_rmse: 0.8323\n",
      "Epoch 12/150\n",
      "560/560 [==============================] - 61s 108ms/step - loss: 0.4464 - coeff_determination: 0.6024 - lr: 2.5000e-04 - rmse: 0.6662 - val_loss: 1.1681 - val_coeff_determination: -0.2184 - val_lr: 2.5000e-04 - val_rmse: 1.0792\n",
      "Epoch 13/150\n",
      "560/560 [==============================] - 60s 107ms/step - loss: 0.4258 - coeff_determination: 0.6208 - lr: 2.5000e-04 - rmse: 0.6505 - val_loss: 0.8166 - val_coeff_determination: 0.1521 - val_lr: 2.5000e-04 - val_rmse: 0.9013\n",
      "Epoch 14/150\n",
      "560/560 [==============================] - 60s 108ms/step - loss: 0.4071 - coeff_determination: 0.6363 - lr: 2.5000e-04 - rmse: 0.6360 - val_loss: 0.7413 - val_coeff_determination: 0.2315 - val_lr: 2.5000e-04 - val_rmse: 0.8582\n",
      "Epoch 15/150\n",
      "560/560 [==============================] - 60s 108ms/step - loss: 0.3896 - coeff_determination: 0.6528 - lr: 2.5000e-04 - rmse: 0.6221 - val_loss: 0.8159 - val_coeff_determination: 0.1525 - val_lr: 2.5000e-04 - val_rmse: 0.9008\n",
      "Epoch 16/150\n",
      "560/560 [==============================] - 61s 108ms/step - loss: 0.3751 - coeff_determination: 0.6654 - lr: 2.5000e-04 - rmse: 0.6103 - val_loss: 0.5839 - val_coeff_determination: 0.3950 - val_lr: 2.5000e-04 - val_rmse: 0.7615\n",
      "Epoch 17/150\n",
      "560/560 [==============================] - 60s 108ms/step - loss: 0.3646 - coeff_determination: 0.6751 - lr: 2.5000e-04 - rmse: 0.6019 - val_loss: 0.6232 - val_coeff_determination: 0.3501 - val_lr: 2.5000e-04 - val_rmse: 0.7883\n",
      "Epoch 18/150\n",
      "560/560 [==============================] - 61s 108ms/step - loss: 0.3527 - coeff_determination: 0.6853 - lr: 2.5000e-04 - rmse: 0.5919 - val_loss: 0.7225 - val_coeff_determination: 0.2480 - val_lr: 2.5000e-04 - val_rmse: 0.8483\n",
      "Epoch 19/150\n",
      "560/560 [==============================] - 60s 108ms/step - loss: 0.3394 - coeff_determination: 0.6971 - lr: 2.5000e-04 - rmse: 0.5806 - val_loss: 0.6382 - val_coeff_determination: 0.3341 - val_lr: 2.5000e-04 - val_rmse: 0.7977\n",
      "Epoch 20/150\n",
      "560/560 [==============================] - 61s 108ms/step - loss: 0.3345 - coeff_determination: 0.7019 - lr: 2.5000e-04 - rmse: 0.5762 - val_loss: 0.7495 - val_coeff_determination: 0.2174 - val_lr: 2.5000e-04 - val_rmse: 0.8647\n",
      "Epoch 21/150\n",
      "560/560 [==============================] - 61s 108ms/step - loss: 0.3185 - coeff_determination: 0.7148 - lr: 2.5000e-04 - rmse: 0.5624 - val_loss: 0.7977 - val_coeff_determination: 0.1654 - val_lr: 2.5000e-04 - val_rmse: 0.8923\n",
      "Epoch 22/150\n",
      "560/560 [==============================] - 60s 108ms/step - loss: 0.3062 - coeff_determination: 0.7268 - lr: 2.5000e-04 - rmse: 0.5515 - val_loss: 0.5375 - val_coeff_determination: 0.4400 - val_lr: 2.5000e-04 - val_rmse: 0.7318\n",
      "Epoch 23/150\n",
      "560/560 [==============================] - 60s 108ms/step - loss: 0.2923 - coeff_determination: 0.7391 - lr: 2.5000e-04 - rmse: 0.5386 - val_loss: 0.6148 - val_coeff_determination: 0.3565 - val_lr: 2.5000e-04 - val_rmse: 0.7834\n",
      "Epoch 24/150\n",
      "560/560 [==============================] - 61s 108ms/step - loss: 0.2811 - coeff_determination: 0.7482 - lr: 2.5000e-04 - rmse: 0.5283 - val_loss: 0.6616 - val_coeff_determination: 0.3091 - val_lr: 2.5000e-04 - val_rmse: 0.8124\n",
      "Epoch 25/150\n",
      "560/560 [==============================] - 60s 107ms/step - loss: 0.2715 - coeff_determination: 0.7572 - lr: 2.5000e-04 - rmse: 0.5190 - val_loss: 0.6428 - val_coeff_determination: 0.3317 - val_lr: 2.5000e-04 - val_rmse: 0.7999\n",
      "Epoch 26/150\n",
      "560/560 [==============================] - 60s 108ms/step - loss: 0.2673 - coeff_determination: 0.7615 - lr: 2.5000e-04 - rmse: 0.5148 - val_loss: 0.6109 - val_coeff_determination: 0.3692 - val_lr: 2.5000e-04 - val_rmse: 0.7782\n",
      "Epoch 27/150\n"
     ]
    },
    {
     "name": "stdout",
     "output_type": "stream",
     "text": [
      "560/560 [==============================] - 60s 108ms/step - loss: 0.2550 - coeff_determination: 0.7715 - lr: 2.5000e-04 - rmse: 0.5031 - val_loss: 0.5405 - val_coeff_determination: 0.4421 - val_lr: 2.5000e-04 - val_rmse: 0.7316\n",
      "Epoch 28/150\n",
      "560/560 [==============================] - 60s 108ms/step - loss: 0.2422 - coeff_determination: 0.7840 - lr: 2.5000e-04 - rmse: 0.4903 - val_loss: 0.7181 - val_coeff_determination: 0.2524 - val_lr: 2.5000e-04 - val_rmse: 0.8457\n",
      "Epoch 29/150\n",
      "560/560 [==============================] - 60s 108ms/step - loss: 0.2372 - coeff_determination: 0.7879 - lr: 2.5000e-04 - rmse: 0.4850 - val_loss: 0.4963 - val_coeff_determination: 0.4882 - val_lr: 2.5000e-04 - val_rmse: 0.7011\n",
      "Epoch 30/150\n",
      "560/560 [==============================] - 61s 108ms/step - loss: 0.2262 - coeff_determination: 0.7977 - lr: 2.5000e-04 - rmse: 0.4735 - val_loss: 0.5660 - val_coeff_determination: 0.4164 - val_lr: 2.5000e-04 - val_rmse: 0.7486\n",
      "Epoch 31/150\n",
      "560/560 [==============================] - 60s 108ms/step - loss: 0.2210 - coeff_determination: 0.8024 - lr: 2.5000e-04 - rmse: 0.4682 - val_loss: 0.4646 - val_coeff_determination: 0.5190 - val_lr: 2.5000e-04 - val_rmse: 0.6792\n",
      "Epoch 32/150\n",
      "560/560 [==============================] - 60s 108ms/step - loss: 0.2151 - coeff_determination: 0.8077 - lr: 2.5000e-04 - rmse: 0.4620 - val_loss: 0.5139 - val_coeff_determination: 0.4694 - val_lr: 2.5000e-04 - val_rmse: 0.7137\n",
      "Epoch 33/150\n",
      "560/560 [==============================] - 61s 108ms/step - loss: 0.2055 - coeff_determination: 0.8168 - lr: 2.5000e-04 - rmse: 0.4516 - val_loss: 0.4845 - val_coeff_determination: 0.4984 - val_lr: 2.5000e-04 - val_rmse: 0.6934\n",
      "Epoch 34/150\n",
      "560/560 [==============================] - 60s 108ms/step - loss: 0.2012 - coeff_determination: 0.8205 - lr: 2.5000e-04 - rmse: 0.4466 - val_loss: 0.5578 - val_coeff_determination: 0.4257 - val_lr: 2.5000e-04 - val_rmse: 0.7427\n",
      "Epoch 35/150\n",
      "560/560 [==============================] - 60s 107ms/step - loss: 0.1923 - coeff_determination: 0.8276 - lr: 2.5000e-04 - rmse: 0.4368 - val_loss: 0.5391 - val_coeff_determination: 0.4416 - val_lr: 2.5000e-04 - val_rmse: 0.7314\n",
      "Epoch 36/150\n",
      "560/560 [==============================] - 61s 108ms/step - loss: 0.1888 - coeff_determination: 0.8316 - lr: 2.5000e-04 - rmse: 0.4326 - val_loss: 0.4280 - val_coeff_determination: 0.5585 - val_lr: 2.5000e-04 - val_rmse: 0.6511\n",
      "Epoch 37/150\n",
      "560/560 [==============================] - 60s 107ms/step - loss: 0.1810 - coeff_determination: 0.8382 - lr: 2.5000e-04 - rmse: 0.4235 - val_loss: 0.4180 - val_coeff_determination: 0.5685 - val_lr: 2.5000e-04 - val_rmse: 0.6437\n",
      "Epoch 38/150\n",
      "560/560 [==============================] - 60s 108ms/step - loss: 0.1743 - coeff_determination: 0.8442 - lr: 2.5000e-04 - rmse: 0.4158 - val_loss: 0.4565 - val_coeff_determination: 0.5292 - val_lr: 2.5000e-04 - val_rmse: 0.6724\n",
      "Epoch 39/150\n",
      "560/560 [==============================] - 60s 108ms/step - loss: 0.1675 - coeff_determination: 0.8502 - lr: 2.5000e-04 - rmse: 0.4076 - val_loss: 0.4386 - val_coeff_determination: 0.5509 - val_lr: 2.5000e-04 - val_rmse: 0.6571\n",
      "Epoch 40/150\n",
      "560/560 [==============================] - 60s 108ms/step - loss: 0.1623 - coeff_determination: 0.8547 - lr: 2.5000e-04 - rmse: 0.4009 - val_loss: 0.4245 - val_coeff_determination: 0.5641 - val_lr: 2.5000e-04 - val_rmse: 0.6471\n",
      "Epoch 41/150\n",
      "560/560 [==============================] - 60s 108ms/step - loss: 0.1577 - coeff_determination: 0.8591 - lr: 2.5000e-04 - rmse: 0.3953 - val_loss: 0.3373 - val_coeff_determination: 0.6524 - val_lr: 2.5000e-04 - val_rmse: 0.5778\n",
      "Epoch 42/150\n",
      "560/560 [==============================] - 61s 109ms/step - loss: 0.1517 - coeff_determination: 0.8637 - lr: 2.5000e-04 - rmse: 0.3877 - val_loss: 0.3710 - val_coeff_determination: 0.6208 - val_lr: 2.5000e-04 - val_rmse: 0.6038\n",
      "Epoch 43/150\n",
      "560/560 [==============================] - 60s 107ms/step - loss: 0.1481 - coeff_determination: 0.8677 - lr: 2.5000e-04 - rmse: 0.3832 - val_loss: 0.4229 - val_coeff_determination: 0.5636 - val_lr: 2.5000e-04 - val_rmse: 0.6473\n",
      "Epoch 44/150\n",
      "560/560 [==============================] - 60s 108ms/step - loss: 0.1422 - coeff_determination: 0.8725 - lr: 2.5000e-04 - rmse: 0.3755 - val_loss: 0.4717 - val_coeff_determination: 0.5140 - val_lr: 2.5000e-04 - val_rmse: 0.6832\n",
      "Epoch 45/150\n",
      "560/560 [==============================] - 61s 108ms/step - loss: 0.1391 - coeff_determination: 0.8757 - lr: 2.5000e-04 - rmse: 0.3714 - val_loss: 0.4040 - val_coeff_determination: 0.5846 - val_lr: 2.5000e-04 - val_rmse: 0.6318\n",
      "Epoch 46/150\n",
      "560/560 [==============================] - 60s 108ms/step - loss: 0.1321 - coeff_determination: 0.8816 - lr: 2.5000e-04 - rmse: 0.3616 - val_loss: 0.3781 - val_coeff_determination: 0.6107 - val_lr: 2.5000e-04 - val_rmse: 0.6116\n",
      "Epoch 47/150\n",
      "560/560 [==============================] - 60s 107ms/step - loss: 0.1277 - coeff_determination: 0.8860 - lr: 2.5000e-04 - rmse: 0.3557 - val_loss: 0.4814 - val_coeff_determination: 0.5039 - val_lr: 2.5000e-04 - val_rmse: 0.6903\n",
      "Epoch 48/150\n",
      "560/560 [==============================] - 60s 108ms/step - loss: 0.1204 - coeff_determination: 0.8922 - lr: 2.5000e-04 - rmse: 0.3455 - val_loss: 0.3644 - val_coeff_determination: 0.6279 - val_lr: 2.5000e-04 - val_rmse: 0.5981\n",
      "Epoch 49/150\n",
      "560/560 [==============================] - 60s 108ms/step - loss: 0.1194 - coeff_determination: 0.8932 - lr: 2.5000e-04 - rmse: 0.3440 - val_loss: 0.4676 - val_coeff_determination: 0.5169 - val_lr: 2.5000e-04 - val_rmse: 0.6807\n",
      "Epoch 50/150\n",
      "560/560 [==============================] - 60s 107ms/step - loss: 0.1118 - coeff_determination: 0.8997 - lr: 2.5000e-04 - rmse: 0.3327 - val_loss: 0.3612 - val_coeff_determination: 0.6271 - val_lr: 2.5000e-04 - val_rmse: 0.5981\n",
      "Epoch 51/150\n",
      "560/560 [==============================] - 60s 108ms/step - loss: 0.1084 - coeff_determination: 0.9031 - lr: 2.5000e-04 - rmse: 0.3278 - val_loss: 0.3670 - val_coeff_determination: 0.6227 - val_lr: 2.5000e-04 - val_rmse: 0.6020\n",
      "Epoch 52/150\n",
      "560/560 [==============================] - 60s 108ms/step - loss: 0.1045 - coeff_determination: 0.9064 - lr: 2.5000e-04 - rmse: 0.3219 - val_loss: 0.3642 - val_coeff_determination: 0.6261 - val_lr: 2.5000e-04 - val_rmse: 0.5995\n",
      "Epoch 53/150\n",
      "560/560 [==============================] - 60s 108ms/step - loss: 0.1011 - coeff_determination: 0.9094 - lr: 2.5000e-04 - rmse: 0.3164 - val_loss: 0.3258 - val_coeff_determination: 0.6652 - val_lr: 2.5000e-04 - val_rmse: 0.5672\n",
      "Epoch 54/150\n",
      "560/560 [==============================] - 60s 108ms/step - loss: 0.0966 - coeff_determination: 0.9137 - lr: 2.5000e-04 - rmse: 0.3094 - val_loss: 0.3846 - val_coeff_determination: 0.6056 - val_lr: 2.5000e-04 - val_rmse: 0.6157\n",
      "Epoch 55/150\n",
      "560/560 [==============================] - 60s 107ms/step - loss: 0.0939 - coeff_determination: 0.9155 - lr: 2.5000e-04 - rmse: 0.3049 - val_loss: 0.3955 - val_coeff_determination: 0.5921 - val_lr: 2.5000e-04 - val_rmse: 0.6258\n",
      "Epoch 56/150\n",
      "560/560 [==============================] - 60s 108ms/step - loss: 0.0884 - coeff_determination: 0.9210 - lr: 2.5000e-04 - rmse: 0.2961 - val_loss: 0.3664 - val_coeff_determination: 0.6236 - val_lr: 2.5000e-04 - val_rmse: 0.6014\n",
      "Epoch 57/150\n",
      "560/560 [==============================] - 61s 108ms/step - loss: 0.0836 - coeff_determination: 0.9250 - lr: 2.5000e-04 - rmse: 0.2879 - val_loss: 0.3290 - val_coeff_determination: 0.6636 - val_lr: 2.5000e-04 - val_rmse: 0.5687\n",
      "Epoch 58/150\n",
      "560/560 [==============================] - 60s 108ms/step - loss: 0.0819 - coeff_determination: 0.9265 - lr: 2.5000e-04 - rmse: 0.2846 - val_loss: 0.4283 - val_coeff_determination: 0.5584 - val_lr: 2.5000e-04 - val_rmse: 0.6512\n",
      "Epoch 59/150\n",
      "560/560 [==============================] - 60s 108ms/step - loss: 0.0806 - coeff_determination: 0.9280 - lr: 2.5000e-04 - rmse: 0.2825 - val_loss: 0.2950 - val_coeff_determination: 0.7008 - val_lr: 2.5000e-04 - val_rmse: 0.5362\n",
      "Epoch 60/150\n",
      "560/560 [==============================] - 61s 108ms/step - loss: 0.0753 - coeff_determination: 0.9322 - lr: 2.5000e-04 - rmse: 0.2731 - val_loss: 0.3727 - val_coeff_determination: 0.6186 - val_lr: 2.5000e-04 - val_rmse: 0.6055\n",
      "Epoch 61/150\n"
     ]
    },
    {
     "name": "stdout",
     "output_type": "stream",
     "text": [
      "560/560 [==============================] - 60s 108ms/step - loss: 0.0726 - coeff_determination: 0.9350 - lr: 2.5000e-04 - rmse: 0.2681 - val_loss: 0.4146 - val_coeff_determination: 0.5740 - val_lr: 2.5000e-04 - val_rmse: 0.6398\n",
      "Epoch 62/150\n",
      "560/560 [==============================] - 61s 108ms/step - loss: 0.0706 - coeff_determination: 0.9368 - lr: 2.5000e-04 - rmse: 0.2644 - val_loss: 0.3370 - val_coeff_determination: 0.6563 - val_lr: 2.5000e-04 - val_rmse: 0.5749\n",
      "Epoch 63/150\n",
      "560/560 [==============================] - 61s 108ms/step - loss: 0.0666 - coeff_determination: 0.9403 - lr: 2.5000e-04 - rmse: 0.2569 - val_loss: 0.3477 - val_coeff_determination: 0.6447 - val_lr: 2.5000e-04 - val_rmse: 0.5845\n",
      "Epoch 64/150\n",
      "560/560 [==============================] - 60s 108ms/step - loss: 0.0641 - coeff_determination: 0.9424 - lr: 2.5000e-04 - rmse: 0.2520 - val_loss: 0.3351 - val_coeff_determination: 0.6589 - val_lr: 2.5000e-04 - val_rmse: 0.5723\n",
      "Epoch 65/150\n",
      "560/560 [==============================] - 60s 107ms/step - loss: 0.0624 - coeff_determination: 0.9437 - lr: 2.5000e-04 - rmse: 0.2489 - val_loss: 0.3617 - val_coeff_determination: 0.6307 - val_lr: 2.5000e-04 - val_rmse: 0.5951\n",
      "Epoch 66/150\n",
      "560/560 [==============================] - 61s 108ms/step - loss: 0.0597 - coeff_determination: 0.9466 - lr: 2.5000e-04 - rmse: 0.2433 - val_loss: 0.3408 - val_coeff_determination: 0.6527 - val_lr: 2.5000e-04 - val_rmse: 0.5778\n",
      "Epoch 67/150\n",
      "560/560 [==============================] - 60s 107ms/step - loss: 0.0589 - coeff_determination: 0.9470 - lr: 2.5000e-04 - rmse: 0.2415 - val_loss: 0.3426 - val_coeff_determination: 0.6496 - val_lr: 2.5000e-04 - val_rmse: 0.5799\n",
      "Epoch 68/150\n",
      "560/560 [==============================] - 60s 107ms/step - loss: 0.0549 - coeff_determination: 0.9507 - lr: 2.5000e-04 - rmse: 0.2333 - val_loss: 0.3559 - val_coeff_determination: 0.6379 - val_lr: 2.5000e-04 - val_rmse: 0.5899\n",
      "Epoch 69/150\n",
      "560/560 [==============================] - 60s 108ms/step - loss: 0.0532 - coeff_determination: 0.9525 - lr: 2.5000e-04 - rmse: 0.2295 - val_loss: 0.3162 - val_coeff_determination: 0.6783 - val_lr: 2.5000e-04 - val_rmse: 0.5560\n",
      "Epoch 70/150\n",
      "560/560 [==============================] - 60s 107ms/step - loss: 0.0521 - coeff_determination: 0.9532 - lr: 2.5000e-04 - rmse: 0.2272 - val_loss: 0.3368 - val_coeff_determination: 0.6606 - val_lr: 2.5000e-04 - val_rmse: 0.5705\n",
      "Epoch 71/150\n",
      "560/560 [==============================] - 60s 107ms/step - loss: 0.0508 - coeff_determination: 0.9543 - lr: 2.5000e-04 - rmse: 0.2240 - val_loss: 0.3425 - val_coeff_determination: 0.6515 - val_lr: 2.5000e-04 - val_rmse: 0.5783\n",
      "Epoch 72/150\n",
      "560/560 [==============================] - 61s 108ms/step - loss: 0.0504 - coeff_determination: 0.9547 - lr: 2.5000e-04 - rmse: 0.2232 - val_loss: 0.2975 - val_coeff_determination: 0.6997 - val_lr: 2.5000e-04 - val_rmse: 0.5366\n",
      "Epoch 73/150\n",
      "560/560 [==============================] - 60s 108ms/step - loss: 0.0480 - coeff_determination: 0.9570 - lr: 2.5000e-04 - rmse: 0.2179 - val_loss: 0.2918 - val_coeff_determination: 0.7055 - val_lr: 2.5000e-04 - val_rmse: 0.5311\n",
      "Epoch 74/150\n",
      "560/560 [==============================] - 60s 108ms/step - loss: 0.0446 - coeff_determination: 0.9600 - lr: 2.5000e-04 - rmse: 0.2101 - val_loss: 0.3076 - val_coeff_determination: 0.6885 - val_lr: 2.5000e-04 - val_rmse: 0.5467\n",
      "Epoch 75/150\n",
      "560/560 [==============================] - 60s 108ms/step - loss: 0.0442 - coeff_determination: 0.9603 - lr: 2.5000e-04 - rmse: 0.2093 - val_loss: 0.3396 - val_coeff_determination: 0.6556 - val_lr: 2.5000e-04 - val_rmse: 0.5750\n",
      "Epoch 76/150\n",
      "560/560 [==============================] - 60s 108ms/step - loss: 0.0428 - coeff_determination: 0.9616 - lr: 2.5000e-04 - rmse: 0.2058 - val_loss: 0.3210 - val_coeff_determination: 0.6752 - val_lr: 2.5000e-04 - val_rmse: 0.5580\n",
      "Epoch 77/150\n",
      "560/560 [==============================] - 60s 108ms/step - loss: 0.0398 - coeff_determination: 0.9643 - lr: 2.5000e-04 - rmse: 0.1986 - val_loss: 0.3229 - val_coeff_determination: 0.6747 - val_lr: 2.5000e-04 - val_rmse: 0.5576\n",
      "Epoch 78/150\n",
      "560/560 [==============================] - 61s 108ms/step - loss: 0.0411 - coeff_determination: 0.9632 - lr: 2.5000e-04 - rmse: 0.2018 - val_loss: 0.3140 - val_coeff_determination: 0.6827 - val_lr: 2.5000e-04 - val_rmse: 0.5519\n",
      "Epoch 79/150\n",
      "560/560 [==============================] - 60s 108ms/step - loss: 0.0385 - coeff_determination: 0.9654 - lr: 2.5000e-04 - rmse: 0.1951 - val_loss: 0.3148 - val_coeff_determination: 0.6805 - val_lr: 2.5000e-04 - val_rmse: 0.5540\n",
      "Epoch 80/150\n",
      "560/560 [==============================] - 60s 108ms/step - loss: 0.0397 - coeff_determination: 0.9644 - lr: 2.5000e-04 - rmse: 0.1979 - val_loss: 0.3107 - val_coeff_determination: 0.6843 - val_lr: 2.5000e-04 - val_rmse: 0.5507\n",
      "Epoch 81/150\n",
      "560/560 [==============================] - 61s 108ms/step - loss: 0.0365 - coeff_determination: 0.9673 - lr: 2.5000e-04 - rmse: 0.1900 - val_loss: 0.3070 - val_coeff_determination: 0.6908 - val_lr: 2.5000e-04 - val_rmse: 0.5442\n",
      "Epoch 82/150\n",
      "560/560 [==============================] - 60s 108ms/step - loss: 0.0358 - coeff_determination: 0.9678 - lr: 2.5000e-04 - rmse: 0.1878 - val_loss: 0.3159 - val_coeff_determination: 0.6788 - val_lr: 2.5000e-04 - val_rmse: 0.5556\n",
      "Epoch 83/150\n",
      "560/560 [==============================] - 60s 108ms/step - loss: 0.0353 - coeff_determination: 0.9683 - lr: 2.5000e-04 - rmse: 0.1869 - val_loss: 0.3368 - val_coeff_determination: 0.6570 - val_lr: 2.5000e-04 - val_rmse: 0.5737\n",
      "Epoch 84/150\n",
      "560/560 [==============================] - 61s 109ms/step - loss: 0.0346 - coeff_determination: 0.9691 - lr: 2.5000e-04 - rmse: 0.1848 - val_loss: 0.2875 - val_coeff_determination: 0.7101 - val_lr: 2.5000e-04 - val_rmse: 0.5273\n",
      "Epoch 85/150\n",
      "560/560 [==============================] - 60s 108ms/step - loss: 0.0326 - coeff_determination: 0.9708 - lr: 2.5000e-04 - rmse: 0.1794 - val_loss: 0.3250 - val_coeff_determination: 0.6735 - val_lr: 2.5000e-04 - val_rmse: 0.5585\n",
      "Epoch 86/150\n",
      "560/560 [==============================] - 60s 108ms/step - loss: 0.0316 - coeff_determination: 0.9716 - lr: 2.5000e-04 - rmse: 0.1767 - val_loss: 0.3124 - val_coeff_determination: 0.6841 - val_lr: 2.5000e-04 - val_rmse: 0.5501\n",
      "Epoch 87/150\n",
      "560/560 [==============================] - 61s 108ms/step - loss: 0.0303 - coeff_determination: 0.9728 - lr: 2.5000e-04 - rmse: 0.1729 - val_loss: 0.3477 - val_coeff_determination: 0.6478 - val_lr: 2.5000e-04 - val_rmse: 0.5815\n",
      "Epoch 88/150\n",
      "560/560 [==============================] - 60s 108ms/step - loss: 0.0306 - coeff_determination: 0.9727 - lr: 2.5000e-04 - rmse: 0.1736 - val_loss: 0.3149 - val_coeff_determination: 0.6809 - val_lr: 2.5000e-04 - val_rmse: 0.5534\n",
      "Epoch 89/150\n",
      "560/560 [==============================] - 60s 108ms/step - loss: 0.0310 - coeff_determination: 0.9722 - lr: 2.5000e-04 - rmse: 0.1745 - val_loss: 0.3509 - val_coeff_determination: 0.6431 - val_lr: 2.5000e-04 - val_rmse: 0.5852\n",
      "Epoch 90/150\n",
      "560/560 [==============================] - 61s 109ms/step - loss: 0.0319 - coeff_determination: 0.9713 - lr: 2.5000e-04 - rmse: 0.1763 - val_loss: 0.2977 - val_coeff_determination: 0.7003 - val_lr: 2.5000e-04 - val_rmse: 0.5355\n",
      "Epoch 91/150\n",
      "560/560 [==============================] - 61s 108ms/step - loss: 0.0278 - coeff_determination: 0.9751 - lr: 2.5000e-04 - rmse: 0.1657 - val_loss: 0.2793 - val_coeff_determination: 0.7171 - val_lr: 2.5000e-04 - val_rmse: 0.5206\n",
      "Epoch 92/150\n",
      "560/560 [==============================] - 61s 108ms/step - loss: 0.0301 - coeff_determination: 0.9731 - lr: 2.5000e-04 - rmse: 0.1708 - val_loss: 0.3122 - val_coeff_determination: 0.6851 - val_lr: 2.5000e-04 - val_rmse: 0.5492\n",
      "Epoch 93/150\n",
      "560/560 [==============================] - 61s 108ms/step - loss: 0.0271 - coeff_determination: 0.9756 - lr: 2.5000e-04 - rmse: 0.1631 - val_loss: 0.2914 - val_coeff_determination: 0.7063 - val_lr: 2.5000e-04 - val_rmse: 0.5294\n",
      "Epoch 94/150\n",
      "560/560 [==============================] - 60s 108ms/step - loss: 0.0246 - coeff_determination: 0.9780 - lr: 2.5000e-04 - rmse: 0.1557 - val_loss: 0.3054 - val_coeff_determination: 0.6916 - val_lr: 2.5000e-04 - val_rmse: 0.5429\n",
      "Epoch 95/150\n"
     ]
    },
    {
     "name": "stdout",
     "output_type": "stream",
     "text": [
      "560/560 [==============================] - 60s 107ms/step - loss: 0.0261 - coeff_determination: 0.9766 - lr: 2.5000e-04 - rmse: 0.1601 - val_loss: 0.2907 - val_coeff_determination: 0.7064 - val_lr: 2.5000e-04 - val_rmse: 0.5302\n",
      "Epoch 96/150\n",
      "560/560 [==============================] - 61s 108ms/step - loss: 0.0243 - coeff_determination: 0.9783 - lr: 2.5000e-04 - rmse: 0.1546 - val_loss: 0.2998 - val_coeff_determination: 0.6981 - val_lr: 2.5000e-04 - val_rmse: 0.5371\n",
      "Epoch 97/150\n",
      "560/560 [==============================] - 60s 107ms/step - loss: 0.0253 - coeff_determination: 0.9774 - lr: 2.5000e-04 - rmse: 0.1576 - val_loss: 0.3002 - val_coeff_determination: 0.6986 - val_lr: 2.5000e-04 - val_rmse: 0.5355\n",
      "Epoch 98/150\n",
      "560/560 [==============================] - 60s 108ms/step - loss: 0.0247 - coeff_determination: 0.9779 - lr: 2.5000e-04 - rmse: 0.1560 - val_loss: 0.3070 - val_coeff_determination: 0.6890 - val_lr: 2.5000e-04 - val_rmse: 0.5461\n",
      "Epoch 99/150\n",
      "560/560 [==============================] - 60s 108ms/step - loss: 0.0238 - coeff_determination: 0.9787 - lr: 2.5000e-04 - rmse: 0.1531 - val_loss: 0.3098 - val_coeff_determination: 0.6888 - val_lr: 2.5000e-04 - val_rmse: 0.5437\n",
      "Epoch 100/150\n",
      "560/560 [==============================] - 60s 108ms/step - loss: 0.0228 - coeff_determination: 0.9796 - lr: 2.5000e-04 - rmse: 0.1491 - val_loss: 0.3202 - val_coeff_determination: 0.6777 - val_lr: 2.5000e-04 - val_rmse: 0.5552\n",
      "Epoch 101/150\n",
      "560/560 [==============================] - 60s 108ms/step - loss: 0.0221 - coeff_determination: 0.9802 - lr: 2.5000e-04 - rmse: 0.1476 - val_loss: 0.2969 - val_coeff_determination: 0.7026 - val_lr: 2.5000e-04 - val_rmse: 0.5331\n",
      "Epoch 102/150\n",
      "560/560 [==============================] - 60s 108ms/step - loss: 0.0231 - coeff_determination: 0.9793 - lr: 2.5000e-04 - rmse: 0.1503 - val_loss: 0.2978 - val_coeff_determination: 0.6996 - val_lr: 2.5000e-04 - val_rmse: 0.5361\n",
      "Epoch 103/150\n",
      "560/560 [==============================] - 60s 107ms/step - loss: 0.0230 - coeff_determination: 0.9794 - lr: 2.5000e-04 - rmse: 0.1499 - val_loss: 0.2825 - val_coeff_determination: 0.7164 - val_lr: 2.5000e-04 - val_rmse: 0.5207\n",
      "Epoch 104/150\n",
      "560/560 [==============================] - 60s 108ms/step - loss: 0.0219 - coeff_determination: 0.9804 - lr: 2.5000e-04 - rmse: 0.1460 - val_loss: 0.2752 - val_coeff_determination: 0.7237 - val_lr: 2.5000e-04 - val_rmse: 0.5140\n",
      "Epoch 105/150\n",
      "560/560 [==============================] - 60s 107ms/step - loss: 0.0208 - coeff_determination: 0.9814 - lr: 2.5000e-04 - rmse: 0.1429 - val_loss: 0.3319 - val_coeff_determination: 0.6646 - val_lr: 2.5000e-04 - val_rmse: 0.5670\n",
      "Epoch 106/150\n",
      "560/560 [==============================] - 60s 108ms/step - loss: 0.0196 - coeff_determination: 0.9825 - lr: 2.5000e-04 - rmse: 0.1387 - val_loss: 0.2983 - val_coeff_determination: 0.7002 - val_lr: 2.5000e-04 - val_rmse: 0.5346\n",
      "Epoch 107/150\n",
      "560/560 [==============================] - 60s 108ms/step - loss: 0.0214 - coeff_determination: 0.9809 - lr: 2.5000e-04 - rmse: 0.1442 - val_loss: 0.3180 - val_coeff_determination: 0.6797 - val_lr: 2.5000e-04 - val_rmse: 0.5536\n",
      "Epoch 108/150\n",
      "560/560 [==============================] - 60s 108ms/step - loss: 0.0282 - coeff_determination: 0.9746 - lr: 2.5000e-04 - rmse: 0.1570 - val_loss: 0.2882 - val_coeff_determination: 0.7107 - val_lr: 2.5000e-04 - val_rmse: 0.5255\n",
      "Epoch 109/150\n",
      "560/560 [==============================] - 60s 108ms/step - loss: 0.0177 - coeff_determination: 0.9840 - lr: 2.5000e-04 - rmse: 0.1319 - val_loss: 0.2845 - val_coeff_determination: 0.7139 - val_lr: 2.5000e-04 - val_rmse: 0.5227\n",
      "Epoch 110/150\n",
      "560/560 [==============================] - 60s 108ms/step - loss: 0.0175 - coeff_determination: 0.9843 - lr: 2.5000e-04 - rmse: 0.1312 - val_loss: 0.3014 - val_coeff_determination: 0.6962 - val_lr: 2.5000e-04 - val_rmse: 0.5392\n",
      "Epoch 111/150\n",
      "560/560 [==============================] - 60s 108ms/step - loss: 0.0192 - coeff_determination: 0.9828 - lr: 2.5000e-04 - rmse: 0.1372 - val_loss: 0.2926 - val_coeff_determination: 0.7044 - val_lr: 2.5000e-04 - val_rmse: 0.5325\n",
      "Epoch 112/150\n",
      "560/560 [==============================] - 60s 107ms/step - loss: 0.0180 - coeff_determination: 0.9839 - lr: 2.5000e-04 - rmse: 0.1323 - val_loss: 0.2667 - val_coeff_determination: 0.7325 - val_lr: 2.5000e-04 - val_rmse: 0.5052\n",
      "Epoch 113/150\n",
      "560/560 [==============================] - 60s 107ms/step - loss: 0.0172 - coeff_determination: 0.9845 - lr: 2.5000e-04 - rmse: 0.1301 - val_loss: 0.2848 - val_coeff_determination: 0.7121 - val_lr: 2.5000e-04 - val_rmse: 0.5249\n",
      "Epoch 114/150\n",
      "560/560 [==============================] - 60s 108ms/step - loss: 0.0175 - coeff_determination: 0.9844 - lr: 2.5000e-04 - rmse: 0.1311 - val_loss: 0.2852 - val_coeff_determination: 0.7127 - val_lr: 2.5000e-04 - val_rmse: 0.5239\n",
      "Epoch 115/150\n",
      "560/560 [==============================] - 60s 108ms/step - loss: 0.0181 - coeff_determination: 0.9838 - lr: 2.5000e-04 - rmse: 0.1327 - val_loss: 0.2912 - val_coeff_determination: 0.7058 - val_lr: 2.5000e-04 - val_rmse: 0.5293\n",
      "Epoch 116/150\n",
      "560/560 [==============================] - 60s 108ms/step - loss: 0.0175 - coeff_determination: 0.9843 - lr: 2.5000e-04 - rmse: 0.1311 - val_loss: 0.2919 - val_coeff_determination: 0.7045 - val_lr: 2.5000e-04 - val_rmse: 0.5316\n",
      "Epoch 117/150\n",
      "560/560 [==============================] - 60s 108ms/step - loss: 0.0175 - coeff_determination: 0.9843 - lr: 2.5000e-04 - rmse: 0.1309 - val_loss: 0.2798 - val_coeff_determination: 0.7164 - val_lr: 2.5000e-04 - val_rmse: 0.5207\n",
      "Epoch 118/150\n",
      "560/560 [==============================] - 60s 107ms/step - loss: 0.0182 - coeff_determination: 0.9837 - lr: 2.5000e-04 - rmse: 0.1325 - val_loss: 0.3000 - val_coeff_determination: 0.6979 - val_lr: 2.5000e-04 - val_rmse: 0.5371\n",
      "Epoch 119/150\n",
      "560/560 [==============================] - 61s 108ms/step - loss: 0.0189 - coeff_determination: 0.9831 - lr: 2.5000e-04 - rmse: 0.1340 - val_loss: 0.2815 - val_coeff_determination: 0.7177 - val_lr: 2.5000e-04 - val_rmse: 0.5185\n",
      "Epoch 120/150\n",
      "560/560 [==============================] - 60s 107ms/step - loss: 0.0161 - coeff_determination: 0.9855 - lr: 2.5000e-04 - rmse: 0.1249 - val_loss: 0.3039 - val_coeff_determination: 0.6927 - val_lr: 2.5000e-04 - val_rmse: 0.5414\n",
      "Epoch 121/150\n",
      "560/560 [==============================] - 60s 107ms/step - loss: 0.0138 - coeff_determination: 0.9876 - lr: 2.5000e-04 - rmse: 0.1164 - val_loss: 0.3107 - val_coeff_determination: 0.6874 - val_lr: 2.5000e-04 - val_rmse: 0.5460\n",
      "Epoch 122/150\n",
      "560/560 [==============================] - 60s 108ms/step - loss: 0.0156 - coeff_determination: 0.9860 - lr: 2.5000e-04 - rmse: 0.1237 - val_loss: 0.2951 - val_coeff_determination: 0.7019 - val_lr: 2.5000e-04 - val_rmse: 0.5337\n",
      "Epoch 123/150\n",
      "560/560 [==============================] - 60s 108ms/step - loss: 0.0163 - coeff_determination: 0.9854 - lr: 2.5000e-04 - rmse: 0.1262 - val_loss: 0.2767 - val_coeff_determination: 0.7228 - val_lr: 2.5000e-04 - val_rmse: 0.5129\n",
      "Epoch 124/150\n",
      "560/560 [==============================] - 60s 108ms/step - loss: 0.0145 - coeff_determination: 0.9869 - lr: 2.5000e-04 - rmse: 0.1192 - val_loss: 0.2782 - val_coeff_determination: 0.7198 - val_lr: 2.5000e-04 - val_rmse: 0.5176\n",
      "Epoch 125/150\n",
      "560/560 [==============================] - 61s 108ms/step - loss: 0.0151 - coeff_determination: 0.9865 - lr: 2.5000e-04 - rmse: 0.1215 - val_loss: 0.2808 - val_coeff_determination: 0.7169 - val_lr: 2.5000e-04 - val_rmse: 0.5200\n",
      "Epoch 126/150\n",
      "560/560 [==============================] - 60s 107ms/step - loss: 0.0161 - coeff_determination: 0.9857 - lr: 2.5000e-04 - rmse: 0.1245 - val_loss: 0.3000 - val_coeff_determination: 0.6983 - val_lr: 2.5000e-04 - val_rmse: 0.5352\n",
      "Epoch 127/150\n",
      "560/560 [==============================] - 60s 107ms/step - loss: 0.0130 - coeff_determination: 0.9882 - lr: 2.5000e-04 - rmse: 0.1131 - val_loss: 0.2683 - val_coeff_determination: 0.7300 - val_lr: 2.5000e-04 - val_rmse: 0.5074\n",
      "Epoch 128/150\n",
      "560/560 [==============================] - 60s 108ms/step - loss: 0.0133 - coeff_determination: 0.9881 - lr: 2.5000e-04 - rmse: 0.1141 - val_loss: 0.2768 - val_coeff_determination: 0.7231 - val_lr: 2.5000e-04 - val_rmse: 0.5134\n"
     ]
    },
    {
     "name": "stdout",
     "output_type": "stream",
     "text": [
      "Epoch 129/150\n",
      "560/560 [==============================] - 60s 108ms/step - loss: 0.0132 - coeff_determination: 0.9882 - lr: 2.5000e-04 - rmse: 0.1135 - val_loss: 0.2906 - val_coeff_determination: 0.7080 - val_lr: 2.5000e-04 - val_rmse: 0.5281\n",
      "Epoch 130/150\n",
      "560/560 [==============================] - 60s 108ms/step - loss: 0.0139 - coeff_determination: 0.9877 - lr: 2.5000e-04 - rmse: 0.1166 - val_loss: 0.2713 - val_coeff_determination: 0.7296 - val_lr: 2.5000e-04 - val_rmse: 0.5072\n",
      "Epoch 131/150\n",
      "560/560 [==============================] - 60s 108ms/step - loss: 0.0173 - coeff_determination: 0.9843 - lr: 2.5000e-04 - rmse: 0.1274 - val_loss: 0.2844 - val_coeff_determination: 0.7165 - val_lr: 2.5000e-04 - val_rmse: 0.5188\n",
      "Epoch 132/150\n",
      "560/560 [==============================] - 60s 107ms/step - loss: 0.0150 - coeff_determination: 0.9866 - lr: 2.5000e-04 - rmse: 0.1201 - val_loss: 0.2906 - val_coeff_determination: 0.7047 - val_lr: 2.5000e-04 - val_rmse: 0.5313\n",
      "Epoch 133/150\n",
      "560/560 [==============================] - 60s 108ms/step - loss: 0.0125 - coeff_determination: 0.9888 - lr: 2.5000e-04 - rmse: 0.1105 - val_loss: 0.2746 - val_coeff_determination: 0.7236 - val_lr: 2.5000e-04 - val_rmse: 0.5131\n",
      "Epoch 134/150\n",
      "560/560 [==============================] - 60s 108ms/step - loss: 0.0120 - coeff_determination: 0.9893 - lr: 2.5000e-04 - rmse: 0.1086 - val_loss: 0.2833 - val_coeff_determination: 0.7144 - val_lr: 2.5000e-04 - val_rmse: 0.5225\n",
      "Epoch 135/150\n",
      "560/560 [==============================] - 60s 107ms/step - loss: 0.0123 - coeff_determination: 0.9889 - lr: 2.5000e-04 - rmse: 0.1098 - val_loss: 0.2828 - val_coeff_determination: 0.7150 - val_lr: 2.5000e-04 - val_rmse: 0.5217\n",
      "Epoch 136/150\n",
      "560/560 [==============================] - 60s 107ms/step - loss: 0.0154 - coeff_determination: 0.9861 - lr: 2.5000e-04 - rmse: 0.1209 - val_loss: 0.2899 - val_coeff_determination: 0.7054 - val_lr: 2.5000e-04 - val_rmse: 0.5315\n",
      "Epoch 137/150\n",
      "560/560 [==============================] - 60s 108ms/step - loss: 0.0153 - coeff_determination: 0.9864 - lr: 2.5000e-04 - rmse: 0.1197 - val_loss: 0.2873 - val_coeff_determination: 0.7094 - val_lr: 2.5000e-04 - val_rmse: 0.5282\n",
      "Epoch 138/150\n",
      "560/560 [==============================] - 60s 107ms/step - loss: 0.0114 - coeff_determination: 0.9898 - lr: 2.5000e-04 - rmse: 0.1056 - val_loss: 0.3030 - val_coeff_determination: 0.6930 - val_lr: 2.5000e-04 - val_rmse: 0.5419\n",
      "Epoch 139/150\n",
      "560/560 [==============================] - 60s 108ms/step - loss: 0.0130 - coeff_determination: 0.9883 - lr: 2.5000e-04 - rmse: 0.1118 - val_loss: 0.2939 - val_coeff_determination: 0.7042 - val_lr: 2.5000e-04 - val_rmse: 0.5315\n",
      "Epoch 140/150\n",
      "560/560 [==============================] - 60s 108ms/step - loss: 0.0126 - coeff_determination: 0.9887 - lr: 2.5000e-04 - rmse: 0.1101 - val_loss: 0.2931 - val_coeff_determination: 0.7024 - val_lr: 2.5000e-04 - val_rmse: 0.5344\n",
      "Epoch 141/150\n",
      "560/560 [==============================] - 60s 107ms/step - loss: 0.0122 - coeff_determination: 0.9890 - lr: 2.5000e-04 - rmse: 0.1087 - val_loss: 0.2755 - val_coeff_determination: 0.7234 - val_lr: 2.5000e-04 - val_rmse: 0.5139\n",
      "Epoch 142/150\n",
      "560/560 [==============================] - 60s 107ms/step - loss: 0.0114 - coeff_determination: 0.9898 - lr: 2.5000e-04 - rmse: 0.1052 - val_loss: 0.2771 - val_coeff_determination: 0.7214 - val_lr: 2.5000e-04 - val_rmse: 0.5166\n",
      "Epoch 143/150\n",
      "560/560 [==============================] - 60s 108ms/step - loss: 0.0148 - coeff_determination: 0.9867 - lr: 2.5000e-04 - rmse: 0.1184 - val_loss: 0.2983 - val_coeff_determination: 0.6984 - val_lr: 2.5000e-04 - val_rmse: 0.5368\n",
      "Epoch 144/150\n",
      "560/560 [==============================] - 60s 107ms/step - loss: 0.0158 - coeff_determination: 0.9859 - lr: 2.5000e-04 - rmse: 0.1188 - val_loss: 0.2883 - val_coeff_determination: 0.7100 - val_lr: 2.5000e-04 - val_rmse: 0.5262\n",
      "Epoch 145/150\n",
      "560/560 [==============================] - 60s 108ms/step - loss: 0.0098 - coeff_determination: 0.9912 - lr: 2.5000e-04 - rmse: 0.0978 - val_loss: 0.2857 - val_coeff_determination: 0.7115 - val_lr: 2.5000e-04 - val_rmse: 0.5242\n",
      "Epoch 146/150\n",
      "560/560 [==============================] - 60s 108ms/step - loss: 0.0133 - coeff_determination: 0.9881 - lr: 2.5000e-04 - rmse: 0.1120 - val_loss: 0.2822 - val_coeff_determination: 0.7164 - val_lr: 2.5000e-04 - val_rmse: 0.5179\n",
      "Epoch 147/150\n",
      "560/560 [==============================] - 60s 108ms/step - loss: 0.0095 - coeff_determination: 0.9915 - lr: 2.5000e-04 - rmse: 0.0965 - val_loss: 0.2941 - val_coeff_determination: 0.7031 - val_lr: 2.5000e-04 - val_rmse: 0.5330\n",
      "Epoch 148/150\n",
      "560/560 [==============================] - 60s 107ms/step - loss: 0.0147 - coeff_determination: 0.9868 - lr: 2.5000e-04 - rmse: 0.1166 - val_loss: 0.2827 - val_coeff_determination: 0.7133 - val_lr: 2.5000e-04 - val_rmse: 0.5240\n",
      "Epoch 149/150\n",
      "560/560 [==============================] - 61s 109ms/step - loss: 0.0093 - coeff_determination: 0.9916 - lr: 2.5000e-04 - rmse: 0.0951 - val_loss: 0.3030 - val_coeff_determination: 0.6921 - val_lr: 2.5000e-04 - val_rmse: 0.5427\n",
      "Epoch 150/150\n",
      "560/560 [==============================] - 60s 108ms/step - loss: 0.0145 - coeff_determination: 0.9870 - lr: 2.5000e-04 - rmse: 0.1164 - val_loss: 0.2676 - val_coeff_determination: 0.7293 - val_lr: 2.5000e-04 - val_rmse: 0.5089\n"
     ]
    }
   ],
   "source": [
    "#Concatenate for longer epochs\n",
    "Xt = np.concatenate([X_train]*50, axis=0)\n",
    "yt = np.concatenate([y_train]*50, axis=0)\n",
    " \n",
    "batch_size=128\n",
    "\n",
    "g = generator.flow(Xt, yt, batch_size=batch_size, shuffle=True)\n",
    "steps_per_epoch = 10000/batch_size\n",
    "\n",
    "\n",
    "\n",
    "callbacks_list = [\n",
    "    ReduceLROnPlateau(monitor='val_loss', factor=0.5, patience=5, min_lr=1e-15, verbose=0, mode='auto',cooldown=0),\n",
    "    ModelCheckpoint(filepath=\"weights.best.hdf5\", monitor='val_loss', save_best_only=True, verbose=0, mode='auto'),\n",
    "    NBatchLogger(display=10)\n",
    "]\n",
    "\n",
    "\n",
    "\n",
    "history =model.fit_generator(g,\n",
    "                              steps_per_epoch=len(Xt)//batch_size,\n",
    "                              epochs=150,\n",
    "                              validation_data=(X_test,y_test),verbose=1)\n",
    "                              #callbacks=callbacks_list)"
   ]
  },
  {
   "cell_type": "code",
   "execution_count": 22,
   "metadata": {},
   "outputs": [
    {
     "name": "stderr",
     "output_type": "stream",
     "text": [
      "/home/ubuntu/anaconda3/envs/tensorflow_p36/lib/python3.6/site-packages/matplotlib/figure.py:98: MatplotlibDeprecationWarning: \n",
      "Adding an axes using the same arguments as a previous axes currently reuses the earlier instance.  In a future version, a new instance will always be created and returned.  Meanwhile, this warning can be suppressed, and the future behavior ensured, by passing a unique label to each axes instance.\n",
      "  \"Adding an axes using the same arguments as a previous axes \"\n",
      "No handles with labels found to put in legend.\n",
      "No handles with labels found to put in legend.\n"
     ]
    },
    {
     "data": {
      "image/png": "[encoded data removed]",
      "text/plain": [
       "<Figure size 720x576 with 4 Axes>"
      ]
     },
     "metadata": {},
     "output_type": "display_data"
    }
   ],
   "source": [
    "hist = history.history\n",
    "\n",
    "plt.figure(figsize=(10, 8))\n",
    "\n",
    "for label in ['val_coeff_determination','coeff_determination']:\n",
    "    plt.subplot(221)\n",
    "    plt.plot(hist[label], label = label)\n",
    "    plt.legend()\n",
    "    plt.xlabel(\"Epochs\")\n",
    "    plt.ylabel(\"coeff_determination\")\n",
    "    \n",
    "for label in ['val_loss','loss']:\n",
    "    plt.subplot(222)\n",
    "    plt.plot(hist[label], label = label)\n",
    "    plt.legend()\n",
    "    plt.xlabel(\"Epochs\")\n",
    "    plt.ylabel(\"loss\")\n",
    "\n",
    "\n",
    "\n",
    "plt.subplot(223)\n",
    "plt.plot( hist['lr'],hist['val_coeff_determination']  )\n",
    "plt.legend()\n",
    "plt.xlabel(\"lr\")\n",
    "plt.ylabel(\"val_coeff_determination\")\n",
    "\n",
    "\n",
    "plt.subplot(224)\n",
    "plt.plot( hist['lr'],hist['val_loss']  )\n",
    "plt.legend()\n",
    "plt.xlabel(\"lr\")\n",
    "plt.ylabel(\"val_loss\")\n",
    "\n",
    "    \n",
    "plt.subplots_adjust(top=0.92, bottom=0.08, left=0.10, right=0.95, hspace=0.25,\n",
    "                    wspace=0.35)"
   ]
  },
  {
   "cell_type": "code",
   "execution_count": null,
   "metadata": {},
   "outputs": [],
   "source": []
  }
 ],
 "metadata": {
  "kernelspec": {
   "display_name": "Python 3",
   "language": "python",
   "name": "python3"
  },
  "language_info": {
   "codemirror_mode": {
    "name": "ipython",
    "version": 3
   },
   "file_extension": ".py",
   "mimetype": "text/x-python",
   "name": "python",
   "nbconvert_exporter": "python",
   "pygments_lexer": "ipython3",
   "version": "3.6.5"
  }
 },
 "nbformat": 4,
 "nbformat_minor": 2
}
