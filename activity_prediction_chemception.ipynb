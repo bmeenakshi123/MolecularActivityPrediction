{
 "cells": [
  {
   "cell_type": "code",
   "execution_count": 1,
   "metadata": {},
   "outputs": [
    {
     "name": "stderr",
     "output_type": "stream",
     "text": [
      "Using TensorFlow backend.\n"
     ]
    },
    {
     "name": "stdout",
     "output_type": "stream",
     "text": [
      "WARNING:tensorflow:From /home/ubuntu/anaconda3/envs/tensorflow_p36/lib/python3.6/site-packages/tensorflow_core/__init__.py:1467: The name tf.estimator.inputs is deprecated. Please use tf.compat.v1.estimator.inputs instead.\n",
      "\n"
     ]
    }
   ],
   "source": [
    "from keras import optimizers\n",
    "from keras.callbacks import ModelCheckpoint\n",
    "from keras import backend as K\n",
    "from keras import optimizers\n",
    "from keras.layers import Dense\n",
    "from keras.layers import Dense, Dropout\n",
    "from keras.models import Sequential\n",
    "from keras.wrappers.scikit_learn import KerasClassifier\n",
    "from pandas import ExcelFile\n",
    "from pandas import ExcelWriter\n",
    "from PIL import Image\n",
    "from scipy import ndimage\n",
    "from scipy.stats import randint as sp_randint\n",
    "from sklearn.base import BaseEstimator\n",
    "from sklearn.base import TransformerMixin\n",
    "from sklearn.ensemble import ExtraTreesClassifier\n",
    "from sklearn.ensemble import RandomForestClassifier\n",
    "from sklearn.feature_selection import SelectFromModel\n",
    "from sklearn import datasets\n",
    "from sklearn import metrics\n",
    "from sklearn import pipeline\n",
    "from sklearn.metrics import roc_auc_score, roc_curve\n",
    "from sklearn.model_selection import cross_val_score\n",
    "from sklearn.model_selection import GridSearchCV\n",
    "from sklearn.model_selection import PredefinedSplit\n",
    "from sklearn.model_selection import RandomizedSearchCV\n",
    "from sklearn.model_selection import ShuffleSplit\n",
    "from sklearn.model_selection import StratifiedKFold\n",
    "from sklearn.model_selection import train_test_split\n",
    "from sklearn.pipeline import Pipeline\n",
    "from sklearn.preprocessing import FunctionTransformer\n",
    "from sklearn.preprocessing import Imputer\n",
    "from sklearn.preprocessing import LabelEncoder\n",
    "from sklearn.preprocessing import StandardScaler\n",
    "from sklearn.utils import resample\n",
    "from tensorflow.python.framework import ops\n",
    "import h5py\n",
    "import keras\n",
    "import matplotlib.pyplot as plt\n",
    "import numpy as np\n",
    "import openpyxl\n",
    "import pandas as pd\n",
    "import scipy\n",
    "import tensorflow as tf\n",
    "import xlsxwriter\n",
    "\n",
    "import numpy as np\n",
    "from keras import layers\n",
    "from keras.layers import Input, Dense, Activation, ZeroPadding2D, BatchNormalization, Flatten, Conv2D\n",
    "from keras.layers import AveragePooling2D, MaxPooling2D, Dropout, GlobalMaxPooling2D, GlobalAveragePooling2D\n",
    "from keras.models import Model\n",
    "from keras.preprocessing import image\n",
    "from keras.utils import layer_utils\n",
    "from keras.utils.data_utils import get_file\n",
    "from keras.applications.imagenet_utils import preprocess_input\n",
    "#import pydot\n",
    "from IPython.display import SVG\n",
    "from keras.utils.vis_utils import model_to_dot\n",
    "from keras.utils import plot_model\n",
    "\n",
    "\n",
    "import keras.backend as K\n",
    "%load_ext autoreload\n",
    "%matplotlib inline"
   ]
  },
  {
   "cell_type": "code",
   "execution_count": 2,
   "metadata": {},
   "outputs": [
    {
     "name": "stdout",
     "output_type": "stream",
     "text": [
      "RDKit: 2019.09.3\n"
     ]
    },
    {
     "name": "stderr",
     "output_type": "stream",
     "text": [
      "RDKit WARNING: [00:42:11] Enabling RDKit 2019.09.3 jupyter extensions\n"
     ]
    }
   ],
   "source": [
    "from __future__ import print_function\n",
    "import rdkit\n",
    "from rdkit import Chem\n",
    "from rdkit.Chem import AllChem\n",
    "import pandas as pd\n",
    "import numpy as np\n",
    " \n",
    "from matplotlib import pyplot as plt\n",
    "%matplotlib inline\n",
    "print(\"RDKit: %s\"%rdkit.__version__)"
   ]
  },
  {
   "cell_type": "code",
   "execution_count": 3,
   "metadata": {},
   "outputs": [
    {
     "name": "stdout",
     "output_type": "stream",
     "text": [
      "Keras: 2.2.4\n"
     ]
    }
   ],
   "source": [
    "import keras\n",
    "from sklearn.utils import shuffle\n",
    "from keras.models import Sequential, Model\n",
    "from keras.layers import Conv2D, MaxPooling2D, Input, GlobalMaxPooling2D\n",
    "from keras.layers.core import Dense, Dropout, Activation, Flatten\n",
    "from keras.optimizers import Adam\n",
    "from keras.preprocessing.image import ImageDataGenerator\n",
    "from keras.callbacks import ReduceLROnPlateau\n",
    "print(\"Keras: %s\"%keras.__version__)"
   ]
  },
  {
   "cell_type": "code",
   "execution_count": 4,
   "metadata": {},
   "outputs": [],
   "source": [
    "data = pd.read_excel(r'IGC50.xlsx')"
   ]
  },
  {
   "cell_type": "code",
   "execution_count": 5,
   "metadata": {},
   "outputs": [],
   "source": [
    "data[\"mol\"] = data[\"smiles\"].apply(Chem.MolFromSmiles)"
   ]
  },
  {
   "cell_type": "code",
   "execution_count": 6,
   "metadata": {},
   "outputs": [],
   "source": [
    "def chemcepterize_mol(mol, embed=20.0, res=0.5):\n",
    "    dims = int(embed*2/res)\n",
    "    #print(dims)\n",
    "   \n",
    "    #print(mol)\n",
    "    #print(\",,,,,,,,,,,,,,,,,,,,,,\")\n",
    "    cmol = Chem.Mol(mol.ToBinary())\n",
    "    #print(cmol)\n",
    "    #print(\",,,,,,,,,,,,,,,,,,,,,,\")\n",
    "    cmol.ComputeGasteigerCharges()\n",
    "    AllChem.Compute2DCoords(cmol)\n",
    "    coords = cmol.GetConformer(0).GetPositions()\n",
    "    #print(coords)\n",
    "    #print(\",,,,,,,,,,,,,,,,,,,,,,\")\n",
    "    vect = np.zeros((dims,dims,4))\n",
    "    #Bonds first\n",
    "    for i,bond in enumerate(mol.GetBonds()):\n",
    "        bondorder = bond.GetBondTypeAsDouble()\n",
    "        bidx = bond.GetBeginAtomIdx()\n",
    "        eidx = bond.GetEndAtomIdx()\n",
    "        bcoords = coords[bidx]\n",
    "        ecoords = coords[eidx]\n",
    "        frac = np.linspace(0,1,int(1/res*2)) #\n",
    "        for f in frac:\n",
    "            c = (f*bcoords + (1-f)*ecoords)\n",
    "            idx = int(round((c[0] + embed)/res))\n",
    "            idy = int(round((c[1]+ embed)/res))\n",
    "            #Save in the vector first channel\n",
    "            vect[ idx , idy ,0] = bondorder\n",
    "    #Atom Layers\n",
    "    for i,atom in enumerate(cmol.GetAtoms()):\n",
    "            idx = int(round((coords[i][0] + embed)/res))\n",
    "            idy = int(round((coords[i][1]+ embed)/res))\n",
    "            #Atomic number\n",
    "            vect[ idx , idy, 1] = atom.GetAtomicNum()\n",
    "            #Gasteiger Charges\n",
    "            charge = atom.GetProp(\"_GasteigerCharge\")\n",
    "            vect[ idx , idy, 3] = charge\n",
    "            #Hybridization\n",
    "            hyptype = atom.GetHybridization().real\n",
    "            vect[ idx , idy, 2] = hyptype\n",
    "            \n",
    "    return vect"
   ]
  },
  {
   "cell_type": "code",
   "execution_count": 7,
   "metadata": {},
   "outputs": [
    {
     "name": "stderr",
     "output_type": "stream",
     "text": [
      "Clipping input data to the valid range for imshow with RGB data ([0..1] for floats or [0..255] for integers).\n"
     ]
    },
    {
     "name": "stdout",
     "output_type": "stream",
     "text": [
      "(100, 100, 4)\n"
     ]
    },
    {
     "data": {
      "text/plain": [
       "<matplotlib.image.AxesImage at 0x7f99c5a05860>"
      ]
     },
     "execution_count": 7,
     "metadata": {},
     "output_type": "execute_result"
    },
    {
     "data": {
      "image/png": "[encoded data removed]",
      "text/plain": [
       "<Figure size 432x288 with 1 Axes>"
      ]
     },
     "metadata": {},
     "output_type": "display_data"
    }
   ],
   "source": [
    "mol = data[\"mol\"][104]\n",
    "v = chemcepterize_mol(mol, embed=10, res=0.2)\n",
    "\n",
    "print(v.shape)\n",
    "plt.imshow(v[:,:,:3])    \n"
   ]
  },
  {
   "cell_type": "code",
   "execution_count": 8,
   "metadata": {},
   "outputs": [],
   "source": [
    "def vectorize(mol):\n",
    "    return chemcepterize_mol(mol, embed=12)\n",
    "data[\"molimage\"] = data[\"mol\"].apply(vectorize)"
   ]
  },
  {
   "cell_type": "code",
   "execution_count": 9,
   "metadata": {},
   "outputs": [
    {
     "name": "stdout",
     "output_type": "stream",
     "text": [
      "(1434, 48, 48, 4)\n",
      "(358, 48, 48, 4)\n"
     ]
    }
   ],
   "source": [
    "X_train = np.array(list(data[\"molimage\"][data[\"split\"]==1]))\n",
    "X_test = np.array(list(data[\"molimage\"][data[\"split\"]==0]))\n",
    "print(X_train.shape)\n",
    "print(X_test.shape)"
   ]
  },
  {
   "cell_type": "code",
   "execution_count": 10,
   "metadata": {},
   "outputs": [],
   "source": [
    "assay = \"Activity\"\n",
    "y_train = data[assay][data[\"split\"]==1].values.reshape(-1,1)\n",
    "y_test = data[assay][data[\"split\"]==0].values.reshape(-1,1)"
   ]
  },
  {
   "cell_type": "code",
   "execution_count": 11,
   "metadata": {},
   "outputs": [
    {
     "name": "stdout",
     "output_type": "stream",
     "text": [
      "(1434, 1)\n"
     ]
    }
   ],
   "source": [
    "print(np.shape(y_train))"
   ]
  },
  {
   "cell_type": "code",
   "execution_count": null,
   "metadata": {},
   "outputs": [],
   "source": []
  },
  {
   "cell_type": "code",
   "execution_count": 12,
   "metadata": {},
   "outputs": [
    {
     "name": "stdout",
     "output_type": "stream",
     "text": [
      "(48, 48, 4)\n"
     ]
    }
   ],
   "source": [
    "input_shape = X_train.shape[1:]\n",
    "print(input_shape)\n",
    "from keras.layers import Dense, Dropout"
   ]
  },
  {
   "cell_type": "code",
   "execution_count": 13,
   "metadata": {},
   "outputs": [],
   "source": [
    "def Inception0(input):\n",
    "    tower_1 = Conv2D(16, (1, 1), padding='same', activation='relu')(input)\n",
    "    tower_1 = Conv2D(16, (3, 3), padding='same', activation='relu')(tower_1)\n",
    " \n",
    "    tower_2 = Conv2D(16, (1, 1), padding='same', activation='relu')(input)\n",
    "    tower_2 = Conv2D(16, (5, 5), padding='same', activation='relu')(tower_2)\n",
    " \n",
    "    tower_3 = Conv2D(16, (1, 1), padding='same', activation='relu')(input)\n",
    " \n",
    "    output = keras.layers.concatenate([tower_1, tower_2, tower_3], axis=-1)\n",
    "    return output"
   ]
  },
  {
   "cell_type": "code",
   "execution_count": 14,
   "metadata": {},
   "outputs": [],
   "source": [
    "def Inception(input):\n",
    "    tower_1 = Conv2D(16, (1, 1), padding='same', activation='relu')(input)\n",
    "    tower_1 = Conv2D(16, (3, 3), padding='same', activation='relu')(tower_1)\n",
    " \n",
    "    tower_2 = Conv2D(16, (1, 1), padding='same', activation='relu')(input)\n",
    "    tower_2 = Conv2D(16, (5, 5), padding='same', activation='relu')(tower_2)\n",
    " \n",
    "    tower_3 = MaxPooling2D((3, 3), strides=(1, 1), padding='same')(input)\n",
    "    tower_3 = Conv2D(16, (1, 1), padding='same', activation='relu')(tower_3)\n",
    " \n",
    "    output = keras.layers.concatenate([tower_1, tower_2, tower_3], axis=-1)\n",
    "    return output"
   ]
  },
  {
   "cell_type": "code",
   "execution_count": 15,
   "metadata": {},
   "outputs": [
    {
     "name": "stdout",
     "output_type": "stream",
     "text": [
      "WARNING:tensorflow:From /home/ubuntu/anaconda3/envs/tensorflow_p36/lib/python3.6/site-packages/keras/backend/tensorflow_backend.py:74: The name tf.get_default_graph is deprecated. Please use tf.compat.v1.get_default_graph instead.\n",
      "\n",
      "WARNING:tensorflow:From /home/ubuntu/anaconda3/envs/tensorflow_p36/lib/python3.6/site-packages/keras/backend/tensorflow_backend.py:517: The name tf.placeholder is deprecated. Please use tf.compat.v1.placeholder instead.\n",
      "\n",
      "WARNING:tensorflow:From /home/ubuntu/anaconda3/envs/tensorflow_p36/lib/python3.6/site-packages/keras/backend/tensorflow_backend.py:4138: The name tf.random_uniform is deprecated. Please use tf.random.uniform instead.\n",
      "\n",
      "WARNING:tensorflow:From /home/ubuntu/anaconda3/envs/tensorflow_p36/lib/python3.6/site-packages/keras/backend/tensorflow_backend.py:3976: The name tf.nn.max_pool is deprecated. Please use tf.nn.max_pool2d instead.\n",
      "\n",
      "__________________________________________________________________________________________________\n",
      "Layer (type)                    Output Shape         Param #     Connected to                     \n",
      "==================================================================================================\n",
      "input_1 (InputLayer)            (None, 48, 48, 4)    0                                            \n",
      "__________________________________________________________________________________________________\n",
      "conv2d_1 (Conv2D)               (None, 48, 48, 16)   80          input_1[0][0]                    \n",
      "__________________________________________________________________________________________________\n",
      "conv2d_3 (Conv2D)               (None, 48, 48, 16)   80          input_1[0][0]                    \n",
      "__________________________________________________________________________________________________\n",
      "conv2d_2 (Conv2D)               (None, 48, 48, 16)   2320        conv2d_1[0][0]                   \n",
      "__________________________________________________________________________________________________\n",
      "conv2d_4 (Conv2D)               (None, 48, 48, 16)   6416        conv2d_3[0][0]                   \n",
      "__________________________________________________________________________________________________\n",
      "conv2d_5 (Conv2D)               (None, 48, 48, 16)   80          input_1[0][0]                    \n",
      "__________________________________________________________________________________________________\n",
      "concatenate_1 (Concatenate)     (None, 48, 48, 48)   0           conv2d_2[0][0]                   \n",
      "                                                                 conv2d_4[0][0]                   \n",
      "                                                                 conv2d_5[0][0]                   \n",
      "__________________________________________________________________________________________________\n",
      "conv2d_6 (Conv2D)               (None, 48, 48, 16)   784         concatenate_1[0][0]              \n",
      "__________________________________________________________________________________________________\n",
      "conv2d_8 (Conv2D)               (None, 48, 48, 16)   784         concatenate_1[0][0]              \n",
      "__________________________________________________________________________________________________\n",
      "max_pooling2d_1 (MaxPooling2D)  (None, 48, 48, 48)   0           concatenate_1[0][0]              \n",
      "__________________________________________________________________________________________________\n",
      "conv2d_7 (Conv2D)               (None, 48, 48, 16)   2320        conv2d_6[0][0]                   \n",
      "__________________________________________________________________________________________________\n",
      "conv2d_9 (Conv2D)               (None, 48, 48, 16)   6416        conv2d_8[0][0]                   \n",
      "__________________________________________________________________________________________________\n",
      "conv2d_10 (Conv2D)              (None, 48, 48, 16)   784         max_pooling2d_1[0][0]            \n",
      "__________________________________________________________________________________________________\n",
      "concatenate_2 (Concatenate)     (None, 48, 48, 48)   0           conv2d_7[0][0]                   \n",
      "                                                                 conv2d_9[0][0]                   \n",
      "                                                                 conv2d_10[0][0]                  \n",
      "__________________________________________________________________________________________________\n",
      "conv2d_11 (Conv2D)              (None, 48, 48, 16)   784         concatenate_2[0][0]              \n",
      "__________________________________________________________________________________________________\n",
      "conv2d_13 (Conv2D)              (None, 48, 48, 16)   784         concatenate_2[0][0]              \n",
      "__________________________________________________________________________________________________\n",
      "max_pooling2d_2 (MaxPooling2D)  (None, 48, 48, 48)   0           concatenate_2[0][0]              \n",
      "__________________________________________________________________________________________________\n",
      "conv2d_12 (Conv2D)              (None, 48, 48, 16)   2320        conv2d_11[0][0]                  \n",
      "__________________________________________________________________________________________________\n",
      "conv2d_14 (Conv2D)              (None, 48, 48, 16)   6416        conv2d_13[0][0]                  \n",
      "__________________________________________________________________________________________________\n",
      "conv2d_15 (Conv2D)              (None, 48, 48, 16)   784         max_pooling2d_2[0][0]            \n",
      "__________________________________________________________________________________________________\n",
      "concatenate_3 (Concatenate)     (None, 48, 48, 48)   0           conv2d_12[0][0]                  \n",
      "                                                                 conv2d_14[0][0]                  \n",
      "                                                                 conv2d_15[0][0]                  \n",
      "__________________________________________________________________________________________________\n",
      "max_pooling2d_3 (MaxPooling2D)  (None, 1, 1, 48)     0           concatenate_3[0][0]              \n",
      "__________________________________________________________________________________________________\n",
      "flatten_1 (Flatten)             (None, 48)           0           max_pooling2d_3[0][0]            \n",
      "__________________________________________________________________________________________________\n",
      "dense_1 (Dense)                 (None, 100)          4900        flatten_1[0][0]                  \n",
      "__________________________________________________________________________________________________\n",
      "dense_2 (Dense)                 (None, 1)            101         dense_1[0][0]                    \n",
      "==================================================================================================\n",
      "Total params: 36,153\n",
      "Trainable params: 36,153\n",
      "Non-trainable params: 0\n",
      "__________________________________________________________________________________________________\n",
      "None\n"
     ]
    }
   ],
   "source": [
    "input_img = Input(shape=input_shape)\n",
    " \n",
    "x = Inception0(input_img)\n",
    "x = Inception(x)\n",
    "x = Inception(x)\n",
    "od=int(x.shape[1])\n",
    "x = MaxPooling2D(pool_size=(od,od), strides=(1,1))(x)\n",
    "x = Flatten()(x)\n",
    "x = Dense(100, activation='relu')(x)\n",
    "output = Dense(1, activation='linear')(x)\n",
    " \n",
    "model = Model(inputs=input_img, outputs=output)\n",
    " \n",
    "print(model.summary())"
   ]
  },
  {
   "cell_type": "code",
   "execution_count": 16,
   "metadata": {},
   "outputs": [],
   "source": [
    "from keras.preprocessing.image import ImageDataGenerator\n",
    "generator = ImageDataGenerator(rotation_range=180,\n",
    "                               width_shift_range=0.1,height_shift_range=0.1,\n",
    "                               fill_mode=\"constant\",cval = 0,\n",
    "                               horizontal_flip=True, vertical_flip=True,data_format='channels_last',\n",
    "                            \n",
    "                               )\n"
   ]
  },
  {
   "cell_type": "code",
   "execution_count": 17,
   "metadata": {},
   "outputs": [],
   "source": [
    "def coeff_determination(y_true, y_pred):\n",
    "    from keras import backend as K\n",
    "    SS_res =  K.sum(K.square( y_true-y_pred ))\n",
    "    SS_tot = K.sum(K.square( y_true - K.mean(y_true) ) )\n",
    "    return ( 1 - SS_res/(SS_tot + K.epsilon()) )"
   ]
  },
  {
   "cell_type": "code",
   "execution_count": 18,
   "metadata": {},
   "outputs": [],
   "source": [
    "\n",
    "def get_lr_metric(optimizer):\n",
    "    def lr(y_true, y_pred):\n",
    "        return optimizer.lr\n",
    "    return lr\n"
   ]
  },
  {
   "cell_type": "code",
   "execution_count": 20,
   "metadata": {},
   "outputs": [],
   "source": [
    "def rmse(y_true, y_pred):\n",
    "        return K.sqrt(K.mean(K.square(y_pred - y_true)))"
   ]
  },
  {
   "cell_type": "code",
   "execution_count": 28,
   "metadata": {},
   "outputs": [],
   "source": [
    "optimizer = Adam(lr=0.00025)\n",
    "lr_metric = get_lr_metric(optimizer)\n",
    "model.compile(loss=\"mse\", optimizer=optimizer, metrics=[coeff_determination, lr_metric, rmse])"
   ]
  },
  {
   "cell_type": "code",
   "execution_count": 30,
   "metadata": {},
   "outputs": [
    {
     "name": "stdout",
     "output_type": "stream",
     "text": [
      "Epoch 1/150\n",
      "560/560 [==============================] - 92s 165ms/step - loss: 0.7796 - coeff_determination: 0.3077 - lr: 2.5000e-04 - rmse: 0.8809 - val_loss: 0.7272 - val_coeff_determination: 0.2513 - val_lr: 2.5000e-04 - val_rmse: 0.8479\n",
      "Epoch 2/150\n",
      "560/560 [==============================] - 92s 164ms/step - loss: 0.6904 - coeff_determination: 0.3858 - lr: 2.5000e-04 - rmse: 0.8290 - val_loss: 0.6244 - val_coeff_determination: 0.3550 - val_lr: 2.5000e-04 - val_rmse: 0.7861\n",
      "Epoch 3/150\n",
      "560/560 [==============================] - 92s 164ms/step - loss: 0.6276 - coeff_determination: 0.4412 - lr: 2.5000e-04 - rmse: 0.7905 - val_loss: 0.5790 - val_coeff_determination: 0.4014 - val_lr: 2.5000e-04 - val_rmse: 0.7576\n",
      "Epoch 4/150\n",
      "560/560 [==============================] - 92s 164ms/step - loss: 0.5806 - coeff_determination: 0.4820 - lr: 2.5000e-04 - rmse: 0.7603 - val_loss: 0.5761 - val_coeff_determination: 0.4024 - val_lr: 2.5000e-04 - val_rmse: 0.7565\n",
      "Epoch 5/150\n",
      "560/560 [==============================] - 92s 165ms/step - loss: 0.5439 - coeff_determination: 0.5150 - lr: 2.5000e-04 - rmse: 0.7358 - val_loss: 0.5528 - val_coeff_determination: 0.4254 - val_lr: 2.5000e-04 - val_rmse: 0.7414\n",
      "Epoch 6/150\n",
      "560/560 [==============================] - 92s 165ms/step - loss: 0.5158 - coeff_determination: 0.5401 - lr: 2.5000e-04 - rmse: 0.7166 - val_loss: 0.5367 - val_coeff_determination: 0.4422 - val_lr: 2.5000e-04 - val_rmse: 0.7308\n",
      "Epoch 7/150\n",
      "560/560 [==============================] - 92s 164ms/step - loss: 0.4921 - coeff_determination: 0.5608 - lr: 2.5000e-04 - rmse: 0.6996 - val_loss: 0.5918 - val_coeff_determination: 0.3851 - val_lr: 2.5000e-04 - val_rmse: 0.7674\n",
      "Epoch 8/150\n",
      "560/560 [==============================] - 92s 164ms/step - loss: 0.4748 - coeff_determination: 0.5757 - lr: 2.5000e-04 - rmse: 0.6870 - val_loss: 0.5332 - val_coeff_determination: 0.4476 - val_lr: 2.5000e-04 - val_rmse: 0.7278\n",
      "Epoch 9/150\n",
      "560/560 [==============================] - 92s 164ms/step - loss: 0.4579 - coeff_determination: 0.5910 - lr: 2.5000e-04 - rmse: 0.6749 - val_loss: 0.5294 - val_coeff_determination: 0.4523 - val_lr: 2.5000e-04 - val_rmse: 0.7249\n",
      "Epoch 10/150\n",
      "560/560 [==============================] - 92s 164ms/step - loss: 0.4401 - coeff_determination: 0.6072 - lr: 2.5000e-04 - rmse: 0.6617 - val_loss: 0.5746 - val_coeff_determination: 0.3999 - val_lr: 2.5000e-04 - val_rmse: 0.7571\n",
      "Epoch 11/150\n",
      "560/560 [==============================] - 92s 164ms/step - loss: 0.4269 - coeff_determination: 0.6193 - lr: 2.5000e-04 - rmse: 0.6515 - val_loss: 0.5100 - val_coeff_determination: 0.4697 - val_lr: 2.5000e-04 - val_rmse: 0.7125\n",
      "Epoch 12/150\n",
      "560/560 [==============================] - 92s 164ms/step - loss: 0.4112 - coeff_determination: 0.6321 - lr: 2.5000e-04 - rmse: 0.6396 - val_loss: 0.5294 - val_coeff_determination: 0.4497 - val_lr: 2.5000e-04 - val_rmse: 0.7258\n",
      "Epoch 13/150\n",
      "560/560 [==============================] - 92s 164ms/step - loss: 0.4040 - coeff_determination: 0.6399 - lr: 2.5000e-04 - rmse: 0.6337 - val_loss: 0.4410 - val_coeff_determination: 0.5414 - val_lr: 2.5000e-04 - val_rmse: 0.6626\n",
      "Epoch 14/150\n",
      "560/560 [==============================] - 92s 164ms/step - loss: 0.3879 - coeff_determination: 0.6527 - lr: 2.5000e-04 - rmse: 0.6210 - val_loss: 0.4270 - val_coeff_determination: 0.5517 - val_lr: 2.5000e-04 - val_rmse: 0.6532\n",
      "Epoch 15/150\n",
      "560/560 [==============================] - 92s 164ms/step - loss: 0.3809 - coeff_determination: 0.6604 - lr: 2.5000e-04 - rmse: 0.6154 - val_loss: 0.4503 - val_coeff_determination: 0.5278 - val_lr: 2.5000e-04 - val_rmse: 0.6707\n",
      "Epoch 16/150\n",
      "560/560 [==============================] - 92s 164ms/step - loss: 0.3651 - coeff_determination: 0.6726 - lr: 2.5000e-04 - rmse: 0.6027 - val_loss: 0.4089 - val_coeff_determination: 0.5726 - val_lr: 2.5000e-04 - val_rmse: 0.6387\n",
      "Epoch 17/150\n",
      "560/560 [==============================] - 92s 164ms/step - loss: 0.3589 - coeff_determination: 0.6798 - lr: 2.5000e-04 - rmse: 0.5971 - val_loss: 0.4478 - val_coeff_determination: 0.5310 - val_lr: 2.5000e-04 - val_rmse: 0.6683\n",
      "Epoch 18/150\n",
      "560/560 [==============================] - 92s 164ms/step - loss: 0.3495 - coeff_determination: 0.6873 - lr: 2.5000e-04 - rmse: 0.5895 - val_loss: 0.3661 - val_coeff_determination: 0.6168 - val_lr: 2.5000e-04 - val_rmse: 0.6044\n",
      "Epoch 19/150\n",
      "560/560 [==============================] - 92s 164ms/step - loss: 0.3440 - coeff_determination: 0.6923 - lr: 2.5000e-04 - rmse: 0.5847 - val_loss: 0.3942 - val_coeff_determination: 0.5880 - val_lr: 2.5000e-04 - val_rmse: 0.6268\n",
      "Epoch 20/150\n",
      "560/560 [==============================] - 92s 164ms/step - loss: 0.3379 - coeff_determination: 0.6971 - lr: 2.5000e-04 - rmse: 0.5797 - val_loss: 0.4069 - val_coeff_determination: 0.5738 - val_lr: 2.5000e-04 - val_rmse: 0.6372\n",
      "Epoch 21/150\n",
      "560/560 [==============================] - 92s 164ms/step - loss: 0.3332 - coeff_determination: 0.7014 - lr: 2.5000e-04 - rmse: 0.5755 - val_loss: 0.3888 - val_coeff_determination: 0.5904 - val_lr: 2.5000e-04 - val_rmse: 0.6235\n",
      "Epoch 22/150\n",
      "560/560 [==============================] - 92s 164ms/step - loss: 0.3251 - coeff_determination: 0.7097 - lr: 2.5000e-04 - rmse: 0.5683 - val_loss: 0.3557 - val_coeff_determination: 0.6263 - val_lr: 2.5000e-04 - val_rmse: 0.5957\n",
      "Epoch 23/150\n",
      "560/560 [==============================] - 92s 164ms/step - loss: 0.3223 - coeff_determination: 0.7122 - lr: 2.5000e-04 - rmse: 0.5661 - val_loss: 0.3935 - val_coeff_determination: 0.5843 - val_lr: 2.5000e-04 - val_rmse: 0.6268\n",
      "Epoch 24/150\n",
      "560/560 [==============================] - 92s 164ms/step - loss: 0.3109 - coeff_determination: 0.7212 - lr: 2.5000e-04 - rmse: 0.5559 - val_loss: 0.3768 - val_coeff_determination: 0.6014 - val_lr: 2.5000e-04 - val_rmse: 0.6137\n",
      "Epoch 25/150\n",
      "560/560 [==============================] - 92s 164ms/step - loss: 0.3060 - coeff_determination: 0.7258 - lr: 2.5000e-04 - rmse: 0.5517 - val_loss: 0.3602 - val_coeff_determination: 0.6196 - val_lr: 2.5000e-04 - val_rmse: 0.5998\n",
      "Epoch 26/150\n",
      "560/560 [==============================] - 92s 164ms/step - loss: 0.2969 - coeff_determination: 0.7345 - lr: 2.5000e-04 - rmse: 0.5432 - val_loss: 0.3851 - val_coeff_determination: 0.5938 - val_lr: 2.5000e-04 - val_rmse: 0.6202\n",
      "Epoch 27/150\n",
      "560/560 [==============================] - 92s 164ms/step - loss: 0.2942 - coeff_determination: 0.7371 - lr: 2.5000e-04 - rmse: 0.5409 - val_loss: 0.3652 - val_coeff_determination: 0.6149 - val_lr: 2.5000e-04 - val_rmse: 0.6043\n",
      "Epoch 28/150\n",
      "560/560 [==============================] - 92s 164ms/step - loss: 0.2774 - coeff_determination: 0.7521 - lr: 1.2500e-04 - rmse: 0.5251 - val_loss: 0.3621 - val_coeff_determination: 0.6185 - val_lr: 1.2500e-04 - val_rmse: 0.6017\n",
      "Epoch 29/150\n",
      "560/560 [==============================] - 92s 164ms/step - loss: 0.2770 - coeff_determination: 0.7517 - lr: 1.2500e-04 - rmse: 0.5247 - val_loss: 0.3488 - val_coeff_determination: 0.6314 - val_lr: 1.2500e-04 - val_rmse: 0.5901\n",
      "Epoch 30/150\n",
      "560/560 [==============================] - 92s 164ms/step - loss: 0.2735 - coeff_determination: 0.7558 - lr: 1.2500e-04 - rmse: 0.5214 - val_loss: 0.3797 - val_coeff_determination: 0.5989 - val_lr: 1.2500e-04 - val_rmse: 0.6162\n",
      "Epoch 31/150\n",
      "560/560 [==============================] - 92s 164ms/step - loss: 0.2726 - coeff_determination: 0.7560 - lr: 1.2500e-04 - rmse: 0.5204 - val_loss: 0.3556 - val_coeff_determination: 0.6241 - val_lr: 1.2500e-04 - val_rmse: 0.5963\n",
      "Epoch 32/150\n",
      "560/560 [==============================] - 92s 164ms/step - loss: 0.2674 - coeff_determination: 0.7610 - lr: 1.2500e-04 - rmse: 0.5155 - val_loss: 0.4266 - val_coeff_determination: 0.5482 - val_lr: 1.2500e-04 - val_rmse: 0.6531\n",
      "Epoch 33/150\n",
      "560/560 [==============================] - 92s 164ms/step - loss: 0.2654 - coeff_determination: 0.7629 - lr: 1.2500e-04 - rmse: 0.5136 - val_loss: 0.3197 - val_coeff_determination: 0.6618 - val_lr: 1.2500e-04 - val_rmse: 0.5655\n",
      "Epoch 34/150\n",
      "560/560 [==============================] - 92s 164ms/step - loss: 0.2614 - coeff_determination: 0.7671 - lr: 1.2500e-04 - rmse: 0.5098 - val_loss: 0.3488 - val_coeff_determination: 0.6312 - val_lr: 1.2500e-04 - val_rmse: 0.5905\n",
      "Epoch 35/150\n"
     ]
    },
    {
     "name": "stdout",
     "output_type": "stream",
     "text": [
      "560/560 [==============================] - 92s 164ms/step - loss: 0.2607 - coeff_determination: 0.7661 - lr: 1.2500e-04 - rmse: 0.5091 - val_loss: 0.3642 - val_coeff_determination: 0.6154 - val_lr: 1.2500e-04 - val_rmse: 0.6035\n",
      "Epoch 36/150\n",
      "560/560 [==============================] - 92s 164ms/step - loss: 0.2577 - coeff_determination: 0.7697 - lr: 1.2500e-04 - rmse: 0.5061 - val_loss: 0.3324 - val_coeff_determination: 0.6494 - val_lr: 1.2500e-04 - val_rmse: 0.5765\n",
      "Epoch 37/150\n",
      "560/560 [==============================] - 92s 164ms/step - loss: 0.2569 - coeff_determination: 0.7703 - lr: 1.2500e-04 - rmse: 0.5054 - val_loss: 0.3519 - val_coeff_determination: 0.6281 - val_lr: 1.2500e-04 - val_rmse: 0.5932\n",
      "Epoch 38/150\n",
      "560/560 [==============================] - 92s 164ms/step - loss: 0.2506 - coeff_determination: 0.7744 - lr: 1.2500e-04 - rmse: 0.4992 - val_loss: 0.3812 - val_coeff_determination: 0.5982 - val_lr: 1.2500e-04 - val_rmse: 0.6172\n",
      "Epoch 39/150\n",
      "560/560 [==============================] - 92s 164ms/step - loss: 0.2458 - coeff_determination: 0.7810 - lr: 6.2500e-05 - rmse: 0.4942 - val_loss: 0.3441 - val_coeff_determination: 0.6371 - val_lr: 6.2500e-05 - val_rmse: 0.5865\n",
      "Epoch 40/150\n",
      "560/560 [==============================] - 92s 164ms/step - loss: 0.2435 - coeff_determination: 0.7818 - lr: 6.2500e-05 - rmse: 0.4921 - val_loss: 0.3507 - val_coeff_determination: 0.6290 - val_lr: 6.2500e-05 - val_rmse: 0.5919\n",
      "Epoch 41/150\n",
      "560/560 [==============================] - 92s 164ms/step - loss: 0.2437 - coeff_determination: 0.7818 - lr: 6.2500e-05 - rmse: 0.4923 - val_loss: 0.3193 - val_coeff_determination: 0.6638 - val_lr: 6.2500e-05 - val_rmse: 0.5649\n",
      "Epoch 42/150\n",
      "560/560 [==============================] - 92s 164ms/step - loss: 0.2405 - coeff_determination: 0.7845 - lr: 6.2500e-05 - rmse: 0.4888 - val_loss: 0.3379 - val_coeff_determination: 0.6458 - val_lr: 6.2500e-05 - val_rmse: 0.5808\n",
      "Epoch 43/150\n",
      "560/560 [==============================] - 92s 164ms/step - loss: 0.2397 - coeff_determination: 0.7855 - lr: 6.2500e-05 - rmse: 0.4882 - val_loss: 0.3720 - val_coeff_determination: 0.6072 - val_lr: 6.2500e-05 - val_rmse: 0.6099\n",
      "Epoch 44/150\n",
      "560/560 [==============================] - 92s 164ms/step - loss: 0.2383 - coeff_determination: 0.7855 - lr: 6.2500e-05 - rmse: 0.4868 - val_loss: 0.3017 - val_coeff_determination: 0.6828 - val_lr: 6.2500e-05 - val_rmse: 0.5488\n",
      "Epoch 45/150\n",
      "560/560 [==============================] - 92s 164ms/step - loss: 0.2374 - coeff_determination: 0.7881 - lr: 6.2500e-05 - rmse: 0.4857 - val_loss: 0.3371 - val_coeff_determination: 0.6452 - val_lr: 6.2500e-05 - val_rmse: 0.5805\n",
      "Epoch 46/150\n",
      "560/560 [==============================] - 92s 164ms/step - loss: 0.2378 - coeff_determination: 0.7869 - lr: 6.2500e-05 - rmse: 0.4862 - val_loss: 0.3370 - val_coeff_determination: 0.6449 - val_lr: 6.2500e-05 - val_rmse: 0.5803\n",
      "Epoch 47/150\n",
      "560/560 [==============================] - 92s 164ms/step - loss: 0.2348 - coeff_determination: 0.7901 - lr: 6.2500e-05 - rmse: 0.4830 - val_loss: 0.3264 - val_coeff_determination: 0.6564 - val_lr: 6.2500e-05 - val_rmse: 0.5712\n",
      "Epoch 48/150\n",
      "560/560 [==============================] - 92s 164ms/step - loss: 0.2327 - coeff_determination: 0.7926 - lr: 6.2500e-05 - rmse: 0.4807 - val_loss: 0.3200 - val_coeff_determination: 0.6630 - val_lr: 6.2500e-05 - val_rmse: 0.5654\n",
      "Epoch 49/150\n",
      "560/560 [==============================] - 92s 164ms/step - loss: 0.2343 - coeff_determination: 0.7898 - lr: 6.2500e-05 - rmse: 0.4825 - val_loss: 0.3305 - val_coeff_determination: 0.6516 - val_lr: 6.2500e-05 - val_rmse: 0.5748\n",
      "Epoch 50/150\n",
      "560/560 [==============================] - 92s 164ms/step - loss: 0.2318 - coeff_determination: 0.7927 - lr: 3.1250e-05 - rmse: 0.4799 - val_loss: 0.3197 - val_coeff_determination: 0.6637 - val_lr: 3.1250e-05 - val_rmse: 0.5651\n",
      "Epoch 51/150\n",
      "560/560 [==============================] - 92s 164ms/step - loss: 0.2280 - coeff_determination: 0.7955 - lr: 3.1250e-05 - rmse: 0.4760 - val_loss: 0.3300 - val_coeff_determination: 0.6527 - val_lr: 3.1250e-05 - val_rmse: 0.5743\n",
      "Epoch 52/150\n",
      "560/560 [==============================] - 92s 164ms/step - loss: 0.2286 - coeff_determination: 0.7958 - lr: 3.1250e-05 - rmse: 0.4766 - val_loss: 0.3244 - val_coeff_determination: 0.6581 - val_lr: 3.1250e-05 - val_rmse: 0.5695\n",
      "Epoch 53/150\n",
      "560/560 [==============================] - 92s 164ms/step - loss: 0.2266 - coeff_determination: 0.7969 - lr: 3.1250e-05 - rmse: 0.4746 - val_loss: 0.3114 - val_coeff_determination: 0.6724 - val_lr: 3.1250e-05 - val_rmse: 0.5578\n",
      "Epoch 54/150\n",
      "560/560 [==============================] - 92s 164ms/step - loss: 0.2273 - coeff_determination: 0.7966 - lr: 3.1250e-05 - rmse: 0.4755 - val_loss: 0.3108 - val_coeff_determination: 0.6733 - val_lr: 3.1250e-05 - val_rmse: 0.5573\n",
      "Epoch 55/150\n",
      "560/560 [==============================] - 92s 164ms/step - loss: 0.2231 - coeff_determination: 0.7998 - lr: 1.5625e-05 - rmse: 0.4711 - val_loss: 0.3084 - val_coeff_determination: 0.6755 - val_lr: 1.5625e-05 - val_rmse: 0.5551\n",
      "Epoch 56/150\n",
      "560/560 [==============================] - 92s 164ms/step - loss: 0.2238 - coeff_determination: 0.8001 - lr: 1.5625e-05 - rmse: 0.4718 - val_loss: 0.3151 - val_coeff_determination: 0.6687 - val_lr: 1.5625e-05 - val_rmse: 0.5611\n",
      "Epoch 57/150\n",
      "560/560 [==============================] - 92s 164ms/step - loss: 0.2230 - coeff_determination: 0.7996 - lr: 1.5625e-05 - rmse: 0.4709 - val_loss: 0.3099 - val_coeff_determination: 0.6745 - val_lr: 1.5625e-05 - val_rmse: 0.5564\n",
      "Epoch 58/150\n",
      "560/560 [==============================] - 92s 164ms/step - loss: 0.2242 - coeff_determination: 0.7996 - lr: 1.5625e-05 - rmse: 0.4721 - val_loss: 0.3034 - val_coeff_determination: 0.6807 - val_lr: 1.5625e-05 - val_rmse: 0.5507\n",
      "Epoch 59/150\n",
      "560/560 [==============================] - 92s 164ms/step - loss: 0.2239 - coeff_determination: 0.7991 - lr: 1.5625e-05 - rmse: 0.4720 - val_loss: 0.3054 - val_coeff_determination: 0.6789 - val_lr: 1.5625e-05 - val_rmse: 0.5523\n",
      "Epoch 60/150\n",
      "560/560 [==============================] - 92s 164ms/step - loss: 0.2231 - coeff_determination: 0.7997 - lr: 7.8125e-06 - rmse: 0.4710 - val_loss: 0.3249 - val_coeff_determination: 0.6579 - val_lr: 7.8125e-06 - val_rmse: 0.5699\n",
      "Epoch 61/150\n",
      "560/560 [==============================] - 92s 164ms/step - loss: 0.2227 - coeff_determination: 0.8018 - lr: 7.8125e-06 - rmse: 0.4705 - val_loss: 0.3234 - val_coeff_determination: 0.6594 - val_lr: 7.8125e-06 - val_rmse: 0.5685\n",
      "Epoch 62/150\n",
      "560/560 [==============================] - 92s 164ms/step - loss: 0.2237 - coeff_determination: 0.8000 - lr: 7.8125e-06 - rmse: 0.4715 - val_loss: 0.3107 - val_coeff_determination: 0.6728 - val_lr: 7.8125e-06 - val_rmse: 0.5573\n",
      "Epoch 63/150\n",
      "560/560 [==============================] - 92s 164ms/step - loss: 0.2223 - coeff_determination: 0.8004 - lr: 7.8125e-06 - rmse: 0.4700 - val_loss: 0.3194 - val_coeff_determination: 0.6636 - val_lr: 7.8125e-06 - val_rmse: 0.5650\n",
      "Epoch 64/150\n",
      "560/560 [==============================] - 92s 164ms/step - loss: 0.2220 - coeff_determination: 0.8007 - lr: 7.8125e-06 - rmse: 0.4699 - val_loss: 0.3160 - val_coeff_determination: 0.6671 - val_lr: 7.8125e-06 - val_rmse: 0.5619\n",
      "Epoch 65/150\n",
      "560/560 [==============================] - 92s 164ms/step - loss: 0.2214 - coeff_determination: 0.8018 - lr: 3.9063e-06 - rmse: 0.4692 - val_loss: 0.3277 - val_coeff_determination: 0.6550 - val_lr: 3.9063e-06 - val_rmse: 0.5722\n",
      "Epoch 66/150\n",
      "560/560 [==============================] - 92s 164ms/step - loss: 0.2208 - coeff_determination: 0.8019 - lr: 3.9063e-06 - rmse: 0.4685 - val_loss: 0.3137 - val_coeff_determination: 0.6698 - val_lr: 3.9063e-06 - val_rmse: 0.5598\n",
      "Epoch 67/150\n",
      "560/560 [==============================] - 92s 164ms/step - loss: 0.2189 - coeff_determination: 0.8048 - lr: 3.9063e-06 - rmse: 0.4663 - val_loss: 0.3109 - val_coeff_determination: 0.6729 - val_lr: 3.9063e-06 - val_rmse: 0.5573\n",
      "Epoch 68/150\n",
      "560/560 [==============================] - 92s 164ms/step - loss: 0.2221 - coeff_determination: 0.7999 - lr: 3.9063e-06 - rmse: 0.4698 - val_loss: 0.3141 - val_coeff_determination: 0.6696 - val_lr: 3.9063e-06 - val_rmse: 0.5602\n",
      "Epoch 69/150\n"
     ]
    },
    {
     "name": "stdout",
     "output_type": "stream",
     "text": [
      "560/560 [==============================] - 92s 164ms/step - loss: 0.2210 - coeff_determination: 0.8027 - lr: 3.9063e-06 - rmse: 0.4687 - val_loss: 0.3127 - val_coeff_determination: 0.6709 - val_lr: 3.9063e-06 - val_rmse: 0.5590\n",
      "Epoch 70/150\n",
      "560/560 [==============================] - 92s 164ms/step - loss: 0.2203 - coeff_determination: 0.8026 - lr: 1.9531e-06 - rmse: 0.4679 - val_loss: 0.3128 - val_coeff_determination: 0.6710 - val_lr: 1.9531e-06 - val_rmse: 0.5590\n",
      "Epoch 71/150\n",
      "560/560 [==============================] - 92s 164ms/step - loss: 0.2204 - coeff_determination: 0.8029 - lr: 1.9531e-06 - rmse: 0.4679 - val_loss: 0.3160 - val_coeff_determination: 0.6675 - val_lr: 1.9531e-06 - val_rmse: 0.5619\n",
      "Epoch 72/150\n",
      "560/560 [==============================] - 92s 164ms/step - loss: 0.2226 - coeff_determination: 0.8001 - lr: 1.9531e-06 - rmse: 0.4704 - val_loss: 0.3204 - val_coeff_determination: 0.6629 - val_lr: 1.9531e-06 - val_rmse: 0.5658\n",
      "Epoch 73/150\n",
      "560/560 [==============================] - 92s 164ms/step - loss: 0.2215 - coeff_determination: 0.8023 - lr: 1.9531e-06 - rmse: 0.4694 - val_loss: 0.3189 - val_coeff_determination: 0.6645 - val_lr: 1.9531e-06 - val_rmse: 0.5645\n",
      "Epoch 74/150\n",
      "560/560 [==============================] - 92s 164ms/step - loss: 0.2200 - coeff_determination: 0.8025 - lr: 1.9531e-06 - rmse: 0.4677 - val_loss: 0.3194 - val_coeff_determination: 0.6640 - val_lr: 1.9531e-06 - val_rmse: 0.5649\n",
      "Epoch 75/150\n",
      "560/560 [==============================] - 92s 164ms/step - loss: 0.2217 - coeff_determination: 0.8023 - lr: 9.7656e-07 - rmse: 0.4694 - val_loss: 0.3129 - val_coeff_determination: 0.6708 - val_lr: 9.7656e-07 - val_rmse: 0.5592\n",
      "Epoch 76/150\n",
      "560/560 [==============================] - 92s 164ms/step - loss: 0.2188 - coeff_determination: 0.8028 - lr: 9.7656e-07 - rmse: 0.4662 - val_loss: 0.3145 - val_coeff_determination: 0.6693 - val_lr: 9.7656e-07 - val_rmse: 0.5605\n",
      "Epoch 77/150\n",
      "560/560 [==============================] - 92s 164ms/step - loss: 0.2202 - coeff_determination: 0.8034 - lr: 9.7656e-07 - rmse: 0.4678 - val_loss: 0.3151 - val_coeff_determination: 0.6685 - val_lr: 9.7656e-07 - val_rmse: 0.5611\n",
      "Epoch 78/150\n",
      "560/560 [==============================] - 92s 164ms/step - loss: 0.2219 - coeff_determination: 0.8013 - lr: 9.7656e-07 - rmse: 0.4697 - val_loss: 0.3195 - val_coeff_determination: 0.6638 - val_lr: 9.7656e-07 - val_rmse: 0.5650\n",
      "Epoch 79/150\n",
      "560/560 [==============================] - 92s 164ms/step - loss: 0.2204 - coeff_determination: 0.8027 - lr: 9.7656e-07 - rmse: 0.4681 - val_loss: 0.3170 - val_coeff_determination: 0.6665 - val_lr: 9.7656e-07 - val_rmse: 0.5628\n",
      "Epoch 80/150\n",
      "560/560 [==============================] - 92s 164ms/step - loss: 0.2210 - coeff_determination: 0.8017 - lr: 4.8828e-07 - rmse: 0.4687 - val_loss: 0.3152 - val_coeff_determination: 0.6683 - val_lr: 4.8828e-07 - val_rmse: 0.5612\n",
      "Epoch 81/150\n",
      "560/560 [==============================] - 92s 164ms/step - loss: 0.2202 - coeff_determination: 0.8025 - lr: 4.8828e-07 - rmse: 0.4678 - val_loss: 0.3169 - val_coeff_determination: 0.6665 - val_lr: 4.8828e-07 - val_rmse: 0.5627\n",
      "Epoch 82/150\n",
      "560/560 [==============================] - 92s 164ms/step - loss: 0.2190 - coeff_determination: 0.8047 - lr: 4.8828e-07 - rmse: 0.4666 - val_loss: 0.3174 - val_coeff_determination: 0.6660 - val_lr: 4.8828e-07 - val_rmse: 0.5632\n",
      "Epoch 83/150\n",
      "560/560 [==============================] - 92s 164ms/step - loss: 0.2210 - coeff_determination: 0.8019 - lr: 4.8828e-07 - rmse: 0.4687 - val_loss: 0.3189 - val_coeff_determination: 0.6645 - val_lr: 4.8828e-07 - val_rmse: 0.5644\n",
      "Epoch 84/150\n",
      "560/560 [==============================] - 92s 164ms/step - loss: 0.2194 - coeff_determination: 0.8042 - lr: 4.8828e-07 - rmse: 0.4670 - val_loss: 0.3192 - val_coeff_determination: 0.6641 - val_lr: 4.8828e-07 - val_rmse: 0.5648\n",
      "Epoch 85/150\n",
      "560/560 [==============================] - 92s 164ms/step - loss: 0.2211 - coeff_determination: 0.8008 - lr: 2.4414e-07 - rmse: 0.4689 - val_loss: 0.3158 - val_coeff_determination: 0.6677 - val_lr: 2.4414e-07 - val_rmse: 0.5617\n",
      "Epoch 86/150\n",
      "560/560 [==============================] - 92s 164ms/step - loss: 0.2198 - coeff_determination: 0.8044 - lr: 2.4414e-07 - rmse: 0.4674 - val_loss: 0.3174 - val_coeff_determination: 0.6660 - val_lr: 2.4414e-07 - val_rmse: 0.5632\n",
      "Epoch 87/150\n",
      "560/560 [==============================] - 92s 164ms/step - loss: 0.2205 - coeff_determination: 0.8028 - lr: 2.4414e-07 - rmse: 0.4681 - val_loss: 0.3163 - val_coeff_determination: 0.6672 - val_lr: 2.4414e-07 - val_rmse: 0.5622\n",
      "Epoch 88/150\n",
      "560/560 [==============================] - 92s 164ms/step - loss: 0.2208 - coeff_determination: 0.8026 - lr: 2.4414e-07 - rmse: 0.4686 - val_loss: 0.3177 - val_coeff_determination: 0.6657 - val_lr: 2.4414e-07 - val_rmse: 0.5634\n",
      "Epoch 89/150\n",
      "560/560 [==============================] - 92s 164ms/step - loss: 0.2197 - coeff_determination: 0.8028 - lr: 2.4414e-07 - rmse: 0.4673 - val_loss: 0.3178 - val_coeff_determination: 0.6657 - val_lr: 2.4414e-07 - val_rmse: 0.5635\n",
      "Epoch 90/150\n",
      "560/560 [==============================] - 92s 164ms/step - loss: 0.2207 - coeff_determination: 0.8029 - lr: 1.2207e-07 - rmse: 0.4684 - val_loss: 0.3168 - val_coeff_determination: 0.6667 - val_lr: 1.2207e-07 - val_rmse: 0.5626\n",
      "Epoch 91/150\n",
      "560/560 [==============================] - 92s 164ms/step - loss: 0.2214 - coeff_determination: 0.8028 - lr: 1.2207e-07 - rmse: 0.4693 - val_loss: 0.3165 - val_coeff_determination: 0.6670 - val_lr: 1.2207e-07 - val_rmse: 0.5623\n",
      "Epoch 92/150\n",
      "560/560 [==============================] - 92s 165ms/step - loss: 0.2213 - coeff_determination: 0.8015 - lr: 1.2207e-07 - rmse: 0.4692 - val_loss: 0.3171 - val_coeff_determination: 0.6663 - val_lr: 1.2207e-07 - val_rmse: 0.5629\n",
      "Epoch 93/150\n",
      "560/560 [==============================] - 92s 164ms/step - loss: 0.2197 - coeff_determination: 0.8046 - lr: 1.2207e-07 - rmse: 0.4674 - val_loss: 0.3170 - val_coeff_determination: 0.6665 - val_lr: 1.2207e-07 - val_rmse: 0.5628\n",
      "Epoch 94/150\n",
      "560/560 [==============================] - 92s 164ms/step - loss: 0.2188 - coeff_determination: 0.8029 - lr: 1.2207e-07 - rmse: 0.4664 - val_loss: 0.3168 - val_coeff_determination: 0.6667 - val_lr: 1.2207e-07 - val_rmse: 0.5626\n",
      "Epoch 95/150\n",
      "560/560 [==============================] - 92s 164ms/step - loss: 0.2209 - coeff_determination: 0.8019 - lr: 6.1035e-08 - rmse: 0.4686 - val_loss: 0.3169 - val_coeff_determination: 0.6666 - val_lr: 6.1035e-08 - val_rmse: 0.5627\n",
      "Epoch 96/150\n",
      "560/560 [==============================] - 92s 164ms/step - loss: 0.2206 - coeff_determination: 0.8034 - lr: 6.1035e-08 - rmse: 0.4682 - val_loss: 0.3176 - val_coeff_determination: 0.6658 - val_lr: 6.1035e-08 - val_rmse: 0.5633\n",
      "Epoch 97/150\n",
      "560/560 [==============================] - 92s 164ms/step - loss: 0.2207 - coeff_determination: 0.8018 - lr: 6.1035e-08 - rmse: 0.4685 - val_loss: 0.3168 - val_coeff_determination: 0.6667 - val_lr: 6.1035e-08 - val_rmse: 0.5626\n",
      "Epoch 98/150\n",
      "560/560 [==============================] - 92s 164ms/step - loss: 0.2213 - coeff_determination: 0.8006 - lr: 6.1035e-08 - rmse: 0.4688 - val_loss: 0.3177 - val_coeff_determination: 0.6658 - val_lr: 6.1035e-08 - val_rmse: 0.5634\n",
      "Epoch 99/150\n",
      "560/560 [==============================] - 92s 164ms/step - loss: 0.2203 - coeff_determination: 0.8040 - lr: 6.1035e-08 - rmse: 0.4680 - val_loss: 0.3178 - val_coeff_determination: 0.6656 - val_lr: 6.1035e-08 - val_rmse: 0.5635\n",
      "Epoch 100/150\n",
      "560/560 [==============================] - 92s 164ms/step - loss: 0.2208 - coeff_determination: 0.8024 - lr: 3.0518e-08 - rmse: 0.4685 - val_loss: 0.3174 - val_coeff_determination: 0.6661 - val_lr: 3.0518e-08 - val_rmse: 0.5631\n",
      "Epoch 101/150\n",
      "560/560 [==============================] - 92s 164ms/step - loss: 0.2208 - coeff_determination: 0.8022 - lr: 3.0518e-08 - rmse: 0.4685 - val_loss: 0.3171 - val_coeff_determination: 0.6663 - val_lr: 3.0518e-08 - val_rmse: 0.5629\n",
      "Epoch 102/150\n",
      "560/560 [==============================] - 92s 164ms/step - loss: 0.2193 - coeff_determination: 0.8034 - lr: 3.0518e-08 - rmse: 0.4669 - val_loss: 0.3171 - val_coeff_determination: 0.6664 - val_lr: 3.0518e-08 - val_rmse: 0.5629\n",
      "Epoch 103/150\n"
     ]
    },
    {
     "name": "stdout",
     "output_type": "stream",
     "text": [
      "560/560 [==============================] - 92s 164ms/step - loss: 0.2213 - coeff_determination: 0.8023 - lr: 3.0518e-08 - rmse: 0.4691 - val_loss: 0.3169 - val_coeff_determination: 0.6666 - val_lr: 3.0518e-08 - val_rmse: 0.5627\n",
      "Epoch 104/150\n",
      "560/560 [==============================] - 92s 164ms/step - loss: 0.2193 - coeff_determination: 0.8029 - lr: 3.0518e-08 - rmse: 0.4669 - val_loss: 0.3172 - val_coeff_determination: 0.6662 - val_lr: 3.0518e-08 - val_rmse: 0.5630\n",
      "Epoch 105/150\n",
      "560/560 [==============================] - 92s 164ms/step - loss: 0.2198 - coeff_determination: 0.8024 - lr: 1.5259e-08 - rmse: 0.4676 - val_loss: 0.3173 - val_coeff_determination: 0.6661 - val_lr: 1.5259e-08 - val_rmse: 0.5631\n",
      "Epoch 106/150\n",
      "560/560 [==============================] - 92s 164ms/step - loss: 0.2211 - coeff_determination: 0.8034 - lr: 1.5259e-08 - rmse: 0.4688 - val_loss: 0.3173 - val_coeff_determination: 0.6662 - val_lr: 1.5259e-08 - val_rmse: 0.5630\n",
      "Epoch 107/150\n",
      "560/560 [==============================] - 92s 164ms/step - loss: 0.2180 - coeff_determination: 0.8043 - lr: 1.5259e-08 - rmse: 0.4655 - val_loss: 0.3172 - val_coeff_determination: 0.6663 - val_lr: 1.5259e-08 - val_rmse: 0.5630\n",
      "Epoch 108/150\n",
      "560/560 [==============================] - 92s 164ms/step - loss: 0.2208 - coeff_determination: 0.8030 - lr: 1.5259e-08 - rmse: 0.4686 - val_loss: 0.3173 - val_coeff_determination: 0.6661 - val_lr: 1.5259e-08 - val_rmse: 0.5631\n",
      "Epoch 109/150\n",
      "560/560 [==============================] - 92s 164ms/step - loss: 0.2205 - coeff_determination: 0.8021 - lr: 1.5259e-08 - rmse: 0.4681 - val_loss: 0.3173 - val_coeff_determination: 0.6661 - val_lr: 1.5259e-08 - val_rmse: 0.5631\n",
      "Epoch 110/150\n",
      "560/560 [==============================] - 92s 164ms/step - loss: 0.2214 - coeff_determination: 0.8017 - lr: 7.6294e-09 - rmse: 0.4691 - val_loss: 0.3172 - val_coeff_determination: 0.6662 - val_lr: 7.6294e-09 - val_rmse: 0.5630\n",
      "Epoch 111/150\n",
      "560/560 [==============================] - 92s 164ms/step - loss: 0.2188 - coeff_determination: 0.8037 - lr: 7.6294e-09 - rmse: 0.4662 - val_loss: 0.3173 - val_coeff_determination: 0.6662 - val_lr: 7.6294e-09 - val_rmse: 0.5630\n",
      "Epoch 112/150\n",
      "560/560 [==============================] - 92s 164ms/step - loss: 0.2203 - coeff_determination: 0.8039 - lr: 7.6294e-09 - rmse: 0.4680 - val_loss: 0.3172 - val_coeff_determination: 0.6662 - val_lr: 7.6294e-09 - val_rmse: 0.5630\n",
      "Epoch 113/150\n",
      "560/560 [==============================] - 92s 164ms/step - loss: 0.2200 - coeff_determination: 0.8022 - lr: 7.6294e-09 - rmse: 0.4677 - val_loss: 0.3173 - val_coeff_determination: 0.6662 - val_lr: 7.6294e-09 - val_rmse: 0.5630\n",
      "Epoch 114/150\n",
      "560/560 [==============================] - 92s 164ms/step - loss: 0.2203 - coeff_determination: 0.8020 - lr: 7.6294e-09 - rmse: 0.4680 - val_loss: 0.3173 - val_coeff_determination: 0.6662 - val_lr: 7.6294e-09 - val_rmse: 0.5630\n",
      "Epoch 115/150\n",
      "560/560 [==============================] - 92s 164ms/step - loss: 0.2206 - coeff_determination: 0.8027 - lr: 3.8147e-09 - rmse: 0.4682 - val_loss: 0.3173 - val_coeff_determination: 0.6662 - val_lr: 3.8147e-09 - val_rmse: 0.5630\n",
      "Epoch 116/150\n",
      "560/560 [==============================] - 92s 164ms/step - loss: 0.2207 - coeff_determination: 0.8021 - lr: 3.8147e-09 - rmse: 0.4683 - val_loss: 0.3173 - val_coeff_determination: 0.6662 - val_lr: 3.8147e-09 - val_rmse: 0.5630\n",
      "Epoch 117/150\n",
      "560/560 [==============================] - 92s 164ms/step - loss: 0.2197 - coeff_determination: 0.8029 - lr: 3.8147e-09 - rmse: 0.4673 - val_loss: 0.3173 - val_coeff_determination: 0.6662 - val_lr: 3.8147e-09 - val_rmse: 0.5630\n",
      "Epoch 118/150\n",
      "560/560 [==============================] - 92s 164ms/step - loss: 0.2222 - coeff_determination: 0.8020 - lr: 3.8147e-09 - rmse: 0.4699 - val_loss: 0.3172 - val_coeff_determination: 0.6662 - val_lr: 3.8147e-09 - val_rmse: 0.5630\n",
      "Epoch 119/150\n",
      "560/560 [==============================] - 92s 164ms/step - loss: 0.2189 - coeff_determination: 0.8024 - lr: 3.8147e-09 - rmse: 0.4664 - val_loss: 0.3172 - val_coeff_determination: 0.6662 - val_lr: 3.8147e-09 - val_rmse: 0.5630\n",
      "Epoch 120/150\n",
      "560/560 [==============================] - 92s 164ms/step - loss: 0.2223 - coeff_determination: 0.8018 - lr: 1.9073e-09 - rmse: 0.4701 - val_loss: 0.3172 - val_coeff_determination: 0.6662 - val_lr: 1.9073e-09 - val_rmse: 0.5630\n",
      "Epoch 121/150\n",
      "560/560 [==============================] - 92s 164ms/step - loss: 0.2213 - coeff_determination: 0.8021 - lr: 1.9073e-09 - rmse: 0.4688 - val_loss: 0.3172 - val_coeff_determination: 0.6662 - val_lr: 1.9073e-09 - val_rmse: 0.5630\n",
      "Epoch 122/150\n",
      "560/560 [==============================] - 92s 164ms/step - loss: 0.2188 - coeff_determination: 0.8036 - lr: 1.9073e-09 - rmse: 0.4665 - val_loss: 0.3172 - val_coeff_determination: 0.6662 - val_lr: 1.9073e-09 - val_rmse: 0.5630\n",
      "Epoch 123/150\n",
      "560/560 [==============================] - 92s 164ms/step - loss: 0.2203 - coeff_determination: 0.8033 - lr: 1.9073e-09 - rmse: 0.4681 - val_loss: 0.3172 - val_coeff_determination: 0.6662 - val_lr: 1.9073e-09 - val_rmse: 0.5630\n",
      "Epoch 124/150\n",
      "560/560 [==============================] - 92s 164ms/step - loss: 0.2196 - coeff_determination: 0.8029 - lr: 1.9073e-09 - rmse: 0.4672 - val_loss: 0.3172 - val_coeff_determination: 0.6662 - val_lr: 1.9073e-09 - val_rmse: 0.5630\n",
      "Epoch 125/150\n",
      "560/560 [==============================] - 92s 164ms/step - loss: 0.2209 - coeff_determination: 0.8028 - lr: 9.5367e-10 - rmse: 0.4688 - val_loss: 0.3172 - val_coeff_determination: 0.6662 - val_lr: 9.5367e-10 - val_rmse: 0.5630\n",
      "Epoch 126/150\n",
      "560/560 [==============================] - 92s 164ms/step - loss: 0.2196 - coeff_determination: 0.8036 - lr: 9.5367e-10 - rmse: 0.4672 - val_loss: 0.3172 - val_coeff_determination: 0.6662 - val_lr: 9.5367e-10 - val_rmse: 0.5630\n",
      "Epoch 127/150\n",
      "560/560 [==============================] - 92s 164ms/step - loss: 0.2198 - coeff_determination: 0.8037 - lr: 9.5367e-10 - rmse: 0.4675 - val_loss: 0.3172 - val_coeff_determination: 0.6662 - val_lr: 9.5367e-10 - val_rmse: 0.5630\n",
      "Epoch 128/150\n",
      "560/560 [==============================] - 92s 164ms/step - loss: 0.2180 - coeff_determination: 0.8046 - lr: 9.5367e-10 - rmse: 0.4656 - val_loss: 0.3172 - val_coeff_determination: 0.6662 - val_lr: 9.5367e-10 - val_rmse: 0.5630\n",
      "Epoch 129/150\n",
      "560/560 [==============================] - 92s 164ms/step - loss: 0.2215 - coeff_determination: 0.8015 - lr: 9.5367e-10 - rmse: 0.4692 - val_loss: 0.3172 - val_coeff_determination: 0.6662 - val_lr: 9.5367e-10 - val_rmse: 0.5630\n",
      "Epoch 130/150\n",
      "560/560 [==============================] - 92s 164ms/step - loss: 0.2195 - coeff_determination: 0.8033 - lr: 4.7684e-10 - rmse: 0.4671 - val_loss: 0.3172 - val_coeff_determination: 0.6662 - val_lr: 4.7684e-10 - val_rmse: 0.5630\n",
      "Epoch 131/150\n",
      "560/560 [==============================] - 92s 164ms/step - loss: 0.2186 - coeff_determination: 0.8045 - lr: 4.7684e-10 - rmse: 0.4661 - val_loss: 0.3172 - val_coeff_determination: 0.6662 - val_lr: 4.7684e-10 - val_rmse: 0.5630\n",
      "Epoch 132/150\n",
      "560/560 [==============================] - 93s 165ms/step - loss: 0.2172 - coeff_determination: 0.8049 - lr: 4.7684e-10 - rmse: 0.4648 - val_loss: 0.3172 - val_coeff_determination: 0.6662 - val_lr: 4.7684e-10 - val_rmse: 0.5630\n",
      "Epoch 133/150\n",
      "560/560 [==============================] - 92s 164ms/step - loss: 0.2204 - coeff_determination: 0.8031 - lr: 4.7684e-10 - rmse: 0.4680 - val_loss: 0.3172 - val_coeff_determination: 0.6662 - val_lr: 4.7684e-10 - val_rmse: 0.5630\n",
      "Epoch 134/150\n",
      "560/560 [==============================] - 92s 164ms/step - loss: 0.2216 - coeff_determination: 0.8021 - lr: 4.7684e-10 - rmse: 0.4692 - val_loss: 0.3172 - val_coeff_determination: 0.6662 - val_lr: 4.7684e-10 - val_rmse: 0.5630\n",
      "Epoch 135/150\n",
      "560/560 [==============================] - 92s 164ms/step - loss: 0.2207 - coeff_determination: 0.8025 - lr: 2.3842e-10 - rmse: 0.4685 - val_loss: 0.3172 - val_coeff_determination: 0.6662 - val_lr: 2.3842e-10 - val_rmse: 0.5630\n",
      "Epoch 136/150\n",
      "560/560 [==============================] - 92s 164ms/step - loss: 0.2212 - coeff_determination: 0.8017 - lr: 2.3842e-10 - rmse: 0.4689 - val_loss: 0.3172 - val_coeff_determination: 0.6662 - val_lr: 2.3842e-10 - val_rmse: 0.5630\n"
     ]
    },
    {
     "name": "stdout",
     "output_type": "stream",
     "text": [
      "Epoch 137/150\n",
      "560/560 [==============================] - 92s 164ms/step - loss: 0.2209 - coeff_determination: 0.8032 - lr: 2.3842e-10 - rmse: 0.4687 - val_loss: 0.3172 - val_coeff_determination: 0.6662 - val_lr: 2.3842e-10 - val_rmse: 0.5630\n",
      "Epoch 138/150\n",
      "560/560 [==============================] - 92s 164ms/step - loss: 0.2192 - coeff_determination: 0.8037 - lr: 2.3842e-10 - rmse: 0.4668 - val_loss: 0.3172 - val_coeff_determination: 0.6662 - val_lr: 2.3842e-10 - val_rmse: 0.5630\n",
      "Epoch 139/150\n",
      "560/560 [==============================] - 92s 164ms/step - loss: 0.2203 - coeff_determination: 0.8025 - lr: 2.3842e-10 - rmse: 0.4680 - val_loss: 0.3172 - val_coeff_determination: 0.6662 - val_lr: 2.3842e-10 - val_rmse: 0.5630\n",
      "Epoch 140/150\n",
      "560/560 [==============================] - 92s 164ms/step - loss: 0.2204 - coeff_determination: 0.8027 - lr: 1.1921e-10 - rmse: 0.4682 - val_loss: 0.3172 - val_coeff_determination: 0.6662 - val_lr: 1.1921e-10 - val_rmse: 0.5630\n",
      "Epoch 141/150\n",
      "560/560 [==============================] - 92s 164ms/step - loss: 0.2204 - coeff_determination: 0.8030 - lr: 1.1921e-10 - rmse: 0.4681 - val_loss: 0.3172 - val_coeff_determination: 0.6662 - val_lr: 1.1921e-10 - val_rmse: 0.5630\n",
      "Epoch 142/150\n",
      "560/560 [==============================] - 92s 164ms/step - loss: 0.2187 - coeff_determination: 0.8041 - lr: 1.1921e-10 - rmse: 0.4662 - val_loss: 0.3172 - val_coeff_determination: 0.6662 - val_lr: 1.1921e-10 - val_rmse: 0.5630\n",
      "Epoch 143/150\n",
      "560/560 [==============================] - 92s 164ms/step - loss: 0.2190 - coeff_determination: 0.8037 - lr: 1.1921e-10 - rmse: 0.4667 - val_loss: 0.3172 - val_coeff_determination: 0.6662 - val_lr: 1.1921e-10 - val_rmse: 0.5630\n",
      "Epoch 144/150\n",
      "560/560 [==============================] - 92s 165ms/step - loss: 0.2218 - coeff_determination: 0.8018 - lr: 1.1921e-10 - rmse: 0.4696 - val_loss: 0.3172 - val_coeff_determination: 0.6662 - val_lr: 1.1921e-10 - val_rmse: 0.5630\n",
      "Epoch 145/150\n",
      "560/560 [==============================] - 92s 165ms/step - loss: 0.2206 - coeff_determination: 0.8033 - lr: 5.9605e-11 - rmse: 0.4682 - val_loss: 0.3172 - val_coeff_determination: 0.6662 - val_lr: 5.9605e-11 - val_rmse: 0.5630\n",
      "Epoch 146/150\n",
      "560/560 [==============================] - 92s 164ms/step - loss: 0.2192 - coeff_determination: 0.8030 - lr: 5.9605e-11 - rmse: 0.4667 - val_loss: 0.3172 - val_coeff_determination: 0.6662 - val_lr: 5.9605e-11 - val_rmse: 0.5630\n",
      "Epoch 147/150\n",
      "560/560 [==============================] - 92s 164ms/step - loss: 0.2204 - coeff_determination: 0.8020 - lr: 5.9605e-11 - rmse: 0.4681 - val_loss: 0.3172 - val_coeff_determination: 0.6662 - val_lr: 5.9605e-11 - val_rmse: 0.5630\n",
      "Epoch 148/150\n",
      "560/560 [==============================] - 92s 164ms/step - loss: 0.2195 - coeff_determination: 0.8042 - lr: 5.9605e-11 - rmse: 0.4670 - val_loss: 0.3172 - val_coeff_determination: 0.6662 - val_lr: 5.9605e-11 - val_rmse: 0.5630\n",
      "Epoch 149/150\n",
      "560/560 [==============================] - 92s 164ms/step - loss: 0.2220 - coeff_determination: 0.8014 - lr: 5.9605e-11 - rmse: 0.4698 - val_loss: 0.3172 - val_coeff_determination: 0.6662 - val_lr: 5.9605e-11 - val_rmse: 0.5630\n",
      "Epoch 150/150\n",
      "560/560 [==============================] - 92s 164ms/step - loss: 0.2208 - coeff_determination: 0.8021 - lr: 2.9802e-11 - rmse: 0.4687 - val_loss: 0.3172 - val_coeff_determination: 0.6662 - val_lr: 2.9802e-11 - val_rmse: 0.5630\n"
     ]
    }
   ],
   "source": [
    "#Concatenate for longer epochs\n",
    "Xt = np.concatenate([X_train]*50, axis=0)\n",
    "yt = np.concatenate([y_train]*50, axis=0)\n",
    " \n",
    "batch_size=128\n",
    "\n",
    "g = generator.flow(Xt, yt, batch_size=batch_size, shuffle=True)\n",
    "steps_per_epoch = 10000/batch_size\n",
    "\n",
    "\n",
    "\n",
    "callbacks_list = [\n",
    "    ReduceLROnPlateau(monitor='val_loss', factor=0.5, patience=5, min_lr=1e-15, verbose=0, mode='auto',cooldown=0),\n",
    "    ModelCheckpoint(filepath=\"weights.best.hdf5\", monitor='val_loss', save_best_only=True, verbose=0, mode='auto')\n",
    "    \n",
    "]\n",
    "\n",
    "\n",
    "\n",
    "history =model.fit_generator(g,\n",
    "                              steps_per_epoch=len(Xt)//batch_size,\n",
    "                              epochs=150,\n",
    "                              validation_data=(X_test,y_test),verbose=1,\n",
    "                              callbacks=callbacks_list)"
   ]
  },
  {
   "cell_type": "code",
   "execution_count": 21,
   "metadata": {},
   "outputs": [
    {
     "name": "stderr",
     "output_type": "stream",
     "text": [
      "/home/ubuntu/anaconda3/envs/tensorflow_p36/lib/python3.6/site-packages/matplotlib/figure.py:98: MatplotlibDeprecationWarning: \n",
      "Adding an axes using the same arguments as a previous axes currently reuses the earlier instance.  In a future version, a new instance will always be created and returned.  Meanwhile, this warning can be suppressed, and the future behavior ensured, by passing a unique label to each axes instance.\n",
      "  \"Adding an axes using the same arguments as a previous axes \"\n",
      "No handles with labels found to put in legend.\n",
      "No handles with labels found to put in legend.\n"
     ]
    },
    {
     "data": {
      "image/png": "[encoded data removed]",
      "text/plain": [
       "<Figure size 720x576 with 4 Axes>"
      ]
     },
     "metadata": {},
     "output_type": "display_data"
    }
   ],
   "source": [
    "hist = history.history\n",
    "\n",
    "plt.figure(figsize=(10, 8))\n",
    "\n",
    "for label in ['val_coeff_determination','coeff_determination']:\n",
    "    plt.subplot(221)\n",
    "    plt.plot(hist[label], label = label)\n",
    "    plt.legend()\n",
    "    plt.xlabel(\"Epochs\")\n",
    "    plt.ylabel(\"coeff_determination\")\n",
    "    \n",
    "for label in ['val_loss','loss']:\n",
    "    plt.subplot(222)\n",
    "    plt.plot(hist[label], label = label)\n",
    "    plt.legend()\n",
    "    plt.xlabel(\"Epochs\")\n",
    "    plt.ylabel(\"loss\")\n",
    "\n",
    "\n",
    "\n",
    "plt.subplot(223)\n",
    "plt.plot( hist['lr'],hist['val_coeff_determination']  )\n",
    "plt.legend()\n",
    "plt.xlabel(\"lr\")\n",
    "plt.ylabel(\"val_coeff_determination\")\n",
    "\n",
    "\n",
    "plt.subplot(224)\n",
    "plt.plot( hist['lr'],hist['val_loss']  )\n",
    "plt.legend()\n",
    "plt.xlabel(\"lr\")\n",
    "plt.ylabel(\"val_loss\")\n",
    "\n",
    "    \n",
    "plt.subplots_adjust(top=0.92, bottom=0.08, left=0.10, right=0.95, hspace=0.25,\n",
    "                    wspace=0.35)"
   ]
  },
  {
   "cell_type": "code",
   "execution_count": null,
   "metadata": {},
   "outputs": [],
   "source": []
  }
 ],
 "metadata": {
  "kernelspec": {
   "display_name": "Python 3",
   "language": "python",
   "name": "python3"
  },
  "language_info": {
   "codemirror_mode": {
    "name": "ipython",
    "version": 3
   },
   "file_extension": ".py",
   "mimetype": "text/x-python",
   "name": "python",
   "nbconvert_exporter": "python",
   "pygments_lexer": "ipython3",
   "version": "3.6.5"
  }
 },
 "nbformat": 4,
 "nbformat_minor": 2
}
